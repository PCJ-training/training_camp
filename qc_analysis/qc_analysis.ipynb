{
 "cells": [
  {
   "cell_type": "code",
   "execution_count": 1,
   "metadata": {
    "collapsed": true
   },
   "outputs": [],
   "source": [
    "import glob\n",
    "import os\n",
    "\n",
    "import mini_ataqc"
   ]
  },
  {
   "cell_type": "code",
   "execution_count": 5,
   "metadata": {
    "collapsed": false
   },
   "outputs": [],
   "source": [
    "QCPLOTS_DIR = 'qc_plots/'\n",
    "\n",
    "DATA_DIR = '/srv/scratch/shared/nandi/projects/training-camp-2016/run/'\n",
    "\n",
    "WEBSITE_DIR = '/srv/www/kundaje/training_camp_2016/'\n",
    "WEBSITE_QCPLOTS_DIR = os.path.join(WEBSITE_DIR, QCPLOTS_DIR)\n",
    "\n",
    "SAMPLE_DIRS = glob.glob(os.path.join(DATA_DIR, '*'))\n",
    "SAMPLE_NAMES = list(map(os.path.basename, SAMPLE_DIRS))\n",
    "\n",
    "TSS_FILE = 'sacCer3_Ensemble_TSS.bed'\n",
    "CHR_SIZES = '/mnt/data/bds_pipeline_genome_data/saccer3/sacCer3.chrom.sizes'\n",
    "\n",
    "READ_LEN = 77"
   ]
  },
  {
   "cell_type": "code",
   "execution_count": 4,
   "metadata": {
    "collapsed": false
   },
   "outputs": [
    {
     "name": "stdout",
     "output_type": "stream",
     "text": [
      "Running vplot for sample Mz-3h\n"
     ]
    },
    {
     "name": "stderr",
     "output_type": "stream",
     "text": [
      "/usr/local/lib/python2.7/dist-packages/matplotlib/collections.py:590: FutureWarning: elementwise comparison failed; returning scalar instead, but in the future will perform elementwise comparison\n",
      "  if self._edgecolors == str('face'):\n"
     ]
    },
    {
     "name": "stdout",
     "output_type": "stream",
     "text": [
      "Running insert metrics for sample Mz-3h\n",
      "Running vplot for sample DMSO-1h\n",
      "Running insert metrics for sample DMSO-1h\n",
      "Running vplot for sample Ct-3h\n",
      "Running insert metrics for sample Ct-3h\n",
      "Running vplot for sample Cz-1h\n",
      "Running insert metrics for sample Cz-1h\n",
      "Running vplot for sample Ct-1h\n",
      "Running insert metrics for sample Ct-1h\n",
      "Running vplot for sample Kz-1h\n",
      "Running insert metrics for sample Kz-1h\n",
      "Running vplot for sample Cu-1h\n",
      "Running insert metrics for sample Cu-1h\n",
      "Running vplot for sample WT-3h\n",
      "Running insert metrics for sample WT-3h\n",
      "Running vplot for sample Kz-3h\n",
      "Running insert metrics for sample Kz-3h\n",
      "Running vplot for sample Cu-3h\n",
      "Running insert metrics for sample Cu-3h\n",
      "Running vplot for sample DMSO-3h\n"
     ]
    },
    {
     "name": "stderr",
     "output_type": "stream",
     "text": [
      "/usr/local/lib/python2.7/dist-packages/matplotlib/pyplot.py:424: RuntimeWarning: More than 20 figures have been opened. Figures created through the pyplot interface (`matplotlib.pyplot.figure`) are retained until explicitly closed and may consume too much memory. (To control this warning, see the rcParam `figure.max_open_warning`).\n",
      "  max_open_warning, RuntimeWarning)\n"
     ]
    },
    {
     "name": "stdout",
     "output_type": "stream",
     "text": [
      "Running insert metrics for sample DMSO-3h\n",
      "Running vplot for sample Mz-1h\n",
      "Running insert metrics for sample Mz-1h\n",
      "Running vplot for sample Cz-3h\n",
      "Running insert metrics for sample Cz-3h\n",
      "Running vplot for sample WT-1h\n",
      "Running insert metrics for sample WT-1h\n"
     ]
    }
   ],
   "source": [
    "final_bams = glob.glob(os.path.join(DATA_DIR, '*/out/align/rep1/*trim.PE2SE.nodup.bam'))\n",
    "\n",
    "for final_bam in final_bams:\n",
    "    \n",
    "    fname_prefix = os.path.basename(final_bam).split('_')[0]\n",
    "    output_prefix = os.path.join(QCPLOTS_DIR, fname_prefix)\n",
    "    \n",
    "    print('Running vplot for sample {}'.format(fname_prefix))\n",
    "    \n",
    "    mini_ataqc.make_vplot(final_bam, TSS_FILE, output_prefix, CHR_SIZES, READ_LEN, bins=400, bp_edge=2000,\n",
    "               processes=8, greenleaf_norm=True)\n",
    "    \n",
    "    print('Running insert metrics for sample {}'.format(fname_prefix))\n",
    "    \n",
    "    mini_ataqc.get_insert_distribution(final_bam, output_prefix)"
   ]
  },
  {
   "cell_type": "code",
   "execution_count": 10,
   "metadata": {
    "collapsed": false
   },
   "outputs": [],
   "source": [
    "! cp -r {QCPLOTS_DIR} {WEBSITE_QCPLOTS_DIR}"
   ]
  },
  {
   "cell_type": "code",
   "execution_count": null,
   "metadata": {
    "collapsed": true
   },
   "outputs": [],
   "source": []
  }
 ],
 "metadata": {
  "kernelspec": {
   "display_name": "Python 2",
   "language": "python",
   "name": "python2"
  },
  "language_info": {
   "codemirror_mode": {
    "name": "ipython",
    "version": 2
   },
   "file_extension": ".py",
   "mimetype": "text/x-python",
   "name": "python",
   "nbconvert_exporter": "python",
   "pygments_lexer": "ipython2",
   "version": "2.7.6"
  }
 },
 "nbformat": 4,
 "nbformat_minor": 0
}
