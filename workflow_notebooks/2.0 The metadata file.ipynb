{
 "cells": [
  {
   "cell_type": "markdown",
   "metadata": {},
   "source": [
    "# The metadata file #"
   ]
  },
  {
   "cell_type": "markdown",
   "metadata": {},
   "source": [
    "This is a short section, but given its importance, it gets its own page on the wiki.\n",
    "\n",
    "For every project you work on, it is absolutely essential to have a metadata sheet describing your data, and use it every time you perform operations on your data. You should NEVER perform operations involving multiple data files in your data \"by hand\", because that is NOT reproducible research."
   ]
  },
  {
   "cell_type": "markdown",
   "metadata": {},
   "source": [
    "## The metadata file ##"
   ]
  },
  {
   "cell_type": "markdown",
   "metadata": {},
   "source": [
    "For instance, in our project, the metadata file is located at **$METADATA_DIR/TC2016_samples.tsv** "
   ]
  },
  {
   "cell_type": "markdown",
   "metadata": {},
   "source": [
    "| Sample_ID | Sample_Name | Index    | Index2   |\n",
    "|-----------|-------------|----------|----------|\n",
    "| 300A      | Cz_300      | TAAGGCGA | TAGATCGC |\n",
    "| 300B      | Mz_300      | CGTACTAG | TAGATCGC |\n",
    "| 300C      | Ct_300      | AGGCAGAA | TAGATCGC |\n",
    "| 300D      | Kz_300      | TCCTGAGC | TAGATCGC |\n",
    "| 300F      | It_300      | GGACTCCT | TAGATCGC |\n",
    "| 300Z      | DMSO_1      | TAGGCATG | TAGATCGC |\n",
    "| 800A      | Cz_800      | TAAGGCGA | CTCTCTAT |\n",
    "| 800B      | Mz_800      | CGTACTAG | CTCTCTAT |\n",
    "| 800C      | Ct_800      | AGGCAGAA | CTCTCTAT |\n",
    "| 800D      | Kz_800      | TCCTGAGC | CTCTCTAT |\n",
    "| 800E      | It_800      | GGACTCCT | CTCTCTAT |\n",
    "| 800F      | DMSO_2      | TAGGCATG | CTCTCTAT |\n",
    "| 1         | Kt_1        | TAAGGCGA | TATCCTCT |\n",
    "| 2         | Kt_2        | CGTACTAG | TATCCTCT |\n",
    "| 3         | Kt_3        | AGGCAGAA | TATCCTCT |\n",
    "| 4         | Cz_1        | TCCTGAGC | TATCCTCT |\n",
    "| 5         | Cz_2        | GGACTCCT | TATCCTCT |\n",
    "| 6         | Cz_3        | TAGGCATG | TATCCTCT |\n",
    "| 7         | Mz_1        | CTCTCTAC | TATCCTCT |\n",
    "| 8         | Mz_2        | TAAGGCGA | AGAGTAGA |\n",
    "| 9         | Mz_3        | CGTACTAG | AGAGTAGA |\n",
    "| 10        | Ct_1        | AGGCAGAA | AGAGTAGA |\n",
    "| 11        | Ct_2        | TCCTGAGC | AGAGTAGA |\n",
    "| 12        | Ct_3        | GGACTCCT | AGAGTAGA |\n",
    "| 13        | It_1        | TAGGCATG | AGAGTAGA |\n",
    "| 14        | It_2        | CTCTCTAC | AGAGTAGA |\n",
    "| 15        | It_3        | TAAGGCGA | GTAAGGAG |\n",
    "| 16        | U_1         | CGTACTAG | GTAAGGAG |\n",
    "| 17        | U_2         | AGGCAGAA | GTAAGGAG |\n",
    "| 18        | U_3         | TCCTGAGC | GTAAGGAG |\n",
    "| 19        | DMSO_1      | GGACTCCT | GTAAGGAG |\n",
    "| 20        | DMSO_2      | CTCTCTAC | GTAAGGAG |"
   ]
  },
  {
   "cell_type": "markdown",
   "metadata": {},
   "source": [
    "You will see that the names of your sequencing files follow the format SampleName_L001_R1_001.fastq or SampleName_L001_R2_001.fastq."
   ]
  },
  {
   "cell_type": "markdown",
   "metadata": {},
   "source": [
    "## When will we use the metadata file? ##"
   ]
  },
  {
   "cell_type": "markdown",
   "metadata": {},
   "source": [
    "We will be using this metadata file when we merge the replicates corresponding to each condition."
   ]
  },
  {
   "cell_type": "code",
   "execution_count": null,
   "metadata": {
    "collapsed": true
   },
   "outputs": [],
   "source": []
  }
 ],
 "metadata": {
  "kernelspec": {
   "display_name": "Bash",
   "language": "bash",
   "name": "bash"
  },
  "language_info": {
   "codemirror_mode": "shell",
   "file_extension": ".sh",
   "mimetype": "text/x-sh",
   "name": "bash"
  }
 },
 "nbformat": 4,
 "nbformat_minor": 1
}
