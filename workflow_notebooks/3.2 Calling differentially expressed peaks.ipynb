{
 "cells": [
  {
   "cell_type": "markdown",
   "metadata": {},
   "source": [
    "# 3.2 Calling differentially expressed peaks"
   ]
  },
  {
   "cell_type": "markdown",
   "metadata": {},
   "source": [
    "### IMPORTANT: Please make sure that you are using the bash kernel to run this notebook. ###\n",
    "### IMPORTANT: Run the command below to git pull and make sure you are running the latest code!! ###\n",
    "#### (Do this at the beginning of every session) ###"
   ]
  },
  {
   "cell_type": "code",
   "execution_count": 6,
   "metadata": {
    "collapsed": false
   },
   "outputs": [
    {
     "name": "stdout",
     "output_type": "stream",
     "text": [
      "No local changes to save\r\n",
      "remote: Counting objects: 9, done.        \r\n",
      "remote: Compressing objects:  50% (1/2)           \r",
      "remote: Compressing objects: 100% (2/2)           \r",
      "remote: Compressing objects: 100% (2/2), done.        \r\n",
      "Unpacking objects:  11% (1/9)   \r",
      "Unpacking objects:  22% (2/9)   \r",
      "Unpacking objects:  33% (3/9)   \r",
      "Unpacking objects:  44% (4/9)   \r",
      "Unpacking objects:  55% (5/9)   \r",
      "Unpacking objects:  66% (6/9)   \r",
      "Unpacking objects:  77% (7/9)   \r",
      "remote: Total 9 (delta 7), reused 9 (delta 7), pack-reused 0        \r\n",
      "Unpacking objects:  88% (8/9)   \r",
      "Unpacking objects: 100% (9/9)   \r",
      "Unpacking objects: 100% (9/9), done.\r\n",
      "error: Unable to append to .git/logs/refs/remotes/origin/master: Permission denied\r\n",
      "From https://github.com/kundajelab/training_camp\r\n",
      " ! 810b995..7bc79fd  master     -> origin/master  (unable to update local ref)\r\n"
     ]
    }
   ],
   "source": [
    "cd /srv/scratch/training_camp/tc2016/`whoami`/src/training_camp\n",
    "git stash \n",
    "git pull "
   ]
  },
  {
   "cell_type": "code",
   "execution_count": 7,
   "metadata": {
    "collapsed": false
   },
   "outputs": [
    {
     "name": "stdout",
     "output_type": "stream",
     "text": []
    }
   ],
   "source": [
    "### Set up variables storing the location of our data\n",
    "### The proper way to load your variables is with the ~/.bashrc command, but this is very slow in iPython \n",
    "export SUNETID=\"$(whoami)\"\n",
    "export WORK_DIR=\"/srv/scratch/training_camp/tc2016/${SUNETID}\"\n",
    "export DATA_DIR=\"${WORK_DIR}/data\"\n",
    "export FASTQ_DIR=\"${DATA_DIR}/fastq/\"\n",
    "export SRC_DIR=\"${WORK_DIR}/src/training_camp/src/\"\n",
    "\n",
    "export ANALYSIS_DIR=\"${WORK_DIR}/analysis/\"\n",
    "export TRIMMED_DIR=\"$ANALYSIS_DIR/trimmed\"\n",
    "export ALIGNMENT_DIR=\"$ANALYSIS_DIR/aligned/\"\n",
    "export TAGALIGN_DIR=\"$ANALYSIS_DIR/tagAlign/\"\n",
    "export PEAKS_DIR=\"$ANALYSIS_DIR/peaks/\"\n",
    "export SIGNAL_DIR=\"${ANALYSIS_DIR}signal/\"\n",
    "export FOLDCHANGE_DIR=\"${SIGNAL_DIR}foldChange/\"\n",
    "export COUNTS_DIR=\"${SIGNAL_DIR}counts/\"\n",
    "\n",
    "export YEAST_DIR=\"/srv/scratch/training_camp/saccer3/seq\"\n",
    "export YEAST_INDEX=\"/srv/scratch/training_camp/saccer3/bowtie2_index/saccer3\"\n",
    "export YEAST_CHR=\"/srv/scratch/training_camp/saccer3/sacCer3.chrom.sizes\"\n",
    "\n",
    "export TMP=\"${WORK_DIR}/tmp\"\n",
    "export TEMP=$TMP \n",
    "export TMPDIR=$TMP\n",
    "\n",
    "export RLIBS=$RLIBS:\"/usr/local/lib/R/site-library\"\n",
    "export MASTER_DATA=\"/srv/scratch/training_camp/data\""
   ]
  },
  {
   "cell_type": "markdown",
   "metadata": {},
   "source": [
    "## Missing R packages "
   ]
  },
  {
   "cell_type": "markdown",
   "metadata": {},
   "source": [
    "When running the scripts in this section, if you get an error saying the gplots package has not been installed, you can install the package locally by  running the **3.5 Install R packages** notebook."
   ]
  },
  {
   "cell_type": "markdown",
   "metadata": {
    "collapsed": true
   },
   "source": [
    "## Running DESeq"
   ]
  },
  {
   "cell_type": "markdown",
   "metadata": {},
   "source": [
    "We first clean up the column names in the counts.tab file located in **$SIGNAL_DIR**: "
   ]
  },
  {
   "cell_type": "code",
   "execution_count": 8,
   "metadata": {
    "collapsed": false
   },
   "outputs": [
    {
     "name": "stdout",
     "output_type": "stream",
     "text": []
    }
   ],
   "source": [
    "cd $SIGNAL_DIR\n",
    "perl -i\".bak\" -pe '$_ = $.==1 ? do {$_ =~ s/\\/[^\\s]+\\//samp/g; $_ =~ s/\\\"//g; $_ =~ s/\\-/\\./g; $_} : $_' $MASTER_DATA/counts.tab\n",
    "sed -i 's/\\_R1.trimmed.nodup.count//g' $MASTER_DATA/counts.tab"
   ]
  },
  {
   "cell_type": "markdown",
   "metadata": {},
   "source": [
    "Now, we run DESeq with the following script: "
   ]
  },
  {
   "cell_type": "code",
   "execution_count": 11,
   "metadata": {
    "collapsed": false
   },
   "outputs": [
    {
     "name": "stdout",
     "output_type": "stream",
     "text": [
      "locfit 1.5-9.1 \t 2013-03-22\r\n",
      "Loading required package: BiocGenerics\r\n",
      "Loading required package: methods\r\n",
      "Loading required package: parallel\r\n",
      "\r\n",
      "Attaching package: ‘BiocGenerics’\r\n",
      "\r\n",
      "The following objects are masked from ‘package:parallel’:\r\n",
      "\r\n",
      "    clusterApply, clusterApplyLB, clusterCall, clusterEvalQ,\r\n",
      "    clusterExport, clusterMap, parApply, parCapply, parLapply,\r\n",
      "    parLapplyLB, parRapply, parSapply, parSapplyLB\r\n",
      "\r\n",
      "The following objects are masked from ‘package:stats’:\r\n",
      "\r\n",
      "    IQR, mad, xtabs\r\n",
      "\r\n",
      "The following objects are masked from ‘package:base’:\r\n",
      "\r\n",
      "    anyDuplicated, append, as.data.frame, cbind, colnames, do.call,\r\n",
      "    duplicated, eval, evalq, Filter, Find, get, grep, grepl, intersect,\r\n",
      "    is.unsorted, lapply, lengths, Map, mapply, match, mget, order,\r\n",
      "    paste, pmax, pmax.int, pmin, pmin.int, Position, rank, rbind,\r\n",
      "    Reduce, rownames, sapply, setdiff, sort, table, tapply, union,\r\n",
      "    unique, unsplit\r\n",
      "\r\n",
      "Loading required package: Biobase\r\n",
      "Welcome to Bioconductor\r\n",
      "\r\n",
      "    Vignettes contain introductory material; view with\r\n",
      "    'browseVignettes()'. To cite Bioconductor, see\r\n",
      "    'citation(\"Biobase\")', and for packages 'citation(\"pkgname\")'.\r\n",
      "\r\n",
      "Loading required package: lattice\r\n",
      "    Welcome to 'DESeq'. For improved performance, usability and\r\n",
      "    functionality, please consider migrating to 'DESeq2'.\r\n",
      " [1] \"Ct\" \"Ct\" \"Ct\" \"Ct\" \"Ct\" \"Cz\" \"Cz\" \"Cz\" \"Cz\" \"Cz\"\r\n",
      " [1] \"Ct_1_S22\"  \"Ct_2_S23\"  \"Ct_3_S24\"  \"Ct_300_S3\" \"Ct_800_S9\" \"Cz_1_S16\" \r\n",
      " [7] \"Cz_2_S17\"  \"Cz_3_S18\"  \"Cz_300_S1\" \"Cz_800_S7\"\r\n",
      "[1] \"Ct\"   \"Ct\"   \"Ct\"   \"Ct\"   \"Ct\"   \"DMSO\" \"DMSO\" \"DMSO\" \"DMSO\"\r\n",
      "[1] \"Ct_1_S22\"   \"Ct_2_S23\"   \"Ct_3_S24\"   \"Ct_300_S3\"  \"Ct_800_S9\" \r\n",
      "[6] \"DMSO_1_S31\" \"DMSO_1_S6\"  \"DMSO_2_S12\" \"DMSO_2_S32\"\r\n",
      " [1] \"Ct\" \"Ct\" \"Ct\" \"Ct\" \"Ct\" \"It\" \"It\" \"It\" \"It\" \"It\"\r\n",
      " [1] \"Ct_1_S22\"   \"Ct_2_S23\"   \"Ct_3_S24\"   \"Ct_300_S3\"  \"Ct_800_S9\" \r\n",
      " [6] \"It_1_S25\"   \"It_2_S26\"   \"It_3_S27\"   \"It_300_S5\"  \"It_800_S11\"\r\n",
      "[1] \"Ct\" \"Ct\" \"Ct\" \"Ct\" \"Ct\" \"Kt\" \"Kt\" \"Kt\"\r\n",
      "[1] \"Ct_1_S22\"  \"Ct_2_S23\"  \"Ct_3_S24\"  \"Ct_300_S3\" \"Ct_800_S9\" \"Kt_1_S13\" \r\n",
      "[7] \"Kt_2_S14\"  \"Kt_3_S15\" \r\n",
      "[1] \"Ct\" \"Ct\" \"Ct\" \"Ct\" \"Ct\" \"Kz\" \"Kz\"\r\n",
      "[1] \"Ct_1_S22\"   \"Ct_2_S23\"   \"Ct_3_S24\"   \"Ct_300_S3\"  \"Ct_800_S9\" \r\n",
      "[6] \"Kz_300_S4\"  \"Kz_800_S10\"\r\n",
      " [1] \"Ct\" \"Ct\" \"Ct\" \"Ct\" \"Ct\" \"Mz\" \"Mz\" \"Mz\" \"Mz\" \"Mz\"\r\n",
      " [1] \"Ct_1_S22\"  \"Ct_2_S23\"  \"Ct_3_S24\"  \"Ct_300_S3\" \"Ct_800_S9\" \"Mz_1_S19\" \r\n",
      " [7] \"Mz_2_S20\"  \"Mz_3_S21\"  \"Mz_300_S2\" \"Mz_800_S8\"\r\n",
      "[1] \"Ct\" \"Ct\" \"Ct\" \"Ct\" \"Ct\" \"U\"  \"U\"  \"U\" \r\n",
      "[1] \"Ct_1_S22\"  \"Ct_2_S23\"  \"Ct_3_S24\"  \"Ct_300_S3\" \"Ct_800_S9\" \"U_1_S28\"  \r\n",
      "[7] \"U_2_S29\"   \"U_3_S30\"  \r\n",
      "[1] \"Cz\"   \"Cz\"   \"Cz\"   \"Cz\"   \"Cz\"   \"DMSO\" \"DMSO\" \"DMSO\" \"DMSO\"\r\n",
      "[1] \"Cz_1_S16\"   \"Cz_2_S17\"   \"Cz_3_S18\"   \"Cz_300_S1\"  \"Cz_800_S7\" \r\n",
      "[6] \"DMSO_1_S31\" \"DMSO_1_S6\"  \"DMSO_2_S12\" \"DMSO_2_S32\"\r\n",
      " [1] \"Cz\" \"Cz\" \"Cz\" \"Cz\" \"Cz\" \"It\" \"It\" \"It\" \"It\" \"It\"\r\n",
      " [1] \"Cz_1_S16\"   \"Cz_2_S17\"   \"Cz_3_S18\"   \"Cz_300_S1\"  \"Cz_800_S7\" \r\n",
      " [6] \"It_1_S25\"   \"It_2_S26\"   \"It_3_S27\"   \"It_300_S5\"  \"It_800_S11\"\r\n",
      "[1] \"Cz\" \"Cz\" \"Cz\" \"Cz\" \"Cz\" \"Kt\" \"Kt\" \"Kt\"\r\n",
      "[1] \"Cz_1_S16\"  \"Cz_2_S17\"  \"Cz_3_S18\"  \"Cz_300_S1\" \"Cz_800_S7\" \"Kt_1_S13\" \r\n",
      "[7] \"Kt_2_S14\"  \"Kt_3_S15\" \r\n",
      "[1] \"Cz\" \"Cz\" \"Cz\" \"Cz\" \"Cz\" \"Kz\" \"Kz\"\r\n",
      "[1] \"Cz_1_S16\"   \"Cz_2_S17\"   \"Cz_3_S18\"   \"Cz_300_S1\"  \"Cz_800_S7\" \r\n",
      "[6] \"Kz_300_S4\"  \"Kz_800_S10\"\r\n",
      " [1] \"Cz\" \"Cz\" \"Cz\" \"Cz\" \"Cz\" \"Mz\" \"Mz\" \"Mz\" \"Mz\" \"Mz\"\r\n",
      " [1] \"Cz_1_S16\"  \"Cz_2_S17\"  \"Cz_3_S18\"  \"Cz_300_S1\" \"Cz_800_S7\" \"Mz_1_S19\" \r\n",
      " [7] \"Mz_2_S20\"  \"Mz_3_S21\"  \"Mz_300_S2\" \"Mz_800_S8\"\r\n",
      "[1] \"Cz\" \"Cz\" \"Cz\" \"Cz\" \"Cz\" \"U\"  \"U\"  \"U\" \r\n",
      "[1] \"Cz_1_S16\"  \"Cz_2_S17\"  \"Cz_3_S18\"  \"Cz_300_S1\" \"Cz_800_S7\" \"U_1_S28\"  \r\n",
      "[7] \"U_2_S29\"   \"U_3_S30\"  \r\n",
      "[1] \"DMSO\" \"DMSO\" \"DMSO\" \"DMSO\" \"It\"   \"It\"   \"It\"   \"It\"   \"It\"  \r\n",
      "[1] \"DMSO_1_S31\" \"DMSO_1_S6\"  \"DMSO_2_S12\" \"DMSO_2_S32\" \"It_1_S25\"  \r\n",
      "[6] \"It_2_S26\"   \"It_3_S27\"   \"It_300_S5\"  \"It_800_S11\"\r\n",
      "[1] \"DMSO\" \"DMSO\" \"DMSO\" \"DMSO\" \"Kt\"   \"Kt\"   \"Kt\"  \r\n",
      "[1] \"DMSO_1_S31\" \"DMSO_1_S6\"  \"DMSO_2_S12\" \"DMSO_2_S32\" \"Kt_1_S13\"  \r\n",
      "[6] \"Kt_2_S14\"   \"Kt_3_S15\"  \r\n",
      "[1] \"DMSO\" \"DMSO\" \"DMSO\" \"DMSO\" \"Kz\"   \"Kz\"  \r\n",
      "[1] \"DMSO_1_S31\" \"DMSO_1_S6\"  \"DMSO_2_S12\" \"DMSO_2_S32\" \"Kz_300_S4\" \r\n",
      "[6] \"Kz_800_S10\"\r\n",
      "[1] \"DMSO\" \"DMSO\" \"DMSO\" \"DMSO\" \"Mz\"   \"Mz\"   \"Mz\"   \"Mz\"   \"Mz\"  \r\n",
      "[1] \"DMSO_1_S31\" \"DMSO_1_S6\"  \"DMSO_2_S12\" \"DMSO_2_S32\" \"Mz_1_S19\"  \r\n",
      "[6] \"Mz_2_S20\"   \"Mz_3_S21\"   \"Mz_300_S2\"  \"Mz_800_S8\" \r\n",
      "[1] \"DMSO\" \"DMSO\" \"DMSO\" \"DMSO\" \"U\"    \"U\"    \"U\"   \r\n",
      "[1] \"DMSO_1_S31\" \"DMSO_1_S6\"  \"DMSO_2_S12\" \"DMSO_2_S32\" \"U_1_S28\"   \r\n",
      "[6] \"U_2_S29\"    \"U_3_S30\"   \r\n",
      "[1] \"It\" \"It\" \"It\" \"It\" \"It\" \"Kt\" \"Kt\" \"Kt\"\r\n",
      "[1] \"It_1_S25\"   \"It_2_S26\"   \"It_3_S27\"   \"It_300_S5\"  \"It_800_S11\"\r\n",
      "[6] \"Kt_1_S13\"   \"Kt_2_S14\"   \"Kt_3_S15\"  \r\n",
      "[1] \"It\" \"It\" \"It\" \"It\" \"It\" \"Kz\" \"Kz\"\r\n",
      "[1] \"It_1_S25\"   \"It_2_S26\"   \"It_3_S27\"   \"It_300_S5\"  \"It_800_S11\"\r\n",
      "[6] \"Kz_300_S4\"  \"Kz_800_S10\"\r\n",
      " [1] \"It\" \"It\" \"It\" \"It\" \"It\" \"Mz\" \"Mz\" \"Mz\" \"Mz\" \"Mz\"\r\n",
      " [1] \"It_1_S25\"   \"It_2_S26\"   \"It_3_S27\"   \"It_300_S5\"  \"It_800_S11\"\r\n",
      " [6] \"Mz_1_S19\"   \"Mz_2_S20\"   \"Mz_3_S21\"   \"Mz_300_S2\"  \"Mz_800_S8\" \r\n",
      "[1] \"It\" \"It\" \"It\" \"It\" \"It\" \"U\"  \"U\"  \"U\" \r\n",
      "[1] \"It_1_S25\"   \"It_2_S26\"   \"It_3_S27\"   \"It_300_S5\"  \"It_800_S11\"\r\n",
      "[6] \"U_1_S28\"    \"U_2_S29\"    \"U_3_S30\"   \r\n",
      "[1] \"Kt\" \"Kt\" \"Kt\" \"Kz\" \"Kz\"\r\n",
      "[1] \"Kt_1_S13\"   \"Kt_2_S14\"   \"Kt_3_S15\"   \"Kz_300_S4\"  \"Kz_800_S10\"\r\n",
      "[1] \"Kt\" \"Kt\" \"Kt\" \"Mz\" \"Mz\" \"Mz\" \"Mz\" \"Mz\"\r\n",
      "[1] \"Kt_1_S13\"  \"Kt_2_S14\"  \"Kt_3_S15\"  \"Mz_1_S19\"  \"Mz_2_S20\"  \"Mz_3_S21\" \r\n",
      "[7] \"Mz_300_S2\" \"Mz_800_S8\"\r\n",
      "[1] \"Kt\" \"Kt\" \"Kt\" \"U\"  \"U\"  \"U\" \r\n",
      "[1] \"Kt_1_S13\" \"Kt_2_S14\" \"Kt_3_S15\" \"U_1_S28\"  \"U_2_S29\"  \"U_3_S30\" \r\n",
      "[1] \"Kz\" \"Kz\" \"Mz\" \"Mz\" \"Mz\" \"Mz\" \"Mz\"\r\n",
      "[1] \"Kz_300_S4\"  \"Kz_800_S10\" \"Mz_1_S19\"   \"Mz_2_S20\"   \"Mz_3_S21\"  \r\n",
      "[6] \"Mz_300_S2\"  \"Mz_800_S8\" \r\n",
      "[1] \"Kz\" \"Kz\" \"U\"  \"U\"  \"U\" \r\n",
      "[1] \"Kz_300_S4\"  \"Kz_800_S10\" \"U_1_S28\"    \"U_2_S29\"    \"U_3_S30\"   \r\n",
      "[1] \"Mz\" \"Mz\" \"Mz\" \"Mz\" \"Mz\" \"U\"  \"U\"  \"U\" \r\n",
      "[1] \"Mz_1_S19\"  \"Mz_2_S20\"  \"Mz_3_S21\"  \"Mz_300_S2\" \"Mz_800_S8\" \"U_1_S28\"  \r\n",
      "[7] \"U_2_S29\"   \"U_3_S30\"  \r\n"
     ]
    }
   ],
   "source": [
    "#create a directory to store the DeSeq output \n",
    "DESEQ_DIR=\"${ANALYSIS_DIR}deseq/\"\n",
    "[[ ! -d $DESEQ_DIR ]] && mkdir -p \"$DESEQ_DIR\"\n",
    "\n",
    "Rscript $SRC_DIR/runDESeqTrainingCamp.r $MASTER_DATA/counts.tab $DESEQ_DIR/DEoutput"
   ]
  },
  {
   "cell_type": "markdown",
   "metadata": {},
   "source": [
    "This code will generate 2 files per time point pair. The first is the raw output from DESeq for all peaks. We will not have time to discuss everything in this file, but feel free to read the DESeq manual and see if you can understand it. The second, which ends in “sigPeakNames,” contains a list of the IDs of the differentially open peaks from ATAC‐seq. The p‐value cutoff for differential openness that we use is 0.05. You can examine the content of these files with the following commands: "
   ]
  },
  {
   "cell_type": "code",
   "execution_count": null,
   "metadata": {
    "collapsed": true
   },
   "outputs": [],
   "source": []
  }
 ],
 "metadata": {
  "kernelspec": {
   "display_name": "Bash",
   "language": "bash",
   "name": "bash"
  },
  "language_info": {
   "codemirror_mode": "shell",
   "file_extension": ".sh",
   "mimetype": "text/x-sh",
   "name": "bash"
  }
 },
 "nbformat": 4,
 "nbformat_minor": 0
}
