{
 "cells": [
  {
   "cell_type": "markdown",
   "metadata": {},
   "source": [
    "# 3.2 Calling differentially expressed peaks"
   ]
  },
  {
   "cell_type": "markdown",
   "metadata": {},
   "source": [
    "### IMPORTANT: Please make sure that you are using the bash kernel to run this notebook. ###\n",
    "### IMPORTANT: Run the command below to git pull and make sure you are running the latest code!! ###\n",
    "#### (Do this at the beginning of every session) ###"
   ]
  },
  {
   "cell_type": "code",
   "execution_count": 1,
   "metadata": {
    "collapsed": false
   },
   "outputs": [
    {
     "name": "stdout",
     "output_type": "stream",
     "text": [
      "Saved working directory and index state WIP on master: 2c31e86 notebook qc through 3.2\r\n",
      "HEAD is now at 2c31e86 notebook qc through 3.2\r\n",
      "Already up-to-date.\r\n"
     ]
    }
   ],
   "source": [
    "cd /srv/scratch/training_camp/tc2016/`whoami`/src/training_camp\n",
    "git stash \n",
    "git pull "
   ]
  },
  {
   "cell_type": "code",
   "execution_count": 2,
   "metadata": {
    "collapsed": false
   },
   "outputs": [
    {
     "name": "stdout",
     "output_type": "stream",
     "text": []
    }
   ],
   "source": [
    "### Set up variables storing the location of our data\n",
    "### The proper way to load your variables is with the ~/.bashrc command, but this is very slow in iPython \n",
    "export SUNETID=\"$(whoami)\"\n",
    "export WORK_DIR=\"/srv/scratch/training_camp/tc2016/${SUNETID}\"\n",
    "export DATA_DIR=\"${WORK_DIR}/data\"\n",
    "export FASTQ_DIR=\"${DATA_DIR}/fastq/\"\n",
    "export SRC_DIR=\"${WORK_DIR}/src/training_camp/src/\"\n",
    "\n",
    "export ANALYSIS_DIR=\"${WORK_DIR}/analysis/\"\n",
    "export TRIMMED_DIR=\"$ANALYSIS_DIR/trimmed\"\n",
    "export ALIGNMENT_DIR=\"$ANALYSIS_DIR/aligned/\"\n",
    "export TAGALIGN_DIR=\"$ANALYSIS_DIR/tagAlign/\"\n",
    "export PEAKS_DIR=\"$ANALYSIS_DIR/peaks/\"\n",
    "export SIGNAL_DIR=\"${ANALYSIS_DIR}signal/\"\n",
    "export FOLDCHANGE_DIR=\"${SIGNAL_DIR}foldChange/\"\n",
    "export COUNTS_DIR=\"${SIGNAL_DIR}counts/\"\n",
    "\n",
    "export YEAST_DIR=\"/srv/scratch/training_camp/saccer3/seq\"\n",
    "export YEAST_INDEX=\"/srv/scratch/training_camp/saccer3/bowtie2_index/saccer3\"\n",
    "export YEAST_CHR=\"/srv/scratch/training_camp/saccer3/sacCer3.chrom.sizes\"\n",
    "\n",
    "export TMP=\"${WORK_DIR}/tmp\"\n",
    "export TEMP=$TMP \n",
    "export TMPDIR=$TMP\n",
    "\n",
    "export RLIBS=$RLIBS:\"/usr/local/lib/R/site-library\"\n",
    "export MASTER_DATA=\"/srv/scratch/training_camp/data\""
   ]
  },
  {
   "cell_type": "markdown",
   "metadata": {},
   "source": [
    "## Missing R packages "
   ]
  },
  {
   "cell_type": "markdown",
   "metadata": {},
   "source": [
    "When running the scripts in this section, if you get an error saying the gplots package has not been installed, you can install the package locally by  running the **3.5 Install R packages** notebook."
   ]
  },
  {
   "cell_type": "markdown",
   "metadata": {
    "collapsed": true
   },
   "source": [
    "## Running DESeq"
   ]
  },
  {
   "cell_type": "markdown",
   "metadata": {},
   "source": [
    "We first clean up the column names in the counts.tab file located in **$SIGNAL_DIR**: "
   ]
  },
  {
   "cell_type": "code",
   "execution_count": 3,
   "metadata": {
    "collapsed": false
   },
   "outputs": [
    {
     "name": "stdout",
     "output_type": "stream",
     "text": []
    }
   ],
   "source": [
    "cd $SIGNAL_DIR\n",
    "perl -i\".bak\" -pe '$_ = $.==1 ? do {$_ =~ s/\\/[^\\s]+\\//samp/g; $_ =~ s/\\\"//g; $_ =~ s/\\-/\\./g; $_} : $_' $MASTER_DATA/counts.tab\n",
    "sed -i 's/\\_R1.trimmed.nodup.count//g' $MASTER_DATA/counts.tab"
   ]
  },
  {
   "cell_type": "markdown",
   "metadata": {},
   "source": [
    "Now, we run DESeq with the following script: "
   ]
  },
  {
   "cell_type": "code",
   "execution_count": 5,
   "metadata": {
    "collapsed": false
   },
   "outputs": [
    {
     "name": "stdout",
     "output_type": "stream",
     "text": [
      "locfit 1.5-9.1 \t 2013-03-22\r\n",
      "Loading required package: BiocGenerics\r\n",
      "Loading required package: methods\r\n",
      "Loading required package: parallel\r\n",
      "\r\n",
      "Attaching package: ‘BiocGenerics’\r\n",
      "\r\n",
      "The following objects are masked from ‘package:parallel’:\r\n",
      "\r\n",
      "    clusterApply, clusterApplyLB, clusterCall, clusterEvalQ,\r\n",
      "    clusterExport, clusterMap, parApply, parCapply, parLapply,\r\n",
      "    parLapplyLB, parRapply, parSapply, parSapplyLB\r\n",
      "\r\n",
      "The following objects are masked from ‘package:stats’:\r\n",
      "\r\n",
      "    IQR, mad, xtabs\r\n",
      "\r\n",
      "The following objects are masked from ‘package:base’:\r\n",
      "\r\n",
      "    anyDuplicated, append, as.data.frame, cbind, colnames, do.call,\r\n",
      "    duplicated, eval, evalq, Filter, Find, get, grep, grepl, intersect,\r\n",
      "    is.unsorted, lapply, lengths, Map, mapply, match, mget, order,\r\n",
      "    paste, pmax, pmax.int, pmin, pmin.int, Position, rank, rbind,\r\n",
      "    Reduce, rownames, sapply, setdiff, sort, table, tapply, union,\r\n",
      "    unique, unsplit\r\n",
      "\r\n",
      "Loading required package: Biobase\r\n",
      "Welcome to Bioconductor\r\n",
      "\r\n",
      "    Vignettes contain introductory material; view with\r\n",
      "    'browseVignettes()'. To cite Bioconductor, see\r\n",
      "    'citation(\"Biobase\")', and for packages 'citation(\"pkgname\")'.\r\n",
      "\r\n",
      "Loading required package: lattice\r\n",
      "    Welcome to 'DESeq'. For improved performance, usability and\r\n",
      "    functionality, please consider migrating to 'DESeq2'.\r\n",
      " [1] \"Time Point 1\" \"Time Point 1\" \"Time Point 1\" \"Time Point 1\" \"Time Point 1\"\r\n",
      " [6] \"Time Point 2\" \"Time Point 2\" \"Time Point 2\" \"Time Point 2\" \"Time Point 2\"\r\n",
      "Error in `[.data.frame`(DNaseSignalTable, , c(replicateList[[replicateSet1Name]],  : \r\n",
      "  undefined columns selected\r\n",
      "Calls: [ -> [.data.frame\r\n",
      "Execution halted\r\n"
     ]
    }
   ],
   "source": [
    "Rscript $SRC_DIR/runDESeqTrainingCamp.r $MASTER_DATA/counts.tab DEoutput"
   ]
  },
  {
   "cell_type": "markdown",
   "metadata": {},
   "source": [
    "This code will generate 2 files per time point pair. The first is the raw output from DESeq for all peaks. We will not have time to discuss everything in this file, but feel free to read the DESeq manual and see if you can understand it. The second, which ends in “sigPeakNames,” contains a list of the IDs of the differentially open peaks from ATAC‐seq. The p‐value cutoff for differential openness that we use is 0.05. You can examine the content of these files with the following commands: "
   ]
  },
  {
   "cell_type": "code",
   "execution_count": null,
   "metadata": {
    "collapsed": true
   },
   "outputs": [],
   "source": []
  }
 ],
 "metadata": {
  "kernelspec": {
   "display_name": "Bash",
   "language": "bash",
   "name": "bash"
  },
  "language_info": {
   "codemirror_mode": "shell",
   "file_extension": ".sh",
   "mimetype": "text/x-sh",
   "name": "bash"
  }
 },
 "nbformat": 4,
 "nbformat_minor": 0
}
