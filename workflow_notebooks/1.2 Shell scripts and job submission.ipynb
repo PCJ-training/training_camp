{
 "cells": [
  {
   "cell_type": "markdown",
   "metadata": {
    "collapsed": true
   },
   "source": [
    "# 1.2 Shell scripts and job submission #"
   ]
  },
  {
   "cell_type": "markdown",
   "metadata": {
    "collapsed": true
   },
   "source": [
    "After a basic introduction to Unix, we will get our feet (keyboards?) wet actually submitting jobs (ok, maybe not keyboards). As a reminder, you can use the nano command to create/edit files (eg: nano nameOfMyFile.txt will open nameOfMyFile.txt for writing)"
   ]
  },
  {
   "cell_type": "markdown",
   "metadata": {},
   "source": [
    "## Submitting jobs on the SGE ##"
   ]
  },
  {
   "cell_type": "markdown",
   "metadata": {},
   "source": [
    "When many users are trying to do data processing on a server and there are limited computing resources, how is the distribution of the computing resources handled? On scg3 and many other servers, this is handled using the Sun Grid Engine (abbreviated SGE). The basic idea is that the users puts the commands they want to run in a shell script, and then submits that script to the SGE using qsub. If you do NOT use this approach, and instead execute the commands directly on your login shell, you will be running the commands on what is called the \"head node\", which is NOT equipped to do heavy lifting; if your commands require a lot of computing resources, you will end up making the head node slow for ALL users who log in, and everyone will hate you even if they may not know who you are.\n",
    "\n",
    "In short: always use qsub for computationally intensive things.\n",
    "\n",
    "We will walk through an example. Here is a reference for using SGE from the scg3 website: https://web.stanford.edu/group/scgpm/cgi-bin/informatics/wiki/index.php/Using_Sun_Grid_Engine. Anshul also has a summary of key commands and options on his website: https://sites.google.com/site/anshulkundaje/inotes/programming/clustersubmit/sun-grid-engine\n",
    "\n",
    "By default, jobs have a memory limit of 3.7GB (per slot; parallel processing jobs may use multiple slots) and jobs in the standard queue have a runtime limit of 6 hours (wallclock, not CPU time).\n",
    "\n",
    "In order to run jobs, you have to put the commands in what is called a \"shell script\". Create a shell script called myFirstShellScript.sh with the following contents."
   ]
  },
  {
   "cell_type": "code",
   "execution_count": 4,
   "metadata": {
    "collapsed": false
   },
   "outputs": [],
   "source": [
    "#you can ignore this  line -- it checks to see if the file exists, and remove it if it does. So we don't end up writing the same information to the file multiple times. \n",
    "!if [ -f myFirstShellScript.sh ] ; then rm myFirstShellScript.sh; fi\n",
    "\n",
    "! touch myFirstShellScript.sh \n",
    "! echo \"#!/bin/sh\" >> myFirstShellScript.sh\n",
    "! echo \"#this line is a comment; it is ignored during execution\" >> myFirstShellScript.sh\n",
    "! echo \"#you can put any commands that you would normally type into the command line in here.\" >>myFirstShellScript.sh\n",
    "! echo \"#for example, this shell script just creates a directory\" >> myFirstShellScript.sh\n",
    "! echo \"touch thisFileCreatedFromShellScript.txt\" >> myFirstShellScript.sh"
   ]
  },
  {
   "cell_type": "markdown",
   "metadata": {},
   "source": [
    "The **#!/bin/sh** at the beginning tells the operating system what software to use to interpret the script (in this case, it uses the program located at **/bin/sh**). Don't worry if you don't understand; just make sure your scripts begin with it.\n",
    "\n",
    "Once you have created the script, make it executable:"
   ]
  },
  {
   "cell_type": "code",
   "execution_count": 6,
   "metadata": {
    "collapsed": true
   },
   "outputs": [],
   "source": [
    "#this command makes the script executable \n",
    "!chmod a+x myFirstShellScript.sh"
   ]
  },
  {
   "cell_type": "markdown",
   "metadata": {},
   "source": [
    "Then, run it:"
   ]
  },
  {
   "cell_type": "code",
   "execution_count": 9,
   "metadata": {
    "collapsed": false
   },
   "outputs": [
    {
     "name": "stdout",
     "output_type": "stream",
     "text": [
      "1.0 Big Ideas.ipynb\r\n",
      "1.1 Unix Basics.ipynb\r\n",
      "1.2 Shell scripts and job submission.ipynb\r\n",
      "1.3 Getting ready to run code on the cluster.ipynb\r\n",
      "2.0_Sequencing_Data_Analysis.ipynb\r\n",
      "2.4 Creating count coverage tracks.ipynb\r\n",
      "3.1 Clustering analysis and PCA.ipynb\r\n",
      "3.2 Calling differentially expressed peaks.ipynb\r\n",
      "3.3 GO Term Enrichment.ipynb\r\n",
      "3.4 Finding TF motifs.ipynb\r\n",
      "myFirstShellScript.sh\r\n",
      "thisFileCreatedFromShellScript.txt\r\n"
     ]
    }
   ],
   "source": [
    "#this command runs the shell script\n",
    "!./myFirstShellScript.sh\n",
    "#the ls command indicates that \"thisFileCreatedFromShellScript.txt\" was created \n",
    "!ls"
   ]
  },
  {
   "cell_type": "markdown",
   "metadata": {},
   "source": [
    "Shell scripts can also accept arguments (a fancy word for extra commands/options that you pass to the shell script). \\$1 \\$2 \\$3 ... refer to the first, second, third etc. arguments passed into the shell script. Create another shell script called myFirstShellScriptWithArguments.sh with the following contents:"
   ]
  },
  {
   "cell_type": "code",
   "execution_count": 25,
   "metadata": {
    "collapsed": false
   },
   "outputs": [
    {
     "name": "stdout",
     "output_type": "stream",
     "text": [
      "\r\n"
     ]
    }
   ],
   "source": [
    "#you can ignore this  line -- it checks to see if the file exists, and remove it if it does. So we don't end up writing the same information to the file multiple times. \n",
    "!if [ -f myFirstShellScriptWithArguments.sh ] ; then rm myFirstShellScriptWithArguments.sh; fi\n",
    "\n",
    "! touch myFirstShellScriptWithArguments.sh\n",
    "! echo #!/bin/sh >> myFirstShellScriptWithArguments.sh\n",
    "! echo touch \"$\"1 >> myFirstShellScriptWithArguments.sh\n",
    "! echo mkdir \"$\"2 >> myFirstShellScriptWithArguments.sh"
   ]
  },
  {
   "cell_type": "markdown",
   "metadata": {},
   "source": [
    "Once again, make the shell script executable: "
   ]
  },
  {
   "cell_type": "code",
   "execution_count": 26,
   "metadata": {
    "collapsed": true
   },
   "outputs": [],
   "source": [
    "!chmod a+x myFirstShellScriptWithArguments.sh"
   ]
  },
  {
   "cell_type": "markdown",
   "metadata": {},
   "source": [
    "Now run the following:"
   ]
  },
  {
   "cell_type": "code",
   "execution_count": 27,
   "metadata": {
    "collapsed": false
   },
   "outputs": [
    {
     "name": "stdout",
     "output_type": "stream",
     "text": [
      "1.0 Big Ideas.ipynb\r\n",
      "1.1 Unix Basics.ipynb\r\n",
      "1.2 Shell scripts and job submission.ipynb\r\n",
      "1.3 Getting ready to run code on the cluster.ipynb\r\n",
      "2.0_Sequencing_Data_Analysis.ipynb\r\n",
      "2.4 Creating count coverage tracks.ipynb\r\n",
      "3.1 Clustering analysis and PCA.ipynb\r\n",
      "3.2 Calling differentially expressed peaks.ipynb\r\n",
      "3.3 GO Term Enrichment.ipynb\r\n",
      "3.4 Finding TF motifs.ipynb\r\n",
      "customDirectoryName\r\n",
      "customFileName.txt\r\n",
      "myFirstShellScript.sh\r\n",
      "myFirstShellScriptWithArguments.sh\r\n",
      "thisFileCreatedFromShellScript.txt\r\n"
     ]
    }
   ],
   "source": [
    "!./myFirstShellScriptWithArguments.sh customFileName.txt customDirectoryName\n",
    "! ls"
   ]
  },
  {
   "cell_type": "markdown",
   "metadata": {},
   "source": [
    "This was just an example, but hopefully you can see the potential power of using scripts like these to launch complicated bioinformatics processing jobs.\n",
    "\n",
    "Once you have a shell script that contains the commands, you can submit it to the SGE using the qsub command. The general format looks something like this: \n",
    "```\n",
    "qsub [-flags -flags -flags] path/To/Shell/Script.sh. \n",
    "```\n",
    "The various flags specify options about how the job submission will work. Here is a list of some relevant flags:\n",
    "\n",
    "-V : pass all environment variables to the job (environment variables are like settings specific to your login session; you often want to pass these settings to the job so that the commands will behave the same way they do when you type them into your login session).\n",
    "\n",
    "-cwd : Execute the job in the current working directory (you also usually want this option set)\n",
    "\n",
    "-wd [dir] : Set working directory for this job (don't use this if you've specified -cwd)\n",
    "\n",
    "-w e : verify options and abort if there is an error\n",
    "\n",
    "-N [jobname] : name of the job\n",
    "\n",
    "-m ea : send an email when the job ends or aborts\n",
    "\n",
    "-M emailAddress@stanford.edu : whom to email\n",
    "\n",
    "-o [output_logfile]: specifies the file to write the output that would (in the absence of qsub) would be printed to \n",
    "the screen (technically \"stdout\" or \"standard output\")\n",
    "\n",
    "-e [error_logfile]: specifies the file to write error messages to (in the absence of qsub, these would also be printed to the screen; technically \"stderr\" or \"standard error\")\n",
    "\n",
    "-q [queue] : set the queue (we won't use this one but it may be useful on scg3)\n",
    "\n",
    "-l h_vmem=[size] : specify the amount of memory required in size\n",
    "\n",
    "-l h_rt=[hh:mm:ss] : specify the maximum run time (hours, minutes and seconds)\n",
    "\n",
    "-pe shm [n_processors] : run a job that uses parallelisation using pthreads or other shared-memory API\n",
    "\n",
    "-b y : allow direct command or binary file instead of a text script\n",
    "\n",
    "An template qsub command might look something like this:\n",
    "```\n",
    "qsub -V -w e -N [job_name] -l h_vmem=[memory] -l h_rt=[time] -pe shm [n_processors] -o [outputlogfile] -e [errorlogfile] [pathtoScript] [arg1] [arg2]\n",
    "```\n",
    "You can also set some commonly used flags in the shell script itself. Here is a template shell script:\n",
    "```\n",
    "#!/bin/sh\n",
    "#$ -V\n",
    "#$ -N jobname\n",
    "#$ -m ea\n",
    "#$ -M youremail@stanford.edu\n",
    "#$ -cwd\n",
    "#$ -o /path/to/jobname.stdout\n",
    "#$ -e /path/to/jobname.stderr\n",
    "#$ -w e\n",
    "[your job commands go here]\n",
    "```\n",
    "In general, it is best to use absolute paths in shell scripts submitted through qsub. You never know when relative paths will get you in trouble, even when using -cwd."
   ]
  },
  {
   "cell_type": "markdown",
   "metadata": {},
   "source": [
    "## Interactive jobs ##"
   ]
  },
  {
   "cell_type": "markdown",
   "metadata": {},
   "source": [
    "Say you cannot put all the commands you have to execute in a shell script that will run on its own - in other words, you want to run the job interactively. You can use qlogin [resource options] to get an interactive shell (eg: `qlogin -l h_vmem=4G -pe shm 4`). Note that on scg3, you will be charged for all the time you spend logged into a qlogin shell regardless of whether you are actually running computationally intensive things on it, so be warned.\n",
    "\n",
    "If you want a job to keep running on a qlogin shell even after you close your computer, you can use what is called a screen session. Create a new screen with screen -S [screenName]. Launch your commands as desired. Leave the screen temporarily using Ctrl+a d (called \"detaching\"). Obtain a list of running screens with screen -list. Resume a screen with screen -r screenName. Close a screen forever with exit. (Disclaimer: I (avanti) have never actually used screen with qlogin - I have used screen and qlogin independently but never together. No promises that this works as advertised).\n",
    "\n"
   ]
  },
  {
   "cell_type": "code",
   "execution_count": null,
   "metadata": {
    "collapsed": true
   },
   "outputs": [],
   "source": []
  }
 ],
 "metadata": {
  "kernelspec": {
   "display_name": "Python 2",
   "language": "python",
   "name": "python2"
  },
  "language_info": {
   "codemirror_mode": {
    "name": "ipython",
    "version": 2
   },
   "file_extension": ".py",
   "mimetype": "text/x-python",
   "name": "python",
   "nbconvert_exporter": "python",
   "pygments_lexer": "ipython2",
   "version": "2.7.12"
  }
 },
 "nbformat": 4,
 "nbformat_minor": 1
}
