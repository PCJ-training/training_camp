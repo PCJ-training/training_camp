{
 "cells": [
  {
   "cell_type": "markdown",
   "metadata": {},
   "source": [
    "# Big Ideas #"
   ]
  },
  {
   "cell_type": "markdown",
   "metadata": {},
   "source": [
    "(the idea of a list of big ideas is borrowed from Prof. Patrick Winston at MIT)"
   ]
  },
  {
   "cell_type": "markdown",
   "metadata": {},
   "source": [
    "- Do not run code from someone without understanding what it does or why you are running it. \n",
    "- If you have a question/problem running code, almost surely someone else had it before. Google it! If you really do have a unique problem, go to the SeqAnswers forum (http://seqanswers.com/) - and beyond! - and ask it.\n",
    "- LOOK AT YOUR DATA!\n",
    "- Check that analysis outputs make sense. \n",
    "- Never use random datasets downloaded from the Internet. "
   ]
  },
  {
   "cell_type": "code",
   "execution_count": null,
   "metadata": {
    "collapsed": true
   },
   "outputs": [],
   "source": []
  }
 ],
 "metadata": {
  "kernelspec": {
   "display_name": "Python 2",
   "language": "python",
   "name": "python2"
  },
  "language_info": {
   "codemirror_mode": {
    "name": "ipython",
    "version": 2
   },
   "file_extension": ".py",
   "mimetype": "text/x-python",
   "name": "python",
   "nbconvert_exporter": "python",
   "pygments_lexer": "ipython2",
   "version": "2.7.12"
  }
 },
 "nbformat": 4,
 "nbformat_minor": 0
}
