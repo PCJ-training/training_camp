{
 "cells": [
  {
   "cell_type": "markdown",
   "metadata": {},
   "source": [
    "# 2.4 Creating count coverage tracks #"
   ]
  },
  {
   "cell_type": "code",
   "execution_count": 2,
   "metadata": {
    "collapsed": false
   },
   "outputs": [
    {
     "name": "stderr",
     "output_type": "stream",
     "text": [
      "/users/annashch//.bashrc: line 23: /srv/scratch/annashch/deeplearning_avanti/deeplearn_scripts_dir_bashrc: No such file or directory\n",
      "/users/annashch//.bashrc: line 35: module: command not found\n",
      "/users/annashch//.bashrc: line 36: module: command not found\n",
      "/users/annashch//.bashrc: line 37: module: command not found\n",
      "/users/annashch//.bashrc: line 38: module: command not found\n",
      "/users/annashch//.bashrc: line 39: module: command not found\n",
      "/users/annashch//.bashrc: line 40: module: command not found\n",
      "/users/annashch//.bashrc: line 41: module: command not found\n",
      "/users/annashch//.bashrc: line 42: module: command not found\n",
      "/users/annashch//.bashrc: line 43: module: command not found\n",
      "/users/annashch//.bashrc: line 44: module: command not found\n"
     ]
    }
   ],
   "source": [
    "%%bash \n",
    "source ~/.bashrc #doing this will make sure all of your environment variables are loaded"
   ]
  },
  {
   "cell_type": "markdown",
   "metadata": {},
   "source": [
    "Before running the scripts here, make sure your environment variables for the temp folder are set to something other than the default of /tmp, or you may get an out-of-space error:"
   ]
  },
  {
   "cell_type": "code",
   "execution_count": 3,
   "metadata": {
    "collapsed": false
   },
   "outputs": [
    {
     "name": "stdout",
     "output_type": "stream",
     "text": [
      "\n"
     ]
    }
   ],
   "source": [
    "%%bash\n",
    "echo $TMP \n",
    "echo $TEMP\n",
    "echo $TMPDIR "
   ]
  },
  {
   "cell_type": "markdown",
   "metadata": {},
   "source": [
    "\n",
    "We will compute the per‐base coverage (number of read starts at each base in the genome) for each sample. We will simply be counting the number of read starts (5’ ends of reads in a strand specific manner) from both strands at each base. This gives us a frequency of cuts at each base.\n",
    "\n",
    "Note that this is unnormalized coverage i.e. you can’t compare the values per base across samples since samples with overall greater number of reads (sequencing depth) can have greater coverage values simply due to the greater sequencing depth. The normalized signal tracks that we will generate by the peak caller MACS2 are more comparable.\n",
    "\n",
    "Look at the script **$SRC_DIR/create_countCoverageTracks.sh**. It will use the genomeCoverageBed utility to create the count coverage files. You can see the usage instructions for genomeCoverageBed by typing genomeCoverageBed -h. "
   ]
  },
  {
   "cell_type": "code",
   "execution_count": null,
   "metadata": {
    "collapsed": true
   },
   "outputs": [],
   "source": [
    "%%bash \n",
    "genomeCoverageBed -h"
   ]
  },
  {
   "cell_type": "markdown",
   "metadata": {},
   "source": [
    "Additional documentation on this and other bed utilities can be found at:\n",
    "\n",
    "BEDTools software: https://code.google.com/p/bedtools/\n",
    "\n",
    "BEDTools manual: http://bedtools.readthedocs.org/en/latest/\n",
    "\n",
    "We will perform the required operations in batch mode using **$SRC_DIR/batch_countCoverage.sh**, which will submit a series of jobs the the queue (each job takes several minutes to run)\n"
   ]
  },
  {
   "cell_type": "code",
   "execution_count": null,
   "metadata": {
    "collapsed": true
   },
   "outputs": [],
   "source": [
    "%%bash \n",
    "$SRC_DIR/batch_countCoverage.sh"
   ]
  },
  {
   "cell_type": "markdown",
   "metadata": {},
   "source": [
    "Lets move the peak coverage files to a new directory:"
   ]
  },
  {
   "cell_type": "code",
   "execution_count": 4,
   "metadata": {
    "collapsed": false
   },
   "outputs": [
    {
     "name": "stderr",
     "output_type": "stream",
     "text": [
      "bash: line 1: cd: /tagAlign: No such file or directory\n",
      "mkdir: cannot create directory ‘/countTracks/’: Permission denied\n",
      "mv: target ‘/countTracks/’ is not a directory\n"
     ]
    }
   ],
   "source": [
    "%%bash \n",
    "cd ${DATA_DIR}/tagAlign\n",
    "mkdir ${DATA_DIR}/countTracks/\n",
    "mv *.count.bedgraph.gz *.count.bigWig ${DATA_DIR}/countTracks/"
   ]
  }
 ],
 "metadata": {
  "kernelspec": {
   "display_name": "Python 2",
   "language": "python",
   "name": "python2"
  },
  "language_info": {
   "codemirror_mode": {
    "name": "ipython",
    "version": 2
   },
   "file_extension": ".py",
   "mimetype": "text/x-python",
   "name": "python",
   "nbconvert_exporter": "python",
   "pygments_lexer": "ipython2",
   "version": "2.7.12"
  }
 },
 "nbformat": 4,
 "nbformat_minor": 0
}
