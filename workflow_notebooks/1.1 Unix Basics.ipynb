{
 "cells": [
  {
   "cell_type": "markdown",
   "metadata": {},
   "source": [
    "# 1.1 Unix Basics#"
   ]
  },
  {
   "cell_type": "markdown",
   "metadata": {},
   "source": [
    "We'll start by going through some basic unix commands. \"Unix\" is a term for a family of operating systems (just like \"Windows\"). The Mac operating systems (OSX) are part of the Unix family. You will also hear the term \"Linux\" a lot - linux refers to series of operating systems that are also part of the Unix family. Unix operating systems are very popular for running servers. However, while you may be used to interacting with your laptop using a graphical interface, these servers do not support graphical interfaces (as graphical interfaces are a LOT of work to build and are less flexible). Instead, you need to interact with them through the command line. Don't worry, it's easy once you get the hang of it, and it looks really cool to people who don't know what you are doing!"
   ]
  },
  {
   "cell_type": "markdown",
   "metadata": {},
   "source": [
    "## How commands are understood##"
   ]
  },
  {
   "cell_type": "markdown",
   "metadata": {},
   "source": [
    "Let's clarify a little about how unix commands are understood. The program that understands your unix commands is something called a \"shell\". If you hear the term \"bash\" get thrown around, just know that this is the name of a shell. There are many different kinds of shells, and different commands are slightly different depending on the shell that is being run. For now, we will focus on the bash shell. To use the bash shell through an ipython notebook, let the first line be %%bash as illustrated below (run the code in the following shell)"
   ]
  },
  {
   "cell_type": "code",
   "execution_count": 7,
   "metadata": {
    "collapsed": false
   },
   "outputs": [
    {
     "name": "stdout",
     "output_type": "stream",
     "text": [
      "/bin/bash\n"
     ]
    }
   ],
   "source": [
    "%%bash\n",
    "#lines that begin with a hastag are comments; they are ignored\n",
    "#by the shell. Let us double check that the bash shell is being\n",
    "#run. To do this, we will use the command \"echo $SHELL\" illustrated\n",
    "#below:\n",
    "echo $SHELL"
   ]
  },
  {
   "cell_type": "markdown",
   "metadata": {},
   "source": [
    "Let's understand in detail how the command above was understood by the shell.\n",
    "\n",
    "Commands tend to have the format:<br />\n",
    "[name of the program] [one or more arguments to the program...]<br />\n",
    "(\"arguments\" just refers to all the terms that control the behaviour of the program).\n",
    "\n",
    "In the example above, \"echo\" is the name of the program. The echo program prints the value of its arguments to the screen.\n",
    "\n",
    "There is also a concept of an \"environment variable\". A variable is something that stores information, and an \"environment variable\" is something that stores information that can be accessed by the shell (i.e. they pertain to the \"environment\" that commands are run in). Environment variables can be accessed by using \"\\$\" (so \\$SHELL produces the value of the SHELL variable). In the example above, \\$SHELL gives the location where the current shell program is stored. On my Mac, this location happens to be /bin/bash. It may be slightly different when you run this notebook, but it should still end in \"bash\".\n",
    "\n",
    "How do we read a path like \"/bin/bash\"? Files in a Unix system are organized into folders (also called \"directories\"). \"/\" refers to the topmost level. \"/bin\" is the \"bin\" folder (\"bin\" is an abbreviation for \"binaries\"; \"binary\" files refers to the form that runable programs often take). So \"/bin/bash\" refers to the \"bash\" program stored in the \"bin\" folder.\n",
    "\n",
    "When the shell is told to run a program (like \"echo\"), how does the shell know where to find it? This is where the PATH environment variable comes in. The PATH variable stores the names of a number of directories, each separated by a colon. The shell looks at each of these directories in turn and sees if a runnable file (also called an \"executable\") with the appropriate name exists in any of those directories. Once it finds such an executable, it stops looking and executes it."
   ]
  },
  {
   "cell_type": "markdown",
   "metadata": {},
   "source": [
    "<b> Exercise 1.1.1 </b><br />\n",
    "Display the contents of your PATH environment variable below:"
   ]
  },
  {
   "cell_type": "code",
   "execution_count": 10,
   "metadata": {
    "collapsed": false
   },
   "outputs": [],
   "source": [
    "%%bash\n",
    "##enter the command to print out the value of PATH below"
   ]
  },
  {
   "cell_type": "markdown",
   "metadata": {},
   "source": [
    "The \"which\" program will tell you the exact location of the file that would be used to execute a particular program. For example, we can find the location of the \"echo\" program as shown below:"
   ]
  },
  {
   "cell_type": "code",
   "execution_count": 11,
   "metadata": {
    "collapsed": false
   },
   "outputs": [
    {
     "name": "stdout",
     "output_type": "stream",
     "text": [
      "/bin/echo\n"
     ]
    }
   ],
   "source": [
    "%%bash\n",
    "which echo"
   ]
  },
  {
   "cell_type": "markdown",
   "metadata": {},
   "source": [
    "We can even find the location of the \"which\" program:"
   ]
  },
  {
   "cell_type": "code",
   "execution_count": 12,
   "metadata": {
    "collapsed": false
   },
   "outputs": [
    {
     "name": "stdout",
     "output_type": "stream",
     "text": [
      "/usr/bin/which\n"
     ]
    }
   ],
   "source": [
    "%%bash\n",
    "which which"
   ]
  },
  {
   "cell_type": "markdown",
   "metadata": {},
   "source": [
    "<b> Exercise 1.1.2 </b><br />\n",
    "A colleague of yours has installed one version of a program. However, when try to launch the program, the shell keeps launching a different version of the program than what they installed. What might the problem be? How could you check whether this is the problem?"
   ]
  },
  {
   "cell_type": "markdown",
   "metadata": {},
   "source": [
    "## Navigating the file system, creating and editing files##"
   ]
  },
  {
   "cell_type": "markdown",
   "metadata": {},
   "source": [
    "Here are a number of handy commands used to navigate the filesystem:"
   ]
  },
  {
   "cell_type": "code",
   "execution_count": 17,
   "metadata": {
    "collapsed": false
   },
   "outputs": [
    {
     "name": "stdout",
     "output_type": "stream",
     "text": [
      "/Users/avantishrikumar/Research/training_camp/workflow_notebooks\n"
     ]
    }
   ],
   "source": [
    "%%bash\n",
    "#Find out the directory you are in with the pwd command:\n",
    "pwd"
   ]
  },
  {
   "cell_type": "code",
   "execution_count": 20,
   "metadata": {
    "collapsed": false
   },
   "outputs": [
    {
     "name": "stdout",
     "output_type": "stream",
     "text": [
      "1.1 Unix Basics.ipynb\n",
      "1.3 Getting ready to run code on the cluster.ipynb\n",
      "2.0_Sequencing_Data_Analysis.ipynb\n",
      "2.4 Creating count coverage tracks.ipynb\n",
      "3.1 Clustering analysis and PCA.ipynb\n",
      "3.2 Calling differentially expressed peaks.ipynb\n",
      "3.3 GO Term Enrichment.ipynb\n",
      "3.4 Finding TF motifs.ipynb\n",
      "exercise\n"
     ]
    }
   ],
   "source": [
    "%%bash\n",
    "#Display the contents of the directory with ls\n",
    "#note that the ls command can be used to reveal a lot of additional information about the files,\n",
    "#such as file permissions, creation date and file size. You can read more about that\n",
    "#here: http://www.tutorialspoint.com/unix/unix-file-management.htm\n",
    "#and: http://www.tutorialspoint.com/unix/unix-file-permission.htm\n",
    "ls"
   ]
  },
  {
   "cell_type": "code",
   "execution_count": 18,
   "metadata": {
    "collapsed": true
   },
   "outputs": [],
   "source": [
    "%%bash\n",
    "#Create a new directory with \"mkdir\"\n",
    "mkdir exercise"
   ]
  },
  {
   "cell_type": "code",
   "execution_count": 21,
   "metadata": {
    "collapsed": false
   },
   "outputs": [
    {
     "name": "stdout",
     "output_type": "stream",
     "text": [
      "/Users/avantishrikumar/Research/training_camp/workflow_notebooks/exercise\n"
     ]
    }
   ],
   "source": [
    "%%bash\n",
    "#Change into that directory with cd\n",
    "cd exercise\n",
    "pwd #confirm you are in the right directory"
   ]
  },
  {
   "cell_type": "code",
   "execution_count": null,
   "metadata": {
    "collapsed": true
   },
   "outputs": [],
   "source": [
    "%%bash\n",
    "#Make a "
   ]
  },
  {
   "cell_type": "markdown",
   "metadata": {},
   "source": [
    "## References##"
   ]
  },
  {
   "cell_type": "markdown",
   "metadata": {},
   "source": [
    "Here is the tutorial that I (Avanti) used to learn Unix: http://www.ee.surrey.ac.uk/Teaching/Unix/\n",
    "\n",
    "Here's a more detailed tutorial from tutorialspoint:\n",
    "http://www.tutorialspoint.com/unix/index.htm\n",
    "\n",
    "Another resource geared towards bioinformatics: http://manuals.bioinformatics.ucr.edu/home/linux‐basics\n",
    "\n",
    "Reference for commonly useful commands: https://sites.google.com/site/anshulkundaje/inotes/programming/shell-scripts\n",
    "\n",
    "Learning shell programming: http://www.learnshell.org/\n",
    "\n",
    "Debugging shell scripts: http://www.shellcheck.net/"
   ]
  },
  {
   "cell_type": "code",
   "execution_count": null,
   "metadata": {
    "collapsed": true
   },
   "outputs": [],
   "source": []
  }
 ],
 "metadata": {
  "kernelspec": {
   "display_name": "Python 2",
   "language": "python",
   "name": "python2"
  },
  "language_info": {
   "codemirror_mode": {
    "name": "ipython",
    "version": 2
   },
   "file_extension": ".py",
   "mimetype": "text/x-python",
   "name": "python",
   "nbconvert_exporter": "python",
   "pygments_lexer": "ipython2",
   "version": "2.7.12"
  }
 },
 "nbformat": 4,
 "nbformat_minor": 0
}
