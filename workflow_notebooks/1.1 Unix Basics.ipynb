{
 "cells": [
  {
   "cell_type": "markdown",
   "metadata": {},
   "source": [
    "Concepts explained in this tutorial:\n",
    "- What a shell is\n",
    "- Environment variables\n",
    "- $PATH\n",
    "- Navigating the file system\n",
    "- Relative vs. absolute paths\n",
    "- Chaining commands using pipes\n",
    "\n",
    "Commands covered:\n",
    "- echo\n",
    "- which\n",
    "- pwd\n",
    "- ls\n",
    "- mkdir\n",
    "- cd\n",
    "- touch\n",
    "- cat\n",
    "- cp\n",
    "- rm\n",
    "- head\n",
    "- tail\n",
    "- gzip\n",
    "- zcat\n",
    "\n",
    "Operators/aliases covered:\n",
    "- ..\n",
    "- \\>\\>\n",
    "- |"
   ]
  },
  {
   "cell_type": "markdown",
   "metadata": {},
   "source": [
    "# 1.1 Unix Basics#"
   ]
  },
  {
   "cell_type": "markdown",
   "metadata": {},
   "source": [
    "We'll start by going through some basic unix commands. \"Unix\" is a term for a family of operating systems (just like \"Windows\"). The Mac operating systems (OSX) are part of the Unix family. You will also hear the term \"Linux\" a lot - linux refers to series of operating systems that are also part of the Unix family. Unix operating systems are very popular for running servers. However, while you may be used to interacting with your laptop using a graphical interface, these servers do not support graphical interfaces (as graphical interfaces are a LOT of work to build and are less flexible). Instead, you need to interact with them through the command line. Don't worry, it's easy once you get the hang of it, and it looks really cool to people who don't know what you are doing!"
   ]
  },
  {
   "cell_type": "markdown",
   "metadata": {},
   "source": [
    "## How commands are understood##"
   ]
  },
  {
   "cell_type": "markdown",
   "metadata": {},
   "source": [
    "Let's clarify a little about how unix commands are understood. The program that understands your unix commands is something called a \"shell\". If you hear the term \"bash\" get thrown around, just know that this is the name of a shell. There are many different kinds of shells, and different commands are slightly different depending on the shell that is being run. For now, we will focus on the bash shell. To use the bash shell through an ipython notebook, add an exclamation point (!) before the command, as illustrated below (run the code in the following shell)"
   ]
  },
  {
   "cell_type": "code",
   "execution_count": 1,
   "metadata": {
    "collapsed": false
   },
   "outputs": [
    {
     "name": "stdout",
     "output_type": "stream",
     "text": [
      "/bin/bash\r\n"
     ]
    }
   ],
   "source": [
    "#lines that begin with a hastag are comments; they are ignored\n",
    "#by the shell. Let us double check that the bash shell is being\n",
    "#run. To do this, we will use the command \"echo $SHELL\" illustrated\n",
    "#below:\n",
    "! echo $SHELL"
   ]
  },
  {
   "cell_type": "markdown",
   "metadata": {},
   "source": [
    "Let's understand in detail how the command above was understood by the shell.\n",
    "\n",
    "Commands tend to have the format:<br />\n",
    "[name of the program] [one or more arguments to the program...]<br />\n",
    "(\"arguments\" just refers to all the terms that control the behaviour of the program).\n",
    "\n",
    "In the example above, \"echo\" is the name of the program. The echo program prints the value of its arguments to the screen.\n",
    "\n",
    "There is also a concept of an \"environment variable\". A variable is something that stores information, and an \"environment variable\" is something that stores information that can be accessed by the shell (i.e. they pertain to the \"environment\" that commands are run in). Environment variables can be accessed by using \"\\$\" (so \\$SHELL produces the value of the SHELL variable). In the example above, \\$SHELL gives the location where the current shell program is stored. On my Mac, this location happens to be /bin/bash. It may be slightly different when you run this notebook, but it should still end in \"bash\".\n",
    "\n",
    "How do we read a path like \"/bin/bash\"? Files in a Unix system are organized into folders (also called \"directories\"). \"/\" refers to the topmost level. \"/bin\" is the \"bin\" folder (\"bin\" is an abbreviation for \"binaries\"; \"binary\" files refers to the form that runable programs often take). So \"/bin/bash\" refers to the \"bash\" program stored in the \"bin\" folder.\n",
    "\n",
    "When the shell is told to run a program (like \"echo\"), how does the shell know where to find it? This is where the PATH environment variable comes in. The PATH variable stores the names of a number of directories, each separated by a colon. The shell looks at each of these directories in turn and sees if a runnable file (also called an \"executable\") with the appropriate name exists in any of those directories. Once it finds such an executable, it stops looking and executes it."
   ]
  },
  {
   "cell_type": "markdown",
   "metadata": {},
   "source": [
    "<b> Exercise 1.1.1 </b><br />\n",
    "Display the contents of your PATH environment variable below:"
   ]
  },
  {
   "cell_type": "code",
   "execution_count": 2,
   "metadata": {
    "collapsed": false
   },
   "outputs": [],
   "source": [
    "##enter the command to print out the value of PATH below\n",
    "!"
   ]
  },
  {
   "cell_type": "markdown",
   "metadata": {},
   "source": [
    "The \"which\" program will tell you the exact location of the file that would be used to execute a particular program. For example, we can find the location of the \"echo\" program as shown below:"
   ]
  },
  {
   "cell_type": "code",
   "execution_count": 3,
   "metadata": {
    "collapsed": false
   },
   "outputs": [
    {
     "name": "stdout",
     "output_type": "stream",
     "text": [
      "/bin/echo\r\n"
     ]
    }
   ],
   "source": [
    "! which echo"
   ]
  },
  {
   "cell_type": "markdown",
   "metadata": {},
   "source": [
    "We can even find the location of the \"which\" program:"
   ]
  },
  {
   "cell_type": "code",
   "execution_count": 4,
   "metadata": {
    "collapsed": false
   },
   "outputs": [
    {
     "name": "stdout",
     "output_type": "stream",
     "text": [
      "/usr/bin/which\r\n"
     ]
    }
   ],
   "source": [
    "! which which"
   ]
  },
  {
   "cell_type": "markdown",
   "metadata": {},
   "source": [
    "<b> Exercise 1.1.2 </b><br />\n",
    "A colleague of yours has installed one version of a program. However, when try to launch the program, the shell keeps launching a different version of the program than what they installed. What might the problem be? How could you check whether this is the problem?"
   ]
  },
  {
   "cell_type": "markdown",
   "metadata": {},
   "source": [
    "## Navigating the file system, creating and editing files##"
   ]
  },
  {
   "cell_type": "markdown",
   "metadata": {},
   "source": [
    "Here are a number of handy commands used to navigate the filesystem:"
   ]
  },
  {
   "cell_type": "code",
   "execution_count": 5,
   "metadata": {
    "collapsed": false
   },
   "outputs": [
    {
     "name": "stdout",
     "output_type": "stream",
     "text": [
      "/home/user1/training_camp/workflow_notebooks\r\n"
     ]
    }
   ],
   "source": [
    "#Find out the directory you are in with the pwd command\n",
    "#IMPORTANT: whenever you invoke a %%bash shell with ipython notebook, it will\n",
    "#always be started from the same directory that the ipython notebook is running\n",
    "#out of. In other words, if you changed to a different directory in a previous\n",
    "#shell, this will NOT be remembered when you start a new shell. Keep this in mind\n",
    "#when deleting files; you don't want to delete the wrong files!\n",
    "!pwd"
   ]
  },
  {
   "cell_type": "code",
   "execution_count": 6,
   "metadata": {
    "collapsed": false
   },
   "outputs": [
    {
     "name": "stdout",
     "output_type": "stream",
     "text": [
      "1.0 Big Ideas.ipynb\r\n",
      "1.1 Unix Basics.ipynb\r\n",
      "1.3 Getting ready to run code on the cluster.ipynb\r\n",
      "2.0_Sequencing_Data_Analysis.ipynb\r\n",
      "2.4 Creating count coverage tracks.ipynb\r\n",
      "3.1 Clustering analysis and PCA.ipynb\r\n",
      "3.2 Calling differentially expressed peaks.ipynb\r\n",
      "3.3 GO Term Enrichment.ipynb\r\n",
      "3.4 Finding TF motifs.ipynb\r\n",
      "exercise\r\n"
     ]
    }
   ],
   "source": [
    "#Display the contents of the directory with ls\n",
    "#note that the ls command can be used to reveal a lot of additional information about the files,\n",
    "#such as file permissions, creation date and file size. You can read more about that\n",
    "#here: http://www.tutorialspoint.com/unix/unix-file-management.htm\n",
    "#and: http://www.tutorialspoint.com/unix/unix-file-permission.htm\n",
    "!ls"
   ]
  },
  {
   "cell_type": "code",
   "execution_count": 7,
   "metadata": {
    "collapsed": false
   },
   "outputs": [
    {
     "name": "stdout",
     "output_type": "stream",
     "text": [
      "Create a new directory called 'exercise' with mkdir\n",
      "mkdir: cannot create directory ‘exercise’: File exists\n",
      "\n",
      "Change into the exercise directory with cd\n",
      "/home/user1/training_camp/workflow_notebooks/exercise\n",
      "\n",
      "Confirm you are in the right directory\n",
      "/home/user1/training_camp/workflow_notebooks/exercise\n",
      "\n",
      "Make a file with the name test_file.txt with touch\n",
      "\n",
      "Write to test_file.txt\n",
      "\n",
      "Display the contents of text_file.txt\n",
      "blah blah\n",
      "blah blah\n",
      "\n",
      "Make a copy of text_file.txt called test2_file.txt\n",
      "\n",
      "Confirm test2_file.txt is a copy by printing out its contents\n",
      "blah blah\n",
      "blah blah\n",
      "\n",
      "Change back to the previous directory\n",
      "/home/user1/training_camp/workflow_notebooks\n",
      "\n",
      "List the contents of the exercise directory to confirm it contains the two files\n",
      "exercise  test2_file.txt  test_file.txt\n",
      "\n",
      "Remove test_file.txt\n",
      "IMPORTANT: THERE IS NO RECYCLE BIN. ONCE YOU DELETE, IT IS GONE FOREVER\n",
      "THUS, BE EXTREMELY CAREFUL WHEN USING rm. MAKE SURE YOU'RE DELETING THE CORRECT THINGS\n",
      "\n",
      "Confirm the removal\n",
      "exercise  test2_file.txt\n",
      "\n",
      "Remove the exercise directory\n",
      "IMPORTANT: THERE IS NO RECYCLE BIN. ONCE YOU DELETE, IT IS GONE FOREVER\n",
      "THUS, BE EXTREMELY CAREFUL WHEN USING rm. MAKE SURE YOU'RE DELETING THE CORRECT THINGS\n",
      "\n",
      "List the contents of the present directory to confirm removal\n",
      "1.0 Big Ideas.ipynb\n",
      "1.1 Unix Basics.ipynb\n",
      "1.3 Getting ready to run code on the cluster.ipynb\n",
      "2.0_Sequencing_Data_Analysis.ipynb\n",
      "2.4 Creating count coverage tracks.ipynb\n",
      "3.1 Clustering analysis and PCA.ipynb\n",
      "3.2 Calling differentially expressed peaks.ipynb\n",
      "3.3 GO Term Enrichment.ipynb\n",
      "3.4 Finding TF motifs.ipynb\n"
     ]
    }
   ],
   "source": [
    "!echo \"Create a new directory called 'exercise' with mkdir\"\n",
    "!mkdir exercise\n",
    "!echo \"\" #for a new line\n",
    "\n",
    "!echo \"Change into the exercise directory with cd\"\n",
    "%cd exercise\n",
    "!echo \"\"\n",
    "\n",
    "!echo \"Confirm you are in the right directory\"\n",
    "!pwd\n",
    "!echo \"\"\n",
    "\n",
    "!echo \"Make a file with the name test_file.txt with touch\"\n",
    "!touch test_file.txt\n",
    "!echo \"\"\n",
    "\n",
    "!echo \"Write to test_file.txt\"\n",
    "#the \">>\" appends the output to a file instead\n",
    "#of printing it to the . Using a single \">\" would overwrite\n",
    "!echo \"blah blah\" >> test_file.txt\n",
    "!echo \"\"\n",
    "\n",
    "!echo \"Display the contents of text_file.txt\"\n",
    "!cat test_file.txt\n",
    "!echo \"\"\n",
    "\n",
    "!echo \"Make a copy of text_file.txt called test2_file.txt\"\n",
    "!cp test_file.txt test2_file.txt\n",
    "!echo \"\"\n",
    "\n",
    "!echo \"Confirm test2_file.txt is a copy by printing out its contents\"\n",
    "!cat test2_file.txt\n",
    "!echo \"\"\n",
    "\n",
    "!echo \"Change back to the previous directory\"\n",
    "%cd .. \n",
    "#\"..\" is a shortcut for the previous directory\n",
    "!echo \"\"\n",
    "\n",
    "!echo \"List the contents of the exercise directory to confirm it contains the two files\"\n",
    "!ls exercise\n",
    "!echo \"\"\n",
    "\n",
    "!echo \"Remove test_file.txt\"\n",
    "!echo \"IMPORTANT: THERE IS NO RECYCLE BIN. ONCE YOU DELETE, IT IS GONE FOREVER\"\n",
    "!echo \"THUS, BE EXTREMELY CAREFUL WHEN USING rm. MAKE SURE YOU'RE DELETING THE CORRECT THINGS\"\n",
    "!rm exercise/test_file.txt\n",
    "!echo \"\"\n",
    "\n",
    "!echo \"Confirm the removal\"\n",
    "!ls exercise #when you specify a directory, ls will list the contents of that directory\n",
    "!echo \"\"\n",
    "\n",
    "!echo \"Remove the exercise directory\"\n",
    "#-r is recursive, meaning it removes the\n",
    "#files within exercise, then removes exercise.\n",
    "#You need to specify -r to remove directories.\n",
    "!echo \"IMPORTANT: THERE IS NO RECYCLE BIN. ONCE YOU DELETE, IT IS GONE FOREVER\"\n",
    "!echo \"THUS, BE EXTREMELY CAREFUL WHEN USING rm. MAKE SURE YOU'RE DELETING THE CORRECT THINGS\"\n",
    "!rm -r exercise\n",
    "!echo \"\"\n",
    "\n",
    "!echo \"List the contents of the present directory to confirm removal\"\n",
    "!ls"
   ]
  },
  {
   "cell_type": "markdown",
   "metadata": {},
   "source": [
    "## A note on relative vs. absolute paths##"
   ]
  },
  {
   "cell_type": "markdown",
   "metadata": {},
   "source": [
    "When you execute the pwd command (which shows the present working directory), the information that is printed out begins with a \"/\". This is called an \"absolute path\" to the present directory - \"absolute\" because it specifies the full location of the directory relative to the \"root directory\" (which is the \"/\").\n",
    "\n",
    "By contrast, when we made the exercise directory, we didn't specify a location beginning with \"/\" - instead, we just said \"mkdir exercise\", and the exercise directory was created in the present directory. This is called a \"relative path\" because the location of \"exercise\" was interpreted RELATIVE to location of the present working directory. If we had said \"mkdir ../exercise\", it would have created the exercise directory one level above the present working directory (remember \"..\" points to the directory one level up).\n",
    "\n",
    "To get the absolute path, you must take the relative path and append it to the absolute path of the present working directory. You can always specify absolute paths to commands like cd and ls."
   ]
  },
  {
   "cell_type": "markdown",
   "metadata": {},
   "source": [
    "<b> Exercise 1.1.3 </b>\n",
    "What would be the result of the following commands?"
   ]
  },
  {
   "cell_type": "code",
   "execution_count": 8,
   "metadata": {
    "collapsed": false
   },
   "outputs": [
    {
     "name": "stdout",
     "output_type": "stream",
     "text": [
      "/home/user1/training_camp/workflow_notebooks/exercise\n",
      "/home/user1/training_camp/workflow_notebooks/exercise/a_dir/a_dir\n",
      "/home/user1/training_camp/workflow_notebooks/exercise\n",
      "ls a_dir\n",
      "a_dir\n",
      "ls a_dir/a_dir\n",
      "a_dir  hi.txt\n",
      "ls a_dir/a_dir/a_dir\n",
      "a_dir\n",
      "ls a_dir/a_dir/a_dir/a_dir\n"
     ]
    }
   ],
   "source": [
    "#-p creates nested directories if they don't exist\n",
    "!mkdir -p exercise/a_dir/a_dir/a_dir/a_dir\n",
    "%cd exercise\n",
    "%cd a_dir/a_dir\n",
    "!touch a_dir/../../a_dir/a_dir/../hi.txt\n",
    "%cd ../..\n",
    "!echo \"ls a_dir\"\n",
    "!ls a_dir\n",
    "!echo \"ls a_dir/a_dir\"\n",
    "!ls a_dir/a_dir\n",
    "!echo \"ls a_dir/a_dir/a_dir\"\n",
    "!ls a_dir/a_dir/a_dir\n",
    "!echo \"ls a_dir/a_dir/a_dir/a_dir\"\n",
    "!ls a_dir/a_dir/a_dir/a_dir"
   ]
  },
  {
   "cell_type": "markdown",
   "metadata": {},
   "source": [
    "<b> Exercise 1.1.4 </b>\n",
    "What is the absolute path of hi.txt? Check if you're right by issueing the command \"cat /absolute/path/to/hi.txt\", which will throw an error if your absolute path is incorrect"
   ]
  },
  {
   "cell_type": "code",
   "execution_count": 9,
   "metadata": {
    "collapsed": false
   },
   "outputs": [
    {
     "name": "stdout",
     "output_type": "stream",
     "text": [
      "cat: /replace/with/absolute/path/to/hi.txt: No such file or directory\r\n"
     ]
    }
   ],
   "source": [
    "!cat /replace/with/absolute/path/to/hi.txt"
   ]
  },
  {
   "cell_type": "code",
   "execution_count": 13,
   "metadata": {
    "collapsed": false
   },
   "outputs": [
    {
     "name": "stdout",
     "output_type": "stream",
     "text": [
      "/home/user1/training_camp/workflow_notebooks\n"
     ]
    }
   ],
   "source": [
    "%cd ..\n",
    "!rm -r exercise #clean up the exercise folder"
   ]
  },
  {
   "cell_type": "markdown",
   "metadata": {},
   "source": [
    "## Chaining commands with a pipe operator##"
   ]
  },
  {
   "cell_type": "markdown",
   "metadata": {},
   "source": [
    "The \"|\", called a \"pipe operator\" (should be present above your return key) can be used to send the output of one command as input to another command. This is illustrated below:"
   ]
  },
  {
   "cell_type": "code",
   "execution_count": 14,
   "metadata": {
    "collapsed": false
   },
   "outputs": [
    {
     "name": "stdout",
     "output_type": "stream",
     "text": [
      "/home/user1/training_camp/workflow_notebooks/exercise\n",
      "View the contents of hi.txt\n",
      "line1\n",
      "line2\n",
      "line3\n",
      "\n",
      "View the top 2 lines of hi.txt\n",
      "line1\n",
      "line2\n",
      "\n",
      "View the bottom 2 lines of hi.txt\n",
      "line2\n",
      "line3\n",
      "\n",
      "Zip up hi.txt with gzip\n",
      "\n",
      "hi.txt.gz\n",
      "\n",
      "Print the contents of the zipped file to the screen with zcat\n",
      "Note: this does not change the file on disk\n",
      "line1\n",
      "line2\n",
      "line3\n",
      "\n",
      "Pipe the output of zcat to the head command\n",
      "This allows us to view the first two lines without unzipping\n",
      "line1\n",
      "line2\n",
      "\n",
      "/home/user1/training_camp/workflow_notebooks\n"
     ]
    }
   ],
   "source": [
    "!mkdir exercise\n",
    "%cd exercise\n",
    "!touch hi.txt\n",
    "!echo \"line1\" >> hi.txt\n",
    "!echo \"line2\" >> hi.txt\n",
    "!echo \"line3\" >> hi.txt\n",
    "\n",
    "!echo \"View the contents of hi.txt\"\n",
    "!cat hi.txt\n",
    "!echo \"\"\n",
    "\n",
    "#The head command can be used to view the top few lines of a file.\n",
    "!echo \"View the top 2 lines of hi.txt\"\n",
    "!head -2 hi.txt\n",
    "!echo \"\"\n",
    "\n",
    "#Similarly, the tail command can be used to view the last few lines of a file\n",
    "!echo \"View the bottom 2 lines of hi.txt\"\n",
    "!tail -2 hi.txt\n",
    "!echo \"\"\n",
    "\n",
    "#Let's see how the pipe operator can help us interact with zipped files.\n",
    "#To create a compressed file, we will use gzip\n",
    "#(note: you would often want to do this to save space):\n",
    "!echo \"Zip up hi.txt with gzip\"\n",
    "!gzip hi.txt\n",
    "!echo \"\"\n",
    "\n",
    "#The zipped file ends up with a \"gz\" extension appended to it\n",
    "!ls\n",
    "!echo \"\"\n",
    "\n",
    "!echo \"Print the contents of the zipped file to the screen with zcat\"\n",
    "!echo \"Note: this does not change the file on disk\"\n",
    "!zcat hi.txt.gz\n",
    "!echo \"\"\n",
    "\n",
    "!echo \"Pipe the output of zcat to the head command\"\n",
    "!echo \"This allows us to view the first two lines without unzipping\"\n",
    "!zcat hi.txt.gz | head -2\n",
    "!echo \"\"\n",
    "\n",
    "#clean up\n",
    "%cd ..\n",
    "!rm -r exercise"
   ]
  },
  {
   "cell_type": "markdown",
   "metadata": {},
   "source": [
    "<b> Exercise 1.1.5 </b>\n",
    "Print ONLY the second line of hi.txt using a one-line command. Hint: use the pipe operator."
   ]
  },
  {
   "cell_type": "code",
   "execution_count": 15,
   "metadata": {
    "collapsed": false
   },
   "outputs": [
    {
     "name": "stdout",
     "output_type": "stream",
     "text": [
      "/home/user1/training_camp/workflow_notebooks/exercise\n",
      "/home/user1/training_camp/workflow_notebooks\n"
     ]
    }
   ],
   "source": [
    "!mkdir exercise\n",
    "%cd exercise\n",
    "!touch hi.txt\n",
    "!echo \"line1\" >> hi.txt\n",
    "!echo \"line2\" >> hi.txt\n",
    "!echo \"line3\" >> hi.txt\n",
    "\n",
    "###Replace this with your one-line command to print the second line of hi.txt\n",
    "\n",
    "#cleanup\n",
    "%cd ..\n",
    "!rm -r exercise"
   ]
  },
  {
   "cell_type": "markdown",
   "metadata": {},
   "source": [
    "## References##"
   ]
  },
  {
   "cell_type": "markdown",
   "metadata": {},
   "source": [
    "Here is the tutorial that I (Avanti) used to learn Unix: http://www.ee.surrey.ac.uk/Teaching/Unix/\n",
    "\n",
    "Here's a more detailed tutorial from tutorialspoint:\n",
    "http://www.tutorialspoint.com/unix/index.htm\n",
    "\n",
    "Another resource geared towards bioinformatics: http://manuals.bioinformatics.ucr.edu/home/linux‐basics\n",
    "\n",
    "Reference for commonly useful commands: https://sites.google.com/site/anshulkundaje/inotes/programming/shell-scripts\n",
    "\n",
    "Learning shell programming: http://www.learnshell.org/\n",
    "\n",
    "Debugging shell scripts: http://www.shellcheck.net/"
   ]
  },
  {
   "cell_type": "code",
   "execution_count": null,
   "metadata": {
    "collapsed": true
   },
   "outputs": [],
   "source": []
  }
 ],
 "metadata": {
  "kernelspec": {
   "display_name": "Python 2",
   "language": "python",
   "name": "python2"
  },
  "language_info": {
   "codemirror_mode": {
    "name": "ipython",
    "version": 2
   },
   "file_extension": ".py",
   "mimetype": "text/x-python",
   "name": "python",
   "nbconvert_exporter": "python",
   "pygments_lexer": "ipython2",
   "version": "2.7.12"
  }
 },
 "nbformat": 4,
 "nbformat_minor": 0
}
