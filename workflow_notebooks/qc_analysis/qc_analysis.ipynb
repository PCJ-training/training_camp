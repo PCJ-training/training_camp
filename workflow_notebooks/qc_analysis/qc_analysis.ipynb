{
 "cells": [
  {
   "cell_type": "code",
   "execution_count": 1,
   "metadata": {
    "collapsed": false
   },
   "outputs": [],
   "source": [
    "import glob\n",
    "import os\n",
    "\n",
    "import mini_ataqc"
   ]
  },
  {
   "cell_type": "code",
   "execution_count": 4,
   "metadata": {
    "collapsed": false
   },
   "outputs": [],
   "source": [
    "QCPLOTS_DIR = 'qc_plots/'\n",
    "\n",
    "DATA_DIR = '/srv/scratch/training_camp/data/tc2017/analysis/aligned'\n",
    "SAMPLE_DIRS = glob.glob(os.path.join(DATA_DIR, '*'))\n",
    "SAMPLE_NAMES = list(map(os.path.basename, SAMPLE_DIRS))\n",
    "\n",
    "TSS_FILE = 'sacCer3_Ensemble_TSS.bed'\n",
    "CHR_SIZES = '/srv/scratch/training_camp/saccer3/sacCer3.chrom.sizes'\n",
    "\n",
    "READ_LEN = 77"
   ]
  },
  {
   "cell_type": "code",
   "execution_count": 5,
   "metadata": {
    "collapsed": false
   },
   "outputs": [
    {
     "data": {
      "text/plain": [
       "['whi5-SCE-Rep1_R1_001.trimmed.sorted.bam.bai',\n",
       " 'cln3-SCE-0_6MNaCl-Rep1_R1_001.trimmed.sorted.bam',\n",
       " 'cln3-SCE-0_6MNaCl-Rep2_R1_001.trimmed.bam',\n",
       " 'WT-SCD-Rep2_R1_001.trimmed.nodup.bam',\n",
       " 'WT-SCE-Rep2_R1_001.trimmed.nodup.bam',\n",
       " 'cln3-SCE-Rep1_R1_001.trimmed.bam',\n",
       " 'WT-SCD-0_6MNaCl-Rep2_R1_001.trimmed.sorted.dup.bam.bai',\n",
       " 'whi5-cln3-SCE-Rep1_R1_001.trimmed.sorted.dup.bam',\n",
       " 'cln3-SCE-Rep1_R1_001.trimmed.nodup.bam',\n",
       " 'whi5-SCE-Rep2_R1_001.trimmed.sorted.dup.bam.bai',\n",
       " 'whi5-cln3-SCE-Rep2_R1_001.trimmed.sorted.bam',\n",
       " 'cln3-SCD-0_6MNaCl-Rep2_R1_001.trimmed.sorted.dup.bam.bai',\n",
       " 'whi5-cln3-SCE-Rep2_R1_001.trimmed.sorted.dup.bam',\n",
       " 'cln3-SCD-0_6MNaCl-Rep2_R1_001.trimmed.sorted.bam',\n",
       " 'cln3-SCD-Rep1_R1_001.trimmed.sorted.dup.bam.bai',\n",
       " 'WT-SCD-Rep2_R1_001.trimmed.sorted.bam',\n",
       " 'cln3-SCE-Rep1_R1_001.trimmed.sorted.dup.bam.bai',\n",
       " 'whi5-cln3-SCE-Rep2_R1_001.trimmed.bam',\n",
       " 'whi5-cln3-SCE-Rep2_R1_001.trimmed.sorted.bam.bai',\n",
       " 'cln3-SCE-Rep2_R1_001.trimmed.sorted.bam',\n",
       " 'cln3-SCE-Rep2_R1_001.trimmed.sorted.dup.bam',\n",
       " 'WT-SCE-Rep1_R1_001.trimmed.sorted.dup.bam.bai',\n",
       " 'cln3-SCD-0_6MNaCl-Rep2_R1_001.trimmed.sorted.bam.bai',\n",
       " 'cln3-SCD-Rep1_R1_001.trimmed.sorted.dup.bam',\n",
       " 'WT-SCD-Rep2_R1_001.trimmed.sorted.bam.bai',\n",
       " 'cln3-SCE-Rep1_R1_001.trimmed.sorted.dup.bam',\n",
       " 'WT-SCE-0_6MNaCl-Rep1_R1_001.trimmed.bam',\n",
       " 'cln3-SCE-0_6MNaCl-Rep2_R1_001.trimmed.sorted.dup.bam',\n",
       " 'cln3-SCD-Rep2_R1_001.trimmed.sorted.dup.bam',\n",
       " 'WT-SCE-0_6MNaCl-Rep2_R1_001.trimmed.sorted.dup.bam',\n",
       " 'cln3-SCD-0_6MNaCl-Rep2_R1_001.trimmed.bam',\n",
       " 'whi5-SCE-Rep2_R1_001.trimmed.sorted.dup.bam',\n",
       " 'WT-SCE-Rep1_R1_001.trimmed.bam',\n",
       " 'whi5-SCE-Rep2_R1_001.trimmed.sorted.bam',\n",
       " 'whi5-cln3-SCE-Rep1_R1_001.trimmed.sorted.dup.bam.bai',\n",
       " 'WT-SCD-Rep1_R1_001.trimmed.sorted.dup.bam',\n",
       " 'WT-SCE-Rep1_R1_001.trimmed.sorted.dup.bam',\n",
       " 'cln3-SCD-Rep2_R1_001.trimmed.sorted.bam',\n",
       " 'WT-SCE-Rep2_R1_001.trimmed.bam',\n",
       " 'WT-SCE-0_6MNaCl-Rep2_R1_001.trimmed.nodup.bam',\n",
       " 'cln3-SCD-Rep2_R1_001.trimmed.sorted.dup.bam.bai',\n",
       " 'cln3-SCD-Rep1_R1_001.trimmed.sorted.bam.bai',\n",
       " 'whi5-cln3-SCE-Rep2_R1_001.trimmed.nodup.bam',\n",
       " 'cln3-SCE-Rep2_R1_001.trimmed.bam',\n",
       " 'WT-SCD-Rep1_R1_001.trimmed.sorted.bam',\n",
       " 'cln3-SCE-Rep1_R1_001.trimmed.sorted.bam',\n",
       " 'WT-SCE-Rep2_R1_001.trimmed.sorted.bam',\n",
       " 'cln3-SCD-Rep2_R1_001.trimmed.bam',\n",
       " 'cln3-SCE-0_6MNaCl-Rep2_R1_001.trimmed.sorted.dup.bam.bai',\n",
       " 'WT-SCE-0_6MNaCl-Rep2_R1_001.trimmed.sorted.bam',\n",
       " 'WT-SCD-0_6MNaCl-Rep1_R1_001.trimmed.sorted.bam.bai',\n",
       " 'cln3-SCD-0_6MNaCl-Rep2_R1_001.trimmed.sorted.dup.bam',\n",
       " 'WT-SCD-0_6MNaCl-Rep2_R1_001.trimmed.sorted.bam.bai',\n",
       " 'whi5-cln3-SCE-Rep1_R1_001.trimmed.bam',\n",
       " 'WT-SCD-Rep1_R1_001.trimmed.bam',\n",
       " 'WT-SCE-0_6MNaCl-Rep2_R1_001.trimmed.sorted.dup.bam.bai',\n",
       " 'cln3-SCE-0_6MNaCl-Rep2_R1_001.trimmed.sorted.bam.bai',\n",
       " 'cln3-SCD-0_6MNaCl-Rep1_R1_001.trimmed.sorted.dup.bam.bai',\n",
       " 'WT-SCD-Rep2_R1_001.trimmed.sorted.dup.bam.bai',\n",
       " 'WT-SCE-0_6MNaCl-Rep2_R1_001.trimmed.sorted.bam.bai',\n",
       " 'cln3-SCE-0_6MNaCl-Rep1_R1_001.trimmed.bam',\n",
       " 'cln3-SCD-Rep2_R1_001.trimmed.nodup.bam',\n",
       " 'WT-SCE-0_6MNaCl-Rep2_R1_001.trimmed.bam',\n",
       " 'cln3-SCD-0_6MNaCl-Rep2_R1_001.trimmed.nodup.bam',\n",
       " 'WT-SCE-0_6MNaCl-Rep1_R1_001.trimmed.nodup.bam',\n",
       " 'WT-SCE-0_6MNaCl-Rep1_R1_001.trimmed.sorted.dup.bam.bai',\n",
       " 'cln3-SCD-Rep1_R1_001.trimmed.sorted.bam',\n",
       " 'WT-SCE-0_6MNaCl-Rep1_R1_001.trimmed.sorted.bam',\n",
       " 'whi5-SCE-Rep1_R1_001.trimmed.bam',\n",
       " 'cln3-SCD-0_6MNaCl-Rep1_R1_001.trimmed.nodup.bam',\n",
       " 'cln3-SCD-Rep2_R1_001.trimmed.sorted.bam.bai',\n",
       " 'WT-SCD-Rep2_R1_001.trimmed.bam',\n",
       " 'WT-SCD-0_6MNaCl-Rep2_R1_001.trimmed.bam',\n",
       " 'WT-SCE-Rep1_R1_001.trimmed.nodup.bam',\n",
       " 'WT-SCE-0_6MNaCl-Rep1_R1_001.trimmed.sorted.bam.bai',\n",
       " 'WT-SCD-0_6MNaCl-Rep2_R1_001.trimmed.nodup.bam',\n",
       " 'cln3-SCE-0_6MNaCl-Rep1_R1_001.trimmed.sorted.bam.bai',\n",
       " 'whi5-cln3-SCE-Rep2_R1_001.trimmed.sorted.dup.bam.bai',\n",
       " 'WT-SCE-Rep2_R1_001.trimmed.sorted.bam.bai',\n",
       " 'cln3-SCD-0_6MNaCl-Rep1_R1_001.trimmed.sorted.bam',\n",
       " 'WT-SCE-Rep1_R1_001.trimmed.sorted.bam',\n",
       " 'WT-SCD-Rep2_R1_001.trimmed.sorted.dup.bam',\n",
       " 'whi5-SCE-Rep2_R1_001.trimmed.bam',\n",
       " 'cln3-SCE-0_6MNaCl-Rep2_R1_001.trimmed.sorted.bam',\n",
       " 'WT-SCD-Rep1_R1_001.trimmed.sorted.bam.bai',\n",
       " 'cln3-SCE-Rep2_R1_001.trimmed.sorted.dup.bam.bai',\n",
       " 'whi5-SCE-Rep1_R1_001.trimmed.sorted.dup.bam',\n",
       " 'WT-SCD-0_6MNaCl-Rep2_R1_001.trimmed.sorted.dup.bam',\n",
       " 'WT-SCD-Rep1_R1_001.trimmed.sorted.dup.bam.bai',\n",
       " 'cln3-SCE-Rep2_R1_001.trimmed.nodup.bam',\n",
       " 'cln3-SCD-Rep1_R1_001.trimmed.bam',\n",
       " 'WT-SCE-Rep2_R1_001.trimmed.sorted.dup.bam.bai',\n",
       " 'whi5-cln3-SCE-Rep1_R1_001.trimmed.sorted.bam.bai',\n",
       " 'WT-SCD-0_6MNaCl-Rep1_R1_001.trimmed.sorted.dup.bam',\n",
       " 'cln3-SCE-0_6MNaCl-Rep2_R1_001.trimmed.nodup.bam',\n",
       " 'whi5-SCE-Rep1_R1_001.trimmed.sorted.dup.bam.bai',\n",
       " 'WT-SCE-0_6MNaCl-Rep1_R1_001.trimmed.sorted.dup.bam',\n",
       " 'WT-SCD-0_6MNaCl-Rep2_R1_001.trimmed.sorted.bam',\n",
       " 'whi5-SCE-Rep2_R1_001.trimmed.sorted.bam.bai',\n",
       " 'whi5-SCE-Rep1_R1_001.trimmed.nodup.bam',\n",
       " 'cln3-SCE-0_6MNaCl-Rep1_R1_001.trimmed.nodup.bam',\n",
       " 'whi5-SCE-Rep2_R1_001.trimmed.nodup.bam',\n",
       " 'WT-SCD-0_6MNaCl-Rep1_R1_001.trimmed.sorted.dup.bam.bai',\n",
       " 'whi5-SCE-Rep1_R1_001.trimmed.sorted.bam',\n",
       " 'cln3-SCE-Rep2_R1_001.trimmed.sorted.bam.bai',\n",
       " 'cln3-SCD-0_6MNaCl-Rep1_R1_001.trimmed.sorted.bam.bai',\n",
       " 'cln3-SCD-0_6MNaCl-Rep1_R1_001.trimmed.sorted.dup.bam',\n",
       " 'WT-SCD-0_6MNaCl-Rep1_R1_001.trimmed.nodup.bam',\n",
       " 'WT-SCE-Rep2_R1_001.trimmed.sorted.dup.bam',\n",
       " 'cln3-SCD-0_6MNaCl-Rep1_R1_001.trimmed.bam',\n",
       " 'WT-SCD-0_6MNaCl-Rep1_R1_001.trimmed.bam',\n",
       " 'cln3-SCE-0_6MNaCl-Rep1_R1_001.trimmed.sorted.dup.bam',\n",
       " 'WT-SCE-Rep1_R1_001.trimmed.sorted.bam.bai',\n",
       " 'cln3-SCD-Rep1_R1_001.trimmed.nodup.bam',\n",
       " 'cln3-SCE-Rep1_R1_001.trimmed.sorted.bam.bai',\n",
       " 'cln3-SCE-0_6MNaCl-Rep1_R1_001.trimmed.sorted.dup.bam.bai',\n",
       " 'WT-SCD-Rep1_R1_001.trimmed.nodup.bam',\n",
       " 'whi5-cln3-SCE-Rep1_R1_001.trimmed.nodup.bam',\n",
       " 'WT-SCD-0_6MNaCl-Rep1_R1_001.trimmed.sorted.bam',\n",
       " 'whi5-cln3-SCE-Rep1_R1_001.trimmed.sorted.bam']"
      ]
     },
     "execution_count": 5,
     "metadata": {},
     "output_type": "execute_result"
    }
   ],
   "source": [
    "SAMPLE_NAMES"
   ]
  },
  {
   "cell_type": "code",
   "execution_count": 6,
   "metadata": {
    "collapsed": false
   },
   "outputs": [
    {
     "name": "stdout",
     "output_type": "stream",
     "text": [
      "Running vplot for sample WT-SCD-Rep2\n"
     ]
    },
    {
     "ename": "ValueError",
     "evalue": "fetch called on bamfile without index",
     "output_type": "error",
     "traceback": [
      "\u001b[1;31m---------------------------------------------------------------------------\u001b[0m",
      "\u001b[1;31mValueError\u001b[0m                                Traceback (most recent call last)",
      "\u001b[1;32m<ipython-input-6-defcba13a683>\u001b[0m in \u001b[0;36m<module>\u001b[1;34m()\u001b[0m\n\u001b[0;32m      9\u001b[0m \u001b[1;33m\u001b[0m\u001b[0m\n\u001b[0;32m     10\u001b[0m     mini_ataqc.make_vplot(final_bam, TSS_FILE, output_prefix, CHR_SIZES, READ_LEN, bins=400, bp_edge=2000,\n\u001b[1;32m---> 11\u001b[1;33m                processes=8, greenleaf_norm=True)\n\u001b[0m\u001b[0;32m     12\u001b[0m \u001b[1;33m\u001b[0m\u001b[0m\n\u001b[0;32m     13\u001b[0m     \u001b[1;32mprint\u001b[0m\u001b[1;33m(\u001b[0m\u001b[1;34m'Running insert metrics for sample {}'\u001b[0m\u001b[1;33m.\u001b[0m\u001b[0mformat\u001b[0m\u001b[1;33m(\u001b[0m\u001b[0mfname_prefix\u001b[0m\u001b[1;33m)\u001b[0m\u001b[1;33m)\u001b[0m\u001b[1;33m\u001b[0m\u001b[0m\n",
      "\u001b[1;32m/home/ubuntu/training_camp/workflow_notebooks/qc_analysis/mini_ataqc.pyc\u001b[0m in \u001b[0;36mmake_vplot\u001b[1;34m(bam_file, tss, prefix, genome, read_len, bins, bp_edge, processes, greenleaf_norm)\u001b[0m\n\u001b[0;32m     33\u001b[0m     \u001b[0mbam\u001b[0m \u001b[1;33m=\u001b[0m \u001b[0mmetaseq\u001b[0m\u001b[1;33m.\u001b[0m\u001b[0mgenomic_signal\u001b[0m\u001b[1;33m(\u001b[0m\u001b[0mbam_file\u001b[0m\u001b[1;33m,\u001b[0m \u001b[1;34m'bam'\u001b[0m\u001b[1;33m)\u001b[0m \u001b[1;31m# Need to shift reads and just get ends, just load bed file?\u001b[0m\u001b[1;33m\u001b[0m\u001b[0m\n\u001b[0;32m     34\u001b[0m     bam_array = bam.array(tss_ext, bins=bins, shift_width = -read_len/2, # Shift to center the read on the cut site\n\u001b[1;32m---> 35\u001b[1;33m                           processes=processes, stranded=True)\n\u001b[0m\u001b[0;32m     36\u001b[0m \u001b[1;33m\u001b[0m\u001b[0m\n\u001b[0;32m     37\u001b[0m     \u001b[1;31m# Actually first build an \"ends\" file\u001b[0m\u001b[1;33m\u001b[0m\u001b[1;33m\u001b[0m\u001b[0m\n",
      "\u001b[1;32m/opt/conda/envs/py2/lib/python2.7/site-packages/metaseq/_genomic_signal.py\u001b[0m in \u001b[0;36marray\u001b[1;34m(self, features, processes, chunksize, ragged, **kwargs)\u001b[0m\n\u001b[0;32m    120\u001b[0m             arrays = _array_parallel(\n\u001b[0;32m    121\u001b[0m                 \u001b[0mself\u001b[0m\u001b[1;33m.\u001b[0m\u001b[0mfn\u001b[0m\u001b[1;33m,\u001b[0m \u001b[0mself\u001b[0m\u001b[1;33m.\u001b[0m\u001b[0m__class__\u001b[0m\u001b[1;33m,\u001b[0m \u001b[0mfeatures\u001b[0m\u001b[1;33m,\u001b[0m \u001b[0mprocesses\u001b[0m\u001b[1;33m=\u001b[0m\u001b[0mprocesses\u001b[0m\u001b[1;33m,\u001b[0m\u001b[1;33m\u001b[0m\u001b[0m\n\u001b[1;32m--> 122\u001b[1;33m                 chunksize=chunksize, **kwargs)\n\u001b[0m\u001b[0;32m    123\u001b[0m         \u001b[1;32melse\u001b[0m\u001b[1;33m:\u001b[0m\u001b[1;33m\u001b[0m\u001b[0m\n\u001b[0;32m    124\u001b[0m             \u001b[0marrays\u001b[0m \u001b[1;33m=\u001b[0m \u001b[0m_array\u001b[0m\u001b[1;33m(\u001b[0m\u001b[0mself\u001b[0m\u001b[1;33m.\u001b[0m\u001b[0mfn\u001b[0m\u001b[1;33m,\u001b[0m \u001b[0mself\u001b[0m\u001b[1;33m.\u001b[0m\u001b[0m__class__\u001b[0m\u001b[1;33m,\u001b[0m \u001b[0mfeatures\u001b[0m\u001b[1;33m,\u001b[0m \u001b[1;33m**\u001b[0m\u001b[0mkwargs\u001b[0m\u001b[1;33m)\u001b[0m\u001b[1;33m\u001b[0m\u001b[0m\n",
      "\u001b[1;32m/opt/conda/envs/py2/lib/python2.7/site-packages/metaseq/array_helpers.py\u001b[0m in \u001b[0;36m_array_parallel\u001b[1;34m(fn, cls, genelist, chunksize, processes, **kwargs)\u001b[0m\n\u001b[0;32m    381\u001b[0m             \u001b[0mitertools\u001b[0m\u001b[1;33m.\u001b[0m\u001b[0mrepeat\u001b[0m\u001b[1;33m(\u001b[0m\u001b[0mcls\u001b[0m\u001b[1;33m)\u001b[0m\u001b[1;33m,\u001b[0m\u001b[1;33m\u001b[0m\u001b[0m\n\u001b[0;32m    382\u001b[0m             \u001b[0mchunks\u001b[0m\u001b[1;33m,\u001b[0m\u001b[1;33m\u001b[0m\u001b[0m\n\u001b[1;32m--> 383\u001b[1;33m             itertools.repeat(kwargs)))\n\u001b[0m\u001b[0;32m    384\u001b[0m     \u001b[0mpool\u001b[0m\u001b[1;33m.\u001b[0m\u001b[0mclose\u001b[0m\u001b[1;33m(\u001b[0m\u001b[1;33m)\u001b[0m\u001b[1;33m\u001b[0m\u001b[0m\n\u001b[0;32m    385\u001b[0m     \u001b[0mpool\u001b[0m\u001b[1;33m.\u001b[0m\u001b[0mjoin\u001b[0m\u001b[1;33m(\u001b[0m\u001b[1;33m)\u001b[0m\u001b[1;33m\u001b[0m\u001b[0m\n",
      "\u001b[1;32m/opt/conda/envs/py2/lib/python2.7/multiprocessing/pool.pyc\u001b[0m in \u001b[0;36mmap\u001b[1;34m(self, func, iterable, chunksize)\u001b[0m\n\u001b[0;32m    249\u001b[0m         '''\n\u001b[0;32m    250\u001b[0m         \u001b[1;32massert\u001b[0m \u001b[0mself\u001b[0m\u001b[1;33m.\u001b[0m\u001b[0m_state\u001b[0m \u001b[1;33m==\u001b[0m \u001b[0mRUN\u001b[0m\u001b[1;33m\u001b[0m\u001b[0m\n\u001b[1;32m--> 251\u001b[1;33m         \u001b[1;32mreturn\u001b[0m \u001b[0mself\u001b[0m\u001b[1;33m.\u001b[0m\u001b[0mmap_async\u001b[0m\u001b[1;33m(\u001b[0m\u001b[0mfunc\u001b[0m\u001b[1;33m,\u001b[0m \u001b[0miterable\u001b[0m\u001b[1;33m,\u001b[0m \u001b[0mchunksize\u001b[0m\u001b[1;33m)\u001b[0m\u001b[1;33m.\u001b[0m\u001b[0mget\u001b[0m\u001b[1;33m(\u001b[0m\u001b[1;33m)\u001b[0m\u001b[1;33m\u001b[0m\u001b[0m\n\u001b[0m\u001b[0;32m    252\u001b[0m \u001b[1;33m\u001b[0m\u001b[0m\n\u001b[0;32m    253\u001b[0m     \u001b[1;32mdef\u001b[0m \u001b[0mimap\u001b[0m\u001b[1;33m(\u001b[0m\u001b[0mself\u001b[0m\u001b[1;33m,\u001b[0m \u001b[0mfunc\u001b[0m\u001b[1;33m,\u001b[0m \u001b[0miterable\u001b[0m\u001b[1;33m,\u001b[0m \u001b[0mchunksize\u001b[0m\u001b[1;33m=\u001b[0m\u001b[1;36m1\u001b[0m\u001b[1;33m)\u001b[0m\u001b[1;33m:\u001b[0m\u001b[1;33m\u001b[0m\u001b[0m\n",
      "\u001b[1;32m/opt/conda/envs/py2/lib/python2.7/multiprocessing/pool.pyc\u001b[0m in \u001b[0;36mget\u001b[1;34m(self, timeout)\u001b[0m\n\u001b[0;32m    565\u001b[0m             \u001b[1;32mreturn\u001b[0m \u001b[0mself\u001b[0m\u001b[1;33m.\u001b[0m\u001b[0m_value\u001b[0m\u001b[1;33m\u001b[0m\u001b[0m\n\u001b[0;32m    566\u001b[0m         \u001b[1;32melse\u001b[0m\u001b[1;33m:\u001b[0m\u001b[1;33m\u001b[0m\u001b[0m\n\u001b[1;32m--> 567\u001b[1;33m             \u001b[1;32mraise\u001b[0m \u001b[0mself\u001b[0m\u001b[1;33m.\u001b[0m\u001b[0m_value\u001b[0m\u001b[1;33m\u001b[0m\u001b[0m\n\u001b[0m\u001b[0;32m    568\u001b[0m \u001b[1;33m\u001b[0m\u001b[0m\n\u001b[0;32m    569\u001b[0m     \u001b[1;32mdef\u001b[0m \u001b[0m_set\u001b[0m\u001b[1;33m(\u001b[0m\u001b[0mself\u001b[0m\u001b[1;33m,\u001b[0m \u001b[0mi\u001b[0m\u001b[1;33m,\u001b[0m \u001b[0mobj\u001b[0m\u001b[1;33m)\u001b[0m\u001b[1;33m:\u001b[0m\u001b[1;33m\u001b[0m\u001b[0m\n",
      "\u001b[1;31mValueError\u001b[0m: fetch called on bamfile without index"
     ]
    }
   ],
   "source": [
    "final_bams = glob.glob(os.path.join(DATA_DIR, '*sorted.dup.bam'))\n",
    "\n",
    "for final_bam in final_bams:\n",
    "    \n",
    "    fname_prefix = os.path.basename(final_bam).split('_')[0]\n",
    "    output_prefix = os.path.join(QCPLOTS_DIR, fname_prefix)\n",
    "    \n",
    "    print('Running vplot for sample {}'.format(fname_prefix))\n",
    "    \n",
    "    mini_ataqc.make_vplot(final_bam, TSS_FILE, output_prefix, CHR_SIZES, READ_LEN, bins=400, bp_edge=2000,\n",
    "               processes=8, greenleaf_norm=True)\n",
    "    \n",
    "    print('Running insert metrics for sample {}'.format(fname_prefix))\n",
    "    \n",
    "    mini_ataqc.get_insert_distribution(final_bam, output_prefix)"
   ]
  },
  {
   "cell_type": "code",
   "execution_count": 10,
   "metadata": {
    "collapsed": false
   },
   "outputs": [],
   "source": [
    "! cp -r {QCPLOTS_DIR} {WEBSITE_QCPLOTS_DIR}"
   ]
  },
  {
   "cell_type": "code",
   "execution_count": null,
   "metadata": {
    "collapsed": true
   },
   "outputs": [],
   "source": []
  }
 ],
 "metadata": {
  "kernelspec": {
   "display_name": "Python 2",
   "language": "python",
   "name": "python2"
  },
  "language_info": {
   "codemirror_mode": {
    "name": "ipython",
    "version": 2
   },
   "file_extension": ".py",
   "mimetype": "text/x-python",
   "name": "python",
   "nbconvert_exporter": "python",
   "pygments_lexer": "ipython2",
   "version": "2.7.12"
  }
 },
 "nbformat": 4,
 "nbformat_minor": 0
}
