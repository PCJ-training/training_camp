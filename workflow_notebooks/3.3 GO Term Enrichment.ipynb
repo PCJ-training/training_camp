{
 "cells": [
  {
   "cell_type": "markdown",
   "metadata": {},
   "source": [
    "# GO Term Enrichment #"
   ]
  },
  {
   "cell_type": "markdown",
   "metadata": {},
   "source": [
    "We will map the differentially expressed peaks to their nearest genes and search for GO term enrichment.\n",
    "\n",
    "Make sure you have **$WORK_DIR/results/peaks/peaks2genes.bed** - if you don't, refer to the section on peak calling which indicates how to use the closestBed tool to obtain this file.\n",
    "\n",
    "Run the following commands to map all the sigPeakNames files to their nearest genes:"
   ]
  },
  {
   "cell_type": "code",
   "execution_count": 1,
   "metadata": {
    "collapsed": false
   },
   "outputs": [
    {
     "name": "stderr",
     "output_type": "stream",
     "text": [
      "bash: line 1: cd: /results/signal: No such file or directory\n",
      "bash: line 2: /mapToNearestPeak.py: No such file or directory\n"
     ]
    }
   ],
   "source": [
    "%%bash \n",
    "cd $WORK_DIR/results/signal\n",
    "$SRC_DIR/mapToNearestPeak.py --sigPeakInputFiles DE*_sigPeakNames --peaks2genesFile $WORK_DIR/results/peaks/peaks2genes.bed"
   ]
  },
  {
   "cell_type": "markdown",
   "metadata": {},
   "source": [
    "The **mapToNearestPeak.py** script will produce a series of files named **nearestGenes_\\*** \n",
    "that contain the nearest genes to the differentially expressed peaks.\n",
    "\n",
    "Now use the saccharomyces Genome Databases (SGD’s) GO Term finder tools to check for GO Term enrichment (you may have to transfer the gene files to your local computer): http://www.yeastgenome.org/cgi-bin/GO/goTermFinder.pl"
   ]
  },
  {
   "cell_type": "code",
   "execution_count": null,
   "metadata": {
    "collapsed": true
   },
   "outputs": [],
   "source": []
  }
 ],
 "metadata": {
  "kernelspec": {
   "display_name": "Python 2",
   "language": "python",
   "name": "python2"
  },
  "language_info": {
   "codemirror_mode": {
    "name": "ipython",
    "version": 2
   },
   "file_extension": ".py",
   "mimetype": "text/x-python",
   "name": "python",
   "nbconvert_exporter": "python",
   "pygments_lexer": "ipython2",
   "version": "2.7.12"
  }
 },
 "nbformat": 4,
 "nbformat_minor": 0
}
