{
 "cells": [
  {
   "cell_type": "markdown",
   "metadata": {},
   "source": [
    "# Clustering analysis and PCA #"
   ]
  },
  {
   "cell_type": "markdown",
   "metadata": {},
   "source": [
    "### IMPORTANT: Please make sure that you are using the bash kernel to run this notebook."
   ]
  },
  {
   "cell_type": "code",
   "execution_count": 6,
   "metadata": {
    "collapsed": false
   },
   "outputs": [
    {
     "name": "stdout",
     "output_type": "stream",
     "text": []
    }
   ],
   "source": [
    "### Set up variables storing the location of our data\n",
    "### The proper way to load your variables is with the ~/.bashrc command, but this is very slow in iPython \n",
    "export SUNETID=\"$(whoami)\"\n",
    "export WORK_DIR=\"/srv/scratch/training_camp/tc2016/${SUNETID}\"\n",
    "export DATA_DIR=\"${WORK_DIR}/data\"\n",
    "export FASTQ_DIR=\"${DATA_DIR}/fastq/\"\n",
    "export SRC_DIR=\"${WORK_DIR}/src/training_camp/src/\"\n",
    "\n",
    "export ANALYSIS_DIR=\"${WORK_DIR}/analysis/\"\n",
    "export TRIMMED_DIR=\"$ANALYSIS_DIR/trimmed\"\n",
    "export ALIGNMENT_DIR=\"$ANALYSIS_DIR/aligned/\"\n",
    "export TAGALIGN_DIR=\"$ANALYSIS_DIR/tagAlign/\"\n",
    "export PEAKS_DIR=\"$ANALYSIS_DIR/peaks/\"\n",
    "export COUNT_TRACKS_DIR=\"$ANALYSIS_DIR/countTracks/\"\n",
    "\n",
    "export YEAST_DIR=\"/srv/scratch/training_camp/saccer3/seq\"\n",
    "export YEAST_INDEX=\"/srv/scratch/training_camp/saccer3/bowtie2_index/saccer3\"\n",
    "export YEAST_CHR=\"/srv/scratch/training_camp/saccer3/sacCer3.chrom.sizes\"\n",
    "\n",
    "export TMP=\"${WORK_DIR}/tmp\"\n",
    "export TEMP=$TMP \n",
    "export TMPDIR=$TMP\n",
    "\n",
    "export RLIBS=$RLIBS:\"/usr/local/lib/R/site-library\""
   ]
  },
  {
   "cell_type": "markdown",
   "metadata": {},
   "source": [
    "## Missing R packages##"
   ]
  },
  {
   "cell_type": "markdown",
   "metadata": {},
   "source": [
    "When running the scripts in this section, if you get an error saying the gplots package has not been installed, you can install the package locally by  running the **3.5 Install R packages** notebook."
   ]
  },
  {
   "cell_type": "markdown",
   "metadata": {},
   "source": [
    "## The process_peaks.sh script ##"
   ]
  },
  {
   "cell_type": "markdown",
   "metadata": {},
   "source": [
    "Cluster analysis is a simple way to visualize patterns in the data. By clustering peaks according to their signal across different time points, we may find groups of peaks that have similar behavior across these time points. By clustering samples according to their signal across peaks, we can perform a simple sanity check of data quality ‐ samples of the same time point should cluster together.\n",
    "\n",
    "We have developed a script to perform all the following steps:"
   ]
  },
  {
   "cell_type": "code",
   "execution_count": 7,
   "metadata": {
    "collapsed": false
   },
   "outputs": [
    {
     "name": "stdout",
     "output_type": "stream",
     "text": [
      "Couldn't open /tc2016/ubuntu/analysis//peaks//all_merged.peaks.bed.gz , No such file or directory\r\n",
      "Couldn't open /tc2016/ubuntu/analysis//peaks//all_merged.peaks.bed.gz , No such file or directory\r\n",
      "Couldn't open /tc2016/ubuntu/analysis//peaks//all_merged.peaks.bed.gz , No such file or directory\r\n",
      "Couldn't open /tc2016/ubuntu/analysis//peaks//all_merged.peaks.bed.gz , No such file or directory\r\n",
      "Couldn't open /tc2016/ubuntu/analysis//peaks//all_merged.peaks.bed.gz , No such file or directory\r\n",
      "Couldn't open /tc2016/ubuntu/analysis//peaks//all_merged.peaks.bed.gz , No such file or directory\r\n",
      "Couldn't open /tc2016/ubuntu/analysis//peaks//all_merged.peaks.bed.gz , No such file or directory\r\n",
      "Couldn't open /tc2016/ubuntu/analysis//peaks//all_merged.peaks.bed.gz , No such file or directory\r\n",
      "Couldn't open /tc2016/ubuntu/analysis//peaks//all_merged.peaks.bed.gz , No such file or directory\r\n",
      "Couldn't open /tc2016/ubuntu/analysis//peaks//all_merged.peaks.bed.gz , No such file or directory\r\n",
      "Couldn't open /tc2016/ubuntu/analysis//peaks//all_merged.peaks.bed.gz , No such file or directory\r\n",
      "Couldn't open /tc2016/ubuntu/analysis//peaks//all_merged.peaks.bed.gz , No such file or directory\r\n",
      "Couldn't open /tc2016/ubuntu/analysis//peaks//all_merged.peaks.bed.gz , No such file or directory\r\n",
      "Couldn't open /tc2016/ubuntu/analysis//peaks//all_merged.peaks.bed.gz , No such file or directory\r\n",
      "Error in library(preprocessCore) : \r\n",
      "  there is no package called ‘preprocessCore’\r\n",
      "Execution halted\r\n",
      "Error in library(gplots) : there is no package called ‘gplots’\r\n",
      "Execution halted\r\n"
     ]
    }
   ],
   "source": [
    "${SRC_DIR}/process_peaks.sh"
   ]
  },
  {
   "cell_type": "markdown",
   "metadata": {},
   "source": [
    "## Heatmap generation ##"
   ]
  },
  {
   "cell_type": "markdown",
   "metadata": {},
   "source": [
    "Note that the last step in the script above is to generate heatmaps. This step may fail if X11 is not installed. One solution is to copy the foldChange.tab file to your local computer, and then run:\n",
    "\n",
    "**[path/to/]visualize_clusters.R foldChange.tab foldChange.png**\n",
    "\n",
    "Note that visualize_clusters.R is obtained from the github repository of scripts: https://github.com/kundajelab/training_camp/blob/master/src/visualize_clusters.R"
   ]
  },
  {
   "cell_type": "markdown",
   "metadata": {},
   "source": [
    "## Separating out wt and ko ##"
   ]
  },
  {
   "cell_type": "markdown",
   "metadata": {},
   "source": [
    "The strong difference between wt and ko may make the heatmap hard to discern. One solution is to separate out the wt and the ko samples, and call visualise_clusters.R on each one. You can do this with:"
   ]
  },
  {
   "cell_type": "code",
   "execution_count": null,
   "metadata": {
    "collapsed": false
   },
   "outputs": [],
   "source": [
    "perl -lane 'if ($. == 1) {@titleIdxs = grep {$F[$_] =~ /wt/} 0..$#F; @idxs = map {$_+1} @titleIdxs; print \"@F[@titleIdxs]\"} else {print \"@F[0,@idxs]\"}' foldChange.tab > wt_foldChange.tab\n",
    "perl -lane 'if ($. == 1) {@titleIdxs = grep {$F[$_] =~ /ko/} 0..$#F; @idxs = map {$_+1} @titleIdxs; print \"@F[@titleIdxs]\"} else {print \"@F[0,@idxs]\"}' foldChange.tab > ko_foldChange.tab"
   ]
  },
  {
   "cell_type": "markdown",
   "metadata": {},
   "source": [
    "Then use the steps you used to visualise the heatmaps, but supply **wt_foldChange.tab** or **ko_foldChange.tab** where you previously supplied **foldChange.tab**."
   ]
  },
  {
   "cell_type": "markdown",
   "metadata": {},
   "source": [
    "## PCA ##"
   ]
  },
  {
   "cell_type": "markdown",
   "metadata": {},
   "source": [
    "PCA (Principal Component Analysis) is a way to identify the primary directions of variation in the data. It can also be used for very coarse-grained clustering of samples; similar samples will have similar coordinates along the principal axes.\n",
    "\n",
    "We will perform PCA on foldChange.tab. The first step is to clean up the column labels in foldChange.tab with the following perl one-liner:"
   ]
  },
  {
   "cell_type": "code",
   "execution_count": null,
   "metadata": {
    "collapsed": false
   },
   "outputs": [],
   "source": [
    "cd $WORK_DIR/results/signal\n",
    "perl -i\".bak\" -pe '$_ = $.==1 ? do {$_ =~ s/\\/[^\\s]+\\///g; $_ =~ s/\\\"//g; $_ =~ s/\\-/\\./g; $_ =~ s/PooledReps_Sample/samp/g; $_} : $_' foldChange.tab"
   ]
  },
  {
   "cell_type": "markdown",
   "metadata": {},
   "source": [
    "We will now do PCA. We treat each sample as a single point in a very high dimensional space (where the dimensionality is equal to the number of genes the vary), and then we will perform dimensionality reduction in this space (if you get an X11 error, log into R studio and follow the instructions at the end):"
   ]
  },
  {
   "cell_type": "code",
   "execution_count": null,
   "metadata": {
    "collapsed": false
   },
   "outputs": [],
   "source": [
    "cd $WORK_DIR/results/signal\n",
    "$SRC_DIR/doPCA.R foldChange.tab"
   ]
  },
  {
   "cell_type": "markdown",
   "metadata": {},
   "source": [
    "This script will produce PCA_sdev.png, which shows the standard deviation explained by each of the principle components. Since there are only 12 datapoints, the effective dimensionality of our data is 12, even though there are thousands of genes; this is why there are only 12 PCs.\n",
    "\n",
    "It also produces PC_[x]_vs_[y].png for components 1..3. How do you interpret the different principle components?\n",
    "\n",
    "Finally, it produces the files pc[x]_rotation.txt for components 1..3, which show the contribution of each peak to the direction of the principle component; this file can be used to get a sense of which peaks are critical in defining the principle components, and in which direction (positive or negative). One interesting analysis we can do with these files is to sort the peaks by their contribution to the principle component in ascending or descending order, map the peaks to their nearest genes, and then used the ranked list with software such as GOrilla which accept a ranked list of genes and output which GO terms are overrepresented towards the top: (http://cbl-gorilla.cs.technion.ac.il/)\n",
    "\n",
    "The following commands will sort the genes by their contribution to each principle component and then map them to their nearest gene:\n",
    "\n"
   ]
  },
  {
   "cell_type": "code",
   "execution_count": null,
   "metadata": {
    "collapsed": false
   },
   "outputs": [],
   "source": [
    "cd $WORK_DIR/results/signal"
   ]
  },
  {
   "cell_type": "code",
   "execution_count": null,
   "metadata": {
    "collapsed": true
   },
   "outputs": [],
   "source": [
    "for pcFile in `ls pc*_rotation.txt`; do\n",
    "    theBase=`basename ${pcFile}`\n",
    "    cat $pcFile | sort -k 2r > \"ascending_\"$theBase\n",
    "    cat $pcFile | sort -k 2rg > \"descending_\"$theBase\n",
    "done\n",
    "$SRC_DIR/mapToNearestPeak.py --sigPeakInputFiles ascending*.txt descending*.txt --peaks2genesFile /tc2015/avanti/results/peaks/peaks2genes.bed"
   ]
  }
 ],
 "metadata": {
  "kernelspec": {
   "display_name": "Bash",
   "language": "bash",
   "name": "bash"
  },
  "language_info": {
   "codemirror_mode": "shell",
   "file_extension": ".sh",
   "mimetype": "text/x-sh",
   "name": "bash"
  }
 },
 "nbformat": 4,
 "nbformat_minor": 0
}
