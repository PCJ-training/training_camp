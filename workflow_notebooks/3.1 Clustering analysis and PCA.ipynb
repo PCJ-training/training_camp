{
 "cells": [
  {
   "cell_type": "markdown",
   "metadata": {},
   "source": [
    "# Clustering analysis and PCA #"
   ]
  },
  {
   "cell_type": "markdown",
   "metadata": {},
   "source": [
    "## Missing R packages##"
   ]
  },
  {
   "cell_type": "markdown",
   "metadata": {},
   "source": [
    "When running the scripts in this section, if you get an error saying the gplots package has not been installed, you have two options: (1) either run the following command to add a pre-downloaded version of the package to the **$R_LIBS** environment variable..."
   ]
  },
  {
   "cell_type": "code",
   "execution_count": 1,
   "metadata": {
    "collapsed": false
   },
   "outputs": [
    {
     "name": "stderr",
     "output_type": "stream",
     "text": [
      "UsageError: %%bash is a cell magic, but the cell body is empty."
     ]
    }
   ],
   "source": [
    "%%bash\n",
    "export R_LIBS=$R_LIBS:/users/avanti/R/x86_64-unknown-linux-gnu-library/3.0/"
   ]
  },
  {
   "cell_type": "markdown",
   "metadata": {},
   "source": [
    "...or install the package locally by  running install.packages(\"gplots\"): "
   ]
  },
  {
   "cell_type": "code",
   "execution_count": 3,
   "metadata": {
    "collapsed": false
   },
   "outputs": [
    {
     "name": "stdout",
     "output_type": "stream",
     "text": [
      "\n",
      "R version 3.2.3 (2015-12-10) -- \"Wooden Christmas-Tree\"\n",
      "Copyright (C) 2015 The R Foundation for Statistical Computing\n",
      "Platform: x86_64-pc-linux-gnu (64-bit)\n",
      "\n",
      "R is free software and comes with ABSOLUTELY NO WARRANTY.\n",
      "You are welcome to redistribute it under certain conditions.\n",
      "Type 'license()' or 'licence()' for distribution details.\n",
      "\n",
      "  Natural language support but running in an English locale\n",
      "\n",
      "R is a collaborative project with many contributors.\n",
      "Type 'contributors()' for more information and\n",
      "'citation()' on how to cite R or R packages in publications.\n",
      "\n",
      "Type 'demo()' for some demos, 'help()' for on-line help, or\n",
      "'help.start()' for an HTML browser interface to help.\n",
      "Type 'q()' to quit R.\n",
      "\n",
      "> install.packages(\"gplots\",repos='http://cran.us.r-project.org')\n",
      "\n",
      "The downloaded source packages are in\n",
      "\t‘/tmp/RtmpvpcHlO/downloaded_packages’\n",
      "> q()\n"
     ]
    },
    {
     "name": "stderr",
     "output_type": "stream",
     "text": [
      "Installing package into ‘/users/annashch/R/x86_64-pc-linux-gnu-library/3.2’\n",
      "(as ‘lib’ is unspecified)\n",
      "trying URL 'http://cran.us.r-project.org/src/contrib/gplots_3.0.1.tar.gz'\n",
      "Content type 'application/x-gzip' length 578626 bytes (565 KB)\n",
      "==================================================\n",
      "downloaded 565 KB\n",
      "\n",
      "* installing *source* package ‘gplots’ ...\n",
      "** package ‘gplots’ successfully unpacked and MD5 sums checked\n",
      "** R\n",
      "** data\n",
      "** inst\n",
      "** preparing package for lazy loading\n",
      "** help\n",
      "*** installing help indices\n",
      "** building package indices\n",
      "** installing vignettes\n",
      "** testing if installed package can be loaded\n",
      "* DONE (gplots)\n"
     ]
    }
   ],
   "source": [
    "%%bash \n",
    "R --no-save \n",
    "install.packages(\"gplots\",repos='http://cran.us.r-project.org')\n",
    "q()"
   ]
  },
  {
   "cell_type": "markdown",
   "metadata": {},
   "source": [
    "## The process_peaks.sh script ##"
   ]
  },
  {
   "cell_type": "markdown",
   "metadata": {},
   "source": [
    "Cluster analysis is a simple way to visualize patterns in the data. By clustering peaks according to their signal across different time points, we may find groups of peaks that have similar behavior across these time points. By clustering samples according to their signal across peaks, we can perform a simple sanity check of data quality ‐ samples of the same time point should cluster together.\n",
    "\n",
    "We have developed a script to perform all the following steps:"
   ]
  },
  {
   "cell_type": "code",
   "execution_count": 4,
   "metadata": {
    "collapsed": false
   },
   "outputs": [
    {
     "name": "stderr",
     "output_type": "stream",
     "text": [
      "bash: line 1: /process_peaks.sh: No such file or directory\n"
     ]
    }
   ],
   "source": [
    "%%bash\n",
    "${SRC_DIR}/process_peaks.sh"
   ]
  },
  {
   "cell_type": "markdown",
   "metadata": {},
   "source": [
    "## Heatmap generation ##"
   ]
  },
  {
   "cell_type": "markdown",
   "metadata": {},
   "source": [
    "Note that the last step in the script above is to generate heatmaps. This step may fail if X11 is not installed. One solution is to copy the foldChange.tab file to your local computer, and then run:\n",
    "\n",
    "**[path/to/]visualize_clusters.R foldChange.tab foldChange.png**\n",
    "\n",
    "Note that visualize_clusters.R is obtained from the github repository of scripts: https://github.com/kundajelab/training_camp/blob/master/src/visualize_clusters.R"
   ]
  },
  {
   "cell_type": "markdown",
   "metadata": {},
   "source": [
    "### Optional: use RStudio ###"
   ]
  },
  {
   "cell_type": "markdown",
   "metadata": {},
   "source": [
    "Another solution to the absence of X11 on these machines is to use RStudio which is running out of Wotan on wotan.stanford.edu:8787. You can use what is called SSH port forwarding to access this on your local machine. SSH port forwarding will basically make the address \"localhost:8787\" on your computer access wotan.stanford.edu:8787. Open up a terminal window and enter:"
   ]
  },
  {
   "cell_type": "code",
   "execution_count": 9,
   "metadata": {
    "collapsed": false
   },
   "outputs": [
    {
     "name": "stderr",
     "output_type": "stream",
     "text": [
      "ssh: Could not resolve hostname [your: Name or service not known\r\n"
     ]
    }
   ],
   "source": [
    "%%bash\n",
    "ssh -L localhost:8787:localhost:8787 [YOUR USERNAME]]@wotan.stanford.edu"
   ]
  },
  {
   "cell_type": "markdown",
   "metadata": {},
   "source": [
    "Now, keep that terminal window open and access localhost:8787 on your web browser to access RStudio. In the R shell, use \n",
    "\n",
    "**setwd(\"/tc2015/[yourUsername]/results/signal\")**\n",
    "\n",
    "to change to the directory with the foldChange.tab file (replace [yourUsername] with your username), enter the command input_file=\"foldChange.tab\", and then use\n",
    "\n",
    "**source(\"/tc2015/[yourUsername]/src/training_camp/src/visualize_clusters_from_r_shell.R\")**\n",
    "\n",
    "to visualise the contents of foldChange.tab."
   ]
  },
  {
   "cell_type": "markdown",
   "metadata": {},
   "source": [
    "## Separating out wt and ko ##"
   ]
  },
  {
   "cell_type": "markdown",
   "metadata": {},
   "source": [
    "The strong difference between wt and ko may make the heatmap hard to discern. One solution is to separate out the wt and the ko samples, and call visualise_clusters.R on each one. You can do this with:"
   ]
  },
  {
   "cell_type": "code",
   "execution_count": 5,
   "metadata": {
    "collapsed": false
   },
   "outputs": [
    {
     "name": "stderr",
     "output_type": "stream",
     "text": [
      "Can't open foldChange.tab: No such file or directory.\n",
      "Can't open foldChange.tab: No such file or directory.\n"
     ]
    }
   ],
   "source": [
    "%%bash\n",
    "perl -lane 'if ($. == 1) {@titleIdxs = grep {$F[$_] =~ /wt/} 0..$#F; @idxs = map {$_+1} @titleIdxs; print \"@F[@titleIdxs]\"} else {print \"@F[0,@idxs]\"}' foldChange.tab > wt_foldChange.tab\n",
    "perl -lane 'if ($. == 1) {@titleIdxs = grep {$F[$_] =~ /ko/} 0..$#F; @idxs = map {$_+1} @titleIdxs; print \"@F[@titleIdxs]\"} else {print \"@F[0,@idxs]\"}' foldChange.tab > ko_foldChange.tab"
   ]
  },
  {
   "cell_type": "markdown",
   "metadata": {},
   "source": [
    "Then use the steps you used to visualise the heatmaps, but supply **wt_foldChange.tab** or **ko_foldChange.tab** where you previously supplied **foldChange.tab**."
   ]
  },
  {
   "cell_type": "markdown",
   "metadata": {},
   "source": [
    "## PCA ##"
   ]
  },
  {
   "cell_type": "markdown",
   "metadata": {},
   "source": [
    "PCA (Principal Component Analysis) is a way to identify the primary directions of variation in the data. It can also be used for very coarse-grained clustering of samples; similar samples will have similar coordinates along the principal axes.\n",
    "\n",
    "We will perform PCA on foldChange.tab. The first step is to clean up the column labels in foldChange.tab with the following perl one-liner:"
   ]
  },
  {
   "cell_type": "code",
   "execution_count": 6,
   "metadata": {
    "collapsed": false
   },
   "outputs": [
    {
     "name": "stderr",
     "output_type": "stream",
     "text": [
      "bash: line 1: cd: /results/signal: No such file or directory\n",
      "Can't open foldChange.tab: No such file or directory.\n"
     ]
    }
   ],
   "source": [
    "%%bash \n",
    "cd $WORK_DIR/results/signal\n",
    "perl -i\".bak\" -pe '$_ = $.==1 ? do {$_ =~ s/\\/[^\\s]+\\///g; $_ =~ s/\\\"//g; $_ =~ s/\\-/\\./g; $_ =~ s/PooledReps_Sample/samp/g; $_} : $_' foldChange.tab"
   ]
  },
  {
   "cell_type": "markdown",
   "metadata": {},
   "source": [
    "We will now do PCA. We treat each sample as a single point in a very high dimensional space (where the dimensionality is equal to the number of genes the vary), and then we will perform dimensionality reduction in this space (if you get an X11 error, log into R studio and follow the instructions at the end):"
   ]
  },
  {
   "cell_type": "code",
   "execution_count": 10,
   "metadata": {
    "collapsed": false
   },
   "outputs": [
    {
     "name": "stderr",
     "output_type": "stream",
     "text": [
      "bash: line 1: cd: /results/signal: No such file or directory\n",
      "bash: line 2: /doPCA.R: No such file or directory\n"
     ]
    }
   ],
   "source": [
    "%%bash\n",
    "cd $WORK_DIR/results/signal\n",
    "$SRC_DIR/doPCA.R foldChange.tab"
   ]
  },
  {
   "cell_type": "markdown",
   "metadata": {},
   "source": [
    "This script will produce PCA_sdev.png, which shows the standard deviation explained by each of the principle components. Since there are only 12 datapoints, the effective dimensionality of our data is 12, even though there are thousands of genes; this is why there are only 12 PCs.\n",
    "\n",
    "It also produces PC_[x]_vs_[y].png for components 1..3. How do you interpret the different principle components?\n",
    "\n",
    "Finally, it produces the files pc[x]_rotation.txt for components 1..3, which show the contribution of each peak to the direction of the principle component; this file can be used to get a sense of which peaks are critical in defining the principle components, and in which direction (positive or negative). One interesting analysis we can do with these files is to sort the peaks by their contribution to the principle component in ascending or descending order, map the peaks to their nearest genes, and then used the ranked list with software such as GOrilla which accept a ranked list of genes and output which GO terms are overrepresented towards the top: (http://cbl-gorilla.cs.technion.ac.il/)\n",
    "\n",
    "The following commands will sort the genes by their contribution to each principle component and then map them to their nearest gene:\n",
    "\n"
   ]
  },
  {
   "cell_type": "code",
   "execution_count": 11,
   "metadata": {
    "collapsed": false
   },
   "outputs": [
    {
     "name": "stderr",
     "output_type": "stream",
     "text": [
      "bash: line 1: cd: /results/signal: No such file or directory\n",
      "ls: cannot access pc*_rotation.txt: No such file or directory\n",
      "bash: line 7: /mapToNearestPeak.py: No such file or directory\n"
     ]
    }
   ],
   "source": [
    "%%bash \n",
    "cd $WORK_DIR/results/signal\n",
    "for pcFile in `ls pc*_rotation.txt`; do\n",
    "    theBase=`basename ${pcFile}`\n",
    "    cat $pcFile | sort -k 2r > \"ascending_\"$theBase\n",
    "    cat $pcFile | sort -k 2rg > \"descending_\"$theBase\n",
    "done\n",
    "$SRC_DIR/mapToNearestPeak.py --sigPeakInputFiles ascending*.txt descending*.txt --peaks2genesFile /tc2015/avanti/results/peaks/peaks2genes.bed"
   ]
  },
  {
   "cell_type": "markdown",
   "metadata": {},
   "source": [
    "You can then copy the mapped files to your local computer with:"
   ]
  },
  {
   "cell_type": "code",
   "execution_count": 13,
   "metadata": {
    "collapsed": false
   },
   "outputs": [
    {
     "name": "stderr",
     "output_type": "stream",
     "text": [
      "cp: cannot stat ‘[yourUsername]@wotan.stanford.edu:/tc2015/[yourUsername]/results/signal/nearestGenes*pc*’: No such file or directory\n"
     ]
    }
   ],
   "source": [
    "%%bash \n",
    "scp [yourUsername]@wotan.stanford.edu:/tc2015/[yourUsername]/results/signal/nearestGenes*pc* ."
   ]
  },
  {
   "cell_type": "markdown",
   "metadata": {},
   "source": [
    "## From RStudio ##"
   ]
  },
  {
   "cell_type": "markdown",
   "metadata": {},
   "source": [
    "From RStudio, do \n",
    "**setwd(\"/tc2015/[yourUsername]/results/signal\")**\n",
    "where you replace [yourUsername] with your username, set inpFile=\"foldChange.tab\", and then call:\n",
    "\n",
    "**source(\"/tc2015/[yourUsername]/src/training_camp/src/doPCA_from_r_shell.R\")**\n"
   ]
  }
 ],
 "metadata": {
  "kernelspec": {
   "display_name": "Python 2",
   "language": "python",
   "name": "python2"
  },
  "language_info": {
   "codemirror_mode": {
    "name": "ipython",
    "version": 2
   },
   "file_extension": ".py",
   "mimetype": "text/x-python",
   "name": "python",
   "nbconvert_exporter": "python",
   "pygments_lexer": "ipython2",
   "version": "2.7.12"
  }
 },
 "nbformat": 4,
 "nbformat_minor": 0
}
