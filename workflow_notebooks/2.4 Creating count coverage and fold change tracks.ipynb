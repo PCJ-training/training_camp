{
 "cells": [
  {
   "cell_type": "markdown",
   "metadata": {},
   "source": [
    "# 2.4 Creating count coverage tracks #"
   ]
  },
  {
   "cell_type": "markdown",
   "metadata": {},
   "source": [
    "### IMPORTANT: Please make sure that you are using the bash kernel to run this notebook."
   ]
  },
  {
   "cell_type": "code",
   "execution_count": 1,
   "metadata": {
    "collapsed": false
   },
   "outputs": [
    {
     "name": "stdout",
     "output_type": "stream",
     "text": []
    }
   ],
   "source": [
    "### Set up variables storing the location of our data\n",
    "### The proper way to load your variables is with the ~/.bashrc command, but this is very slow in iPython \n",
    "export SUNETID=\"$(whoami)\"\n",
    "export WORK_DIR=\"/srv/scratch/training_camp/tc2016/${SUNETID}\"\n",
    "export DATA_DIR=\"${WORK_DIR}/data\"\n",
    "export FASTQ_DIR=\"${DATA_DIR}/fastq/\"\n",
    "export SRC_DIR=\"${WORK_DIR}/src/training_camp/src/\"\n",
    "\n",
    "export ANALYSIS_DIR=\"${WORK_DIR}/analysis/\"\n",
    "export TRIMMED_DIR=\"$ANALYSIS_DIR/trimmed\"\n",
    "export ALIGNMENT_DIR=\"$ANALYSIS_DIR/aligned/\"\n",
    "export TAGALIGN_DIR=\"$ANALYSIS_DIR/tagAlign/\"\n",
    "export PEAKS_DIR=\"${ANALYSIS_DIR}peaks/\"\n",
    "\n",
    "export YEAST_DIR=\"/srv/scratch/training_camp/saccer3/seq\"\n",
    "export YEAST_INDEX=\"/srv/scratch/training_camp/saccer3/bowtie2_index/saccer3\"\n",
    "export YEAST_CHR=\"/srv/scratch/training_camp/saccer3/sacCer3.chrom.sizes\"\n",
    "\n",
    "export TMP=\"${WORK_DIR}/tmp\"\n",
    "export TEMP=$TMP \n",
    "export TMPDIR=$TMP"
   ]
  },
  {
   "cell_type": "markdown",
   "metadata": {},
   "source": [
    "Before running the scripts here, make sure your environment variables for the temp folder are set to something other than the default of /tmp, or you may get an out-of-space error:"
   ]
  },
  {
   "cell_type": "code",
   "execution_count": 2,
   "metadata": {
    "collapsed": false
   },
   "outputs": [
    {
     "name": "stdout",
     "output_type": "stream",
     "text": [
      "/srv/scratch/training_camp/tc2016/ubuntu/tmp\r\n",
      "/srv/scratch/training_camp/tc2016/ubuntu/tmp\r\n",
      "/srv/scratch/training_camp/tc2016/ubuntu/tmp\r\n"
     ]
    }
   ],
   "source": [
    "echo $TMP \n",
    "echo $TEMP\n",
    "echo $TMPDIR "
   ]
  },
  {
   "cell_type": "markdown",
   "metadata": {},
   "source": [
    "\n",
    "We will compute the per‐base coverage (number of read starts at each base in the genome) for each sample. We will simply be counting the number of read starts (5’ ends of reads in a strand specific manner) from both strands at each base. This gives us a frequency of cuts at each base.\n",
    "\n",
    "Note that this is unnormalized coverage i.e. you can’t compare the values per base across samples since samples with overall greater number of reads (sequencing depth) can have greater coverage values simply due to the greater sequencing depth. The normalized signal tracks that we will generate by the peak caller MACS2 are more comparable.\n",
    "\n",
    "Look at the script **$SRC_DIR/create_countCoverageTracks.sh**. It will use the genomeCoverageBed utility to create the count coverage files. You can see the usage instructions for genomeCoverageBed by typing genomeCoverageBed -h. "
   ]
  },
  {
   "cell_type": "code",
   "execution_count": 3,
   "metadata": {
    "collapsed": false
   },
   "outputs": [
    {
     "name": "stdout",
     "output_type": "stream",
     "text": [
      "\r\n",
      "Tool:    bedtools genomecov (aka genomeCoverageBed)\r\n",
      "Version: v2.17.0\r\n",
      "Summary: Compute the coverage of a feature file among a genome.\r\n",
      "\r\n",
      "Usage: bedtools genomecov [OPTIONS] -i <bed/gff/vcf> -g <genome>\r\n",
      "\r\n",
      "Options: \r\n",
      "\t-ibam\t\tThe input file is in BAM format.\r\n",
      "\t\t\tNote: BAM _must_ be sorted by position\r\n",
      "\r\n",
      "\t-d\t\tReport the depth at each genome position (with one-based coordinates).\r\n",
      "\t\t\tDefault behavior is to report a histogram.\r\n",
      "\r\n",
      "\t-dz\t\tReport the depth at each genome position (with zero-based coordinates).\r\n",
      "\t\t\tReports only non-zero positions.\r\n",
      "\t\t\tDefault behavior is to report a histogram.\r\n",
      "\r\n",
      "\t-bg\t\tReport depth in BedGraph format. For details, see:\r\n",
      "\t\t\tgenome.ucsc.edu/goldenPath/help/bedgraph.html\r\n",
      "\r\n",
      "\t-bga\t\tReport depth in BedGraph format, as above (-bg).\r\n",
      "\t\t\tHowever with this option, regions with zero \r\n",
      "\t\t\tcoverage are also reported. This allows one to\r\n",
      "\t\t\tquickly extract all regions of a genome with 0 \r\n",
      "\t\t\tcoverage by applying: \"grep -w 0$\" to the output.\r\n",
      "\r\n",
      "\t-split\t\tTreat \"split\" BAM or BED12 entries as distinct BED intervals.\r\n",
      "\t\t\twhen computing coverage.\r\n",
      "\t\t\tFor BAM files, this uses the CIGAR \"N\" and \"D\" operations \r\n",
      "\t\t\tto infer the blocks for computing coverage.\r\n",
      "\t\t\tFor BED12 files, this uses the BlockCount, BlockStarts, and BlockEnds\r\n",
      "\t\t\tfields (i.e., columns 10,11,12).\r\n",
      "\r\n",
      "\t-strand\t\tCalculate coverage of intervals from a specific strand.\r\n",
      "\t\t\tWith BED files, requires at least 6 columns (strand is column 6). \r\n",
      "\t\t\t- (STRING): can be + or -\r\n",
      "\r\n",
      "\t-5\t\tCalculate coverage of 5\" positions (instead of entire interval).\r\n",
      "\r\n",
      "\t-3\t\tCalculate coverage of 3\" positions (instead of entire interval).\r\n",
      "\r\n",
      "\t-max\t\tCombine all positions with a depth >= max into\r\n",
      "\t\t\ta single bin in the histogram. Irrelevant\r\n",
      "\t\t\tfor -d and -bedGraph\r\n",
      "\t\t\t- (INTEGER)\r\n",
      "\r\n",
      "\t-scale\t\tScale the coverage by a constant factor.\r\n",
      "\t\t\tEach coverage value is multiplied by this factor before being reported.\r\n",
      "\t\t\tUseful for normalizing coverage by, e.g., reads per million (RPM).\r\n",
      "\t\t\t- Default is 1.0; i.e., unscaled.\r\n",
      "\t\t\t- (FLOAT)\r\n",
      "\r\n",
      "\t-trackline\tAdds a UCSC/Genome-Browser track line definition in the first line of the output.\r\n",
      "\t\t\t- See here for more details about track line definition:\r\n",
      "\t\t\t      http://genome.ucsc.edu/goldenPath/help/bedgraph.html\r\n",
      "\t\t\t- NOTE: When adding a trackline definition, the output BedGraph can be easily\r\n",
      "\t\t\t      uploaded to the Genome Browser as a custom track,\r\n",
      "\t\t\t      BUT CAN NOT be converted into a BigWig file (w/o removing the first line).\r\n",
      "\r\n",
      "\t-trackopts\tWrites additional track line definition parameters in the first line.\r\n",
      "\t\t\t- Example:\r\n",
      "\t\t\t   -trackopts 'name=\"My Track\" visibility=2 color=255,30,30'\r\n",
      "\t\t\t   Note the use of single-quotes if you have spaces in your parameters.\r\n",
      "\t\t\t- (TEXT)\r\n",
      "\r\n",
      "Notes: \r\n",
      "\t(1) The genome file should tab delimited and structured as follows:\r\n",
      "\t <chromName><TAB><chromSize>\r\n",
      "\r\n",
      "\tFor example, Human (hg19):\r\n",
      "\tchr1\t249250621\r\n",
      "\tchr2\t243199373\r\n",
      "\t...\r\n",
      "\tchr18_gl000207_random\t4262\r\n",
      "\r\n",
      "\t(2) The input BED (-i) file must be grouped by chromosome.\r\n",
      "\t A simple \"sort -k 1,1 <BED> > <BED>.sorted\" will suffice.\r\n",
      "\r\n",
      "\t(3) The input BAM (-ibam) file must be sorted by position.\r\n",
      "\t A \"samtools sort <BAM>\" should suffice.\r\n",
      "\r\n",
      "Tips: \r\n",
      "\tOne can use the UCSC Genome Browser's MySQL database to extract\r\n",
      "\tchromosome sizes. For example, H. sapiens:\r\n",
      "\r\n",
      "\tmysql --user=genome --host=genome-mysql.cse.ucsc.edu -A -e \\\r\n",
      "\t\"select chrom, size from hg19.chromInfo\" > hg19.genome\r\n",
      "\r\n"
     ]
    }
   ],
   "source": [
    "genomeCoverageBed -h"
   ]
  },
  {
   "cell_type": "markdown",
   "metadata": {},
   "source": [
    "Additional documentation on this and other bed utilities can be found at:\n",
    "\n",
    "BEDTools software: https://code.google.com/p/bedtools/\n",
    "\n",
    "BEDTools manual: http://bedtools.readthedocs.org/en/latest/\n",
    "\n",
    "We will perform the required operations in batch mode using **$SRC_DIR/batch_countCoverage.sh**, which will submit a series of jobs the the queue (each job takes several minutes to run)\n"
   ]
  },
  {
   "cell_type": "code",
   "execution_count": 4,
   "metadata": {
    "collapsed": false
   },
   "outputs": [
    {
     "name": "stdout",
     "output_type": "stream",
     "text": [
      "Your job 69 (\"jobWT-1h_S7_L001_R1_001.trimmed.nodup.tagAlign.gz\") has been submitted\r\n",
      "Your job 70 (\"jobWT-3h_S14_L001_R1_001.trimmed.nodup.tagAlign.gz\") has been submitted\r\n",
      "Your job 71 (\"jobCu-1h_S4_L001_R1_001.trimmed.nodup.tagAlign.gz\") has been submitted\r\n",
      "Your job 72 (\"jobDMSO-1h_S6_L001_R1_001.trimmed.nodup.tagAlign.gz\") has been submitted\r\n",
      "Your job 73 (\"jobKz-1h_S1_L001_R1_001.trimmed.nodup.tagAlign.gz\") has been submitted\r\n",
      "Your job 74 (\"jobCt-3h_S12_L001_R1_001.trimmed.nodup.tagAlign.gz\") has been submitted\r\n",
      "Your job 75 (\"jobKz-3h_S8_L001_R1_001.trimmed.nodup.tagAlign.gz\") has been submitted\r\n",
      "Your job 76 (\"jobCu-3h_S11_L001_R1_001.trimmed.nodup.tagAlign.gz\") has been submitted\r\n",
      "Your job 77 (\"jobCt-1h_S5_L001_R1_001.trimmed.nodup.tagAlign.gz\") has been submitted\r\n",
      "Your job 78 (\"jobMz-3h_S10_L001_R1_001.trimmed.nodup.tagAlign.gz\") has been submitted\r\n",
      "Your job 79 (\"jobCz-1h_S2_L001_R1_001.trimmed.nodup.tagAlign.gz\") has been submitted\r\n",
      "Your job 80 (\"jobDMSO-3h_S13_L001_R1_001.trimmed.nodup.tagAlign.gz\") has been submitted\r\n",
      "Your job 81 (\"jobCz-3h_S9_L001_R1_001.trimmed.nodup.tagAlign.gz\") has been submitted\r\n",
      "Your job 82 (\"jobMz-1h_S3_L001_R1_001.trimmed.nodup.tagAlign.gz\") has been submitted\r\n"
     ]
    }
   ],
   "source": [
    "$SRC_DIR/batch_countCoverage.sh"
   ]
  },
  {
   "cell_type": "markdown",
   "metadata": {},
   "source": [
    "Let's create a new \"signal\" directory to store the counts and fold change bigWig files. "
   ]
  },
  {
   "cell_type": "code",
   "execution_count": 6,
   "metadata": {
    "collapsed": false
   },
   "outputs": [
    {
     "name": "stdout",
     "output_type": "stream",
     "text": []
    }
   ],
   "source": [
    "#create a directory to store the signal data \n",
    "SIGNAL_DIR=\"${ANALYSIS_DIR}signal/\"\n",
    "[[ ! -d $SIGNAL_DIR ]] && mkdir -p \"$SIGNAL_DIR\"\n",
    "\n",
    "#create a directory to store the fold change data \n",
    "FOLDCHANGE_DIR=\"${SIGNAL_DIR}foldChange/\"\n",
    "[[ ! -d $FOLDCHANGE_DIR ]] && mkdir -p \"$FOLDCHANGE_DIR\"\n",
    "\n",
    "#create a directory to store the counts data \n",
    "COUNTS_DIR=\"${SIGNAL_DIR}counts/\"\n",
    "[[ ! -d $COUNTS_DIR ]] && mkdir -p \"$COUNTS_DIR\""
   ]
  },
  {
   "cell_type": "code",
   "execution_count": null,
   "metadata": {
    "collapsed": true
   },
   "outputs": [],
   "source": [
    "cd $TAGALIGN_DIR\n",
    "mv *.count.bedgraph.gz *.count.bigWig $COUNTS_DIR"
   ]
  },
  {
   "cell_type": "markdown",
   "metadata": {
    "collapsed": true
   },
   "source": [
    "convert the fold change files from bedGraph to bigWig format and move them to the $FOLDCHANGE_DIR "
   ]
  },
  {
   "cell_type": "code",
   "execution_count": null,
   "metadata": {
    "collapsed": true
   },
   "outputs": [],
   "source": [
    "cd $PEAKS_DIR\n",
    "for fold_change_file in *FE.bdg\n",
    "do\n",
    "    fold_change_bigwig_file=$FOLDCHANGE_DIR$(echo $(basename $fold_change_file) | sed -e 's/.bdg/.bigWig/')\n",
    "    bedGraphToBigWig $fold_change_file $YEAST_CHR $fold_change_bigwig_file \n",
    "done"
   ]
  }
 ],
 "metadata": {
  "kernelspec": {
   "display_name": "Bash",
   "language": "bash",
   "name": "bash"
  },
  "language_info": {
   "codemirror_mode": "shell",
   "file_extension": ".sh",
   "mimetype": "text/x-sh",
   "name": "bash"
  }
 },
 "nbformat": 4,
 "nbformat_minor": 0
}
