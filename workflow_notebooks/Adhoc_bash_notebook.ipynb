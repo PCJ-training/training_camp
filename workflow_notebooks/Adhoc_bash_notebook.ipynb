{
 "cells": [
  {
   "cell_type": "code",
   "execution_count": 1,
   "metadata": {
    "collapsed": false
   },
   "outputs": [
    {
     "name": "stdout",
     "output_type": "stream",
     "text": [
      "/bin/bash hi\r\n"
     ]
    }
   ],
   "source": [
    "echo \"$SHELL hi\""
   ]
  },
  {
   "cell_type": "code",
   "execution_count": 2,
   "metadata": {
    "collapsed": false
   },
   "outputs": [
    {
     "name": "stdout",
     "output_type": "stream",
     "text": [
      "$SHELL hi\r\n"
     ]
    }
   ],
   "source": [
    "echo '$SHELL hi'"
   ]
  },
  {
   "cell_type": "code",
   "execution_count": 13,
   "metadata": {
    "collapsed": false
   },
   "outputs": [
    {
     "name": "stdout",
     "output_type": "stream",
     "text": [
      "\"$SHELL\"\r\n"
     ]
    }
   ],
   "source": [
    "echo '\"$SHELL\"'"
   ]
  },
  {
   "cell_type": "code",
   "execution_count": 14,
   "metadata": {
    "collapsed": false
   },
   "outputs": [
    {
     "name": "stdout",
     "output_type": "stream",
     "text": [
      "'/bin/bash'\r\n"
     ]
    }
   ],
   "source": [
    "echo \"'$SHELL'\""
   ]
  },
  {
   "cell_type": "markdown",
   "metadata": {},
   "source": [
    "<b> Setting environment variables </b> <br \\>\n",
    "You can set environment variables with the export command. (If you don't put export in front of it, the variables will not be accessible inside scripts)"
   ]
  },
  {
   "cell_type": "code",
   "execution_count": 15,
   "metadata": {
    "collapsed": false
   },
   "outputs": [
    {
     "name": "stdout",
     "output_type": "stream",
     "text": [
      "SHELL\r\n"
     ]
    }
   ],
   "source": [
    "export HI='SHELL'\n",
    "echo $HI"
   ]
  },
  {
   "cell_type": "code",
   "execution_count": 19,
   "metadata": {
    "collapsed": false
   },
   "outputs": [
    {
     "name": "stdout",
     "output_type": "stream",
     "text": [
      "my_file_name\r\n",
      "hi.txt\tmy_file_name.txt  test.txt\r\n"
     ]
    }
   ],
   "source": [
    "export MY_FILE=\"my_file_name\"\n",
    "echo $MY_FILE\n",
    "touch $MY_FILE\".txt\"\n",
    "ls"
   ]
  },
  {
   "cell_type": "code",
   "execution_count": 20,
   "metadata": {
    "collapsed": false
   },
   "outputs": [
    {
     "name": "stdout",
     "output_type": "stream",
     "text": [
      "my_file_name\r\n"
     ]
    }
   ],
   "source": [
    "echo $MY_FILE"
   ]
  },
  {
   "cell_type": "code",
   "execution_count": 3,
   "metadata": {
    "collapsed": false
   },
   "outputs": [
    {
     "name": "stdout",
     "output_type": "stream",
     "text": [
      "total 192\r\n",
      "-rw-rw-r-- 1 user21 user21    10 Sep 12 23:25 hi.txt\r\n",
      "-rw-rw-r-- 1 user21 user21    72 Sep 12 23:24 Adhoc_bash_notebook.ipynb\r\n",
      "-rwxr-xr-x 1 user21 user21 28897 Sep 12 23:24 1.1 Unix Basics.ipynb\r\n",
      "drwxrwxr-x 2 user21 user21  4096 Sep 12 23:22 exercise\r\n",
      "-rwxr-xr-x 1 user21 user21  7079 Sep 12 22:48 0.0 Introduction to Jupyter notebooks.ipynb\r\n",
      "-rwxr-xr-x 1 user21 user21  1522 Sep 12 22:33 1.0 Big Ideas.ipynb\r\n",
      "-rwxr-xr-x 1 user21 user21 16075 Sep 12 22:33 1.2 Shell scripts and job submission.ipynb\r\n",
      "-rwxr-xr-x 1 user21 user21 24986 Sep 12 22:33 1.3 Getting ready to run code on the cluster.ipynb\r\n",
      "-rwxr-xr-x 1 user21 user21  3911 Sep 12 22:33 2.0 The metadata file.ipynb\r\n",
      "-rwxr-xr-x 1 user21 user21 15450 Sep 12 22:33 2.1_Sequencing_Data_Analysis.ipynb\r\n",
      "-rwxr-xr-x 1 user21 user21 12502 Sep 12 22:33 2.4 Creating count coverage and fold change tracks.ipynb\r\n",
      "-rwxr-xr-x 1 user21 user21 10724 Sep 12 22:33 3.1 Clustering analysis and PCA.ipynb\r\n",
      "-rwxr-xr-x 1 user21 user21 21178 Sep 12 22:33 3.2 Calling differentially expressed peaks.ipynb\r\n",
      "-rwxr-xr-x 1 user21 user21  2242 Sep 12 22:33 3.3 GO Term Enrichment.ipynb\r\n",
      "-rwxr-xr-x 1 user21 user21  2792 Sep 12 22:33 3.4 Finding TF motifs.ipynb\r\n",
      "-rwxr-xr-x 1 user21 user21   908 Sep 12 22:33 3.5 Install Missing R packages.ipynb\r\n",
      "drwxr-xr-x 2 user21 user21  4096 Sep 12 22:33 data\r\n",
      "drwxr-xr-x 2 user21 user21  4096 Sep 12 22:33 src\r\n"
     ]
    }
   ],
   "source": [
    "echo \"1234\" >> hi.txt\n",
    "echo \"5678\" >> hi.txt\n",
    "ls -lt"
   ]
  },
  {
   "cell_type": "code",
   "execution_count": null,
   "metadata": {
    "collapsed": true
   },
   "outputs": [],
   "source": [
    "mkdir simple_dir\n",
    "cd simple_dir"
   ]
  },
  {
   "cell_type": "code",
   "execution_count": 8,
   "metadata": {
    "collapsed": false
   },
   "outputs": [
    {
     "name": "stdout",
     "output_type": "stream",
     "text": [
      "howdy.txt\r\n",
      "1234\r\n",
      "5678\r\n"
     ]
    }
   ],
   "source": [
    "ln -s ../hi.txt ./howdy.txt #make a symbolic/\"soft\" link from [one directory above]/hi.txt [to this directory]\n",
    "ls\n",
    "cat howdy.txt"
   ]
  },
  {
   "cell_type": "code",
   "execution_count": 9,
   "metadata": {
    "collapsed": false
   },
   "outputs": [
    {
     "name": "stdout",
     "output_type": "stream",
     "text": [
      "total 0\r\n",
      "lrwxrwxrwx 1 user21 user21 9 Sep 12 23:30 howdy.txt -> ../hi.txt\r\n"
     ]
    }
   ],
   "source": [
    "ls -lt"
   ]
  },
  {
   "cell_type": "code",
   "execution_count": 10,
   "metadata": {
    "collapsed": false
   },
   "outputs": [
    {
     "name": "stdout",
     "output_type": "stream",
     "text": []
    }
   ],
   "source": [
    "cd ../..\n",
    "rm -r simple_dir"
   ]
  },
  {
   "cell_type": "markdown",
   "metadata": {},
   "source": [
    "<b>Organisational principles</b>:\n",
    "\n",
    "Put your code (referred to as the \"src\" directory), data and results in different directories.\n",
    "Why:\n",
    "- Makes it easy to share only the code with a collaborator\n",
    "- Use relative paths to make it easy to transfer code to different machines\n",
    "- http://journals.plos.org/ploscompbiol/article?id=10.1371/journal.pcbi.1000424\n"
   ]
  },
  {
   "cell_type": "markdown",
   "metadata": {},
   "source": [
    "File extensions have purely semantic significance."
   ]
  },
  {
   "cell_type": "markdown",
   "metadata": {},
   "source": [
    "<b> Expanding the output of a command </b> <br \\>\n",
    "The $([command]) decodes the command"
   ]
  },
  {
   "cell_type": "code",
   "execution_count": 21,
   "metadata": {
    "collapsed": false
   },
   "outputs": [
    {
     "name": "stdout",
     "output_type": "stream",
     "text": [
      "1234\r\n"
     ]
    }
   ],
   "source": [
    "touch test.txt\n",
    "echo \"1234\" >> test.txt\n",
    "echo $(head -1 test.txt)"
   ]
  },
  {
   "cell_type": "markdown",
   "metadata": {},
   "source": [
    "<b> Getting your username </b>"
   ]
  },
  {
   "cell_type": "code",
   "execution_count": 23,
   "metadata": {
    "collapsed": false
   },
   "outputs": [
    {
     "name": "stdout",
     "output_type": "stream",
     "text": [
      "user21\r\n"
     ]
    }
   ],
   "source": [
    "whoami"
   ]
  },
  {
   "cell_type": "code",
   "execution_count": null,
   "metadata": {
    "collapsed": true
   },
   "outputs": [],
   "source": []
  }
 ],
 "metadata": {
  "kernelspec": {
   "display_name": "Bash",
   "language": "bash",
   "name": "bash"
  },
  "language_info": {
   "codemirror_mode": "shell",
   "file_extension": ".sh",
   "mimetype": "text/x-sh",
   "name": "bash"
  }
 },
 "nbformat": 4,
 "nbformat_minor": 1
}
