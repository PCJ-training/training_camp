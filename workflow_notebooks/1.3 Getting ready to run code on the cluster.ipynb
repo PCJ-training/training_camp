{
 "cells": [
  {
   "cell_type": "markdown",
   "metadata": {},
   "source": [
    "# 1.3 Getting ready to run code on the cluster#"
   ]
  },
  {
   "cell_type": "markdown",
   "metadata": {},
   "source": [
    "Now that you can submit jobs like any self-respecting Unix ninja, you are ready to start analyzing data! Here you will learn about how to organize your research directory and setup the cluster environment to access all software you wish to use."
   ]
  },
  {
   "cell_type": "markdown",
   "metadata": {},
   "source": [
    "## Organizing your research as a pro##"
   ]
  },
  {
   "cell_type": "markdown",
   "metadata": {},
   "source": [
    "This is a really nice paper with guidelines on organizing computational projects in an organized and snazzy fashion: (http://journals.plos.org/ploscompbiol/article?id=10.1371/journal.pcbi.1000424). Let's see this in action!\n",
    "\n",
    "First, define a variable with the training camp directory"
   ]
  },
  {
   "cell_type": "code",
   "execution_count": 1,
   "metadata": {
    "collapsed": true
   },
   "outputs": [],
   "source": [
    "%%bash \n",
    "TCDIR=/tc2016/$(whoami)"
   ]
  },
  {
   "cell_type": "markdown",
   "metadata": {},
   "source": [
    "Organize your folder into subdirectories as a pro: "
   ]
  },
  {
   "cell_type": "code",
   "execution_count": 2,
   "metadata": {
    "collapsed": true
   },
   "outputs": [],
   "source": [
    "%%bash \n",
    "cd ${TCDIR}\n",
    "mkdir data src"
   ]
  },
  {
   "cell_type": "markdown",
   "metadata": {},
   "source": [
    "## Preparing to run code on the cluster ## "
   ]
  },
  {
   "cell_type": "markdown",
   "metadata": {},
   "source": [
    "Our data processing will use multiple software tools. To be able to access them, we can load their paths into our session, by loading their respective modules.\n",
    "\n",
    "To load a module, you can type\n",
    "**module load [desiredModule]**\n",
    "\n",
    "Once a module is loaded, you can use the code associated with that module directly. For instance, let's say you want to load a module for BEDTools (a software package we will be using in this training camp). If you run:"
   ]
  },
  {
   "cell_type": "code",
   "execution_count": 4,
   "metadata": {
    "collapsed": false
   },
   "outputs": [
    {
     "name": "stderr",
     "output_type": "stream",
     "text": [
      "bash: line 1: module: command not found\n"
     ]
    }
   ],
   "source": [
    "%%bash \n",
    "module load bedtools/2.25.0"
   ]
  },
  {
   "cell_type": "markdown",
   "metadata": {},
   "source": [
    "it loads the bedtools code, such that when you are ready to use the code, you can just directly call commands, e.g:\n"
   ]
  },
  {
   "cell_type": "code",
   "execution_count": 6,
   "metadata": {
    "collapsed": false
   },
   "outputs": [
    {
     "name": "stdout",
     "output_type": "stream",
     "text": [
      "bedtools: flexible tools for genome arithmetic and DNA sequence analysis.\n",
      "usage:    bedtools <subcommand> [options]\n",
      "\n",
      "The bedtools sub-commands include:\n",
      "\n",
      "[ Genome arithmetic ]\n",
      "    intersect     Find overlapping intervals in various ways.\n",
      "    window        Find overlapping intervals within a window around an interval.\n",
      "    closest       Find the closest, potentially non-overlapping interval.\n",
      "    coverage      Compute the coverage over defined intervals.\n",
      "    map           Apply a function to a column for each overlapping interval.\n",
      "    genomecov     Compute the coverage over an entire genome.\n",
      "    merge         Combine overlapping/nearby intervals into a single interval.\n",
      "    cluster       Cluster (but don't merge) overlapping/nearby intervals.\n",
      "    complement    Extract intervals _not_ represented by an interval file.\n",
      "    subtract      Remove intervals based on overlaps b/w two files.\n",
      "    slop          Adjust the size of intervals.\n",
      "    flank         Create new intervals from the flanks of existing intervals.\n",
      "    sort          Order the intervals in a file.\n",
      "    random        Generate random intervals in a genome.\n",
      "    shuffle       Randomly redistrubute intervals in a genome.\n",
      "    sample        Sample random records from file using reservoir sampling.\n",
      "    spacing       Report the gap lengths between intervals in a file.\n",
      "    annotate      Annotate coverage of features from multiple files.\n",
      "\n",
      "[ Multi-way file comparisons ]\n",
      "    multiinter    Identifies common intervals among multiple interval files.\n",
      "    unionbedg     Combines coverage intervals from multiple BEDGRAPH files.\n",
      "\n",
      "[ Paired-end manipulation ]\n",
      "    pairtobed     Find pairs that overlap intervals in various ways.\n",
      "    pairtopair    Find pairs that overlap other pairs in various ways.\n",
      "\n",
      "[ Format conversion ]\n",
      "    bamtobed      Convert BAM alignments to BED (& other) formats.\n",
      "    bedtobam      Convert intervals to BAM records.\n",
      "    bamtofastq    Convert BAM records to FASTQ records.\n",
      "    bedpetobam    Convert BEDPE intervals to BAM records.\n",
      "    bed12tobed6   Breaks BED12 intervals into discrete BED6 intervals.\n",
      "\n",
      "[ Fasta manipulation ]\n",
      "    getfasta      Use intervals to extract sequences from a FASTA file.\n",
      "    maskfasta     Use intervals to mask sequences from a FASTA file.\n",
      "    nuc           Profile the nucleotide content of intervals in a FASTA file.\n",
      "\n",
      "[ BAM focused tools ]\n",
      "    multicov      Counts coverage from multiple BAMs at specific intervals.\n",
      "    tag           Tag BAM alignments based on overlaps with interval files.\n",
      "\n",
      "[ Statistical relationships ]\n",
      "    jaccard       Calculate the Jaccard statistic b/w two sets of intervals.\n",
      "    reldist       Calculate the distribution of relative distances b/w two files.\n",
      "    fisher        Calculate Fisher statistic b/w two feature files.\n",
      "\n",
      "[ Miscellaneous tools ]\n",
      "    overlap       Computes the amount of overlap from two intervals.\n",
      "    igv           Create an IGV snapshot batch script.\n",
      "    links         Create a HTML page of links to UCSC locations.\n",
      "    makewindows   Make interval \"windows\" across a genome.\n",
      "    groupby       Group by common cols. & summarize oth. cols. (~ SQL \"groupBy\")\n",
      "    expand        Replicate lines based on lists of values in columns.\n",
      "    split         Split a file into multiple files with equal records or base pairs.\n",
      "\n",
      "[ General help ]\n",
      "    --help        Print this help menu.\n",
      "    --version     What version of bedtools are you using?.\n",
      "    --contact     Feature requests, bugs, mailing lists, etc.\n",
      "\n"
     ]
    }
   ],
   "source": [
    "%%bash \n",
    "bedtools -h"
   ]
  },
  {
   "cell_type": "markdown",
   "metadata": {},
   "source": [
    "Don't worry, you do not need to know off the top of your head the names of the modules you want. To see all software modules available on the AWS cluster, type:"
   ]
  },
  {
   "cell_type": "code",
   "execution_count": 8,
   "metadata": {
    "collapsed": false
   },
   "outputs": [
    {
     "name": "stderr",
     "output_type": "stream",
     "text": [
      "bash: line 1: module: command not found\n"
     ]
    }
   ],
   "source": [
    "%%bash \n",
    "module avail"
   ]
  },
  {
   "cell_type": "markdown",
   "metadata": {},
   "source": [
    "## The .bashrc file (=your friend) ##"
   ]
  },
  {
   "cell_type": "markdown",
   "metadata": {},
   "source": [
    "Wouldn't it be nice to have everything ready to run when you log into the cluster?\n",
    "To avoid having to run module load commands every time you log in, you can add these commands to a .bashrc file, located in your home directory. The .bashrc file contains a set of commands that get executed every time you log into the server. In this way, every time you log in, you will be all set to run all code you wish.\n",
    "\n",
    "Note: Technically, the ~/.bashrc file is not what's executed on login; it's ~/.bash_profile, which in turn calls ~/.bashrc. If your .bash_profile does not call .bashrc, put the line source ~/.bashrc in your .bash_profile. The difference between the two files is explained here: http://www.joshstaiger.org/archives/2005/07/bash_profile_vs.html\n",
    "\n",
    "Let's add all our desired module loading commands into a .bashrc file. "
   ]
  },
  {
   "cell_type": "code",
   "execution_count": 19,
   "metadata": {
    "collapsed": false
   },
   "outputs": [
    {
     "name": "stdout",
     "output_type": "stream",
     "text": [
      "module load bowtie/2.0.5\n",
      "module load bedtools/2.19.1\n",
      "module load fastqc/0.11.2\n",
      "module load java/latest\n",
      "module load picard-tools/1.92\n",
      "module load r/3.0.1\n",
      "module load samtools/0.1.19\n",
      "module load ucsc_tools/2.7.2\n",
      "module load MACS2/2.1.0\n",
      "module load homer/default\n"
     ]
    }
   ],
   "source": [
    "%%bash\n",
    "\n",
    "bowtie_load='module load bowtie/2.0.5'\n",
    "bedtools_load='module load bedtools/2.19.1'\n",
    "fastqc_load='module load fastqc/0.11.2'\n",
    "java_load='module load java/latest'\n",
    "picard_load='module load picard-tools/1.92'\n",
    "r_load='module load r/3.0.1'\n",
    "samtools_load='module load samtools/0.1.19'\n",
    "ucsc_load='module load ucsc_tools/2.7.2'\n",
    "macs2_load='module load MACS2/2.1.0'\n",
    "homer_load='module load homer/default'\n",
    "\n",
    "#only add the module load commands to the ~/.bashrc file if they don't exist in this file already \n",
    "grep -E \"$bowtie_load\" ~/.bashrc || echo $bowtie_load >> ~/.bashrc\n",
    "grep -E \"$bedtools_load\" ~/.bashrc || echo $bedtools_load >> ~/.bashrc\n",
    "grep -E \"$fastqc_load\" ~/.bashrc || echo $fastqc_load >> ~/.bashrc\n",
    "grep -E \"$java_load\" ~/.bashrc || echo $java_load >> ~/.bashrc\n",
    "grep -E \"$picard_load\" ~/.bashrc || echo $picard_load >> ~/.bashrc\n",
    "grep -E \"$r_load\" ~/.bashrc || echo $r_load >> ~/.bashrc\n",
    "grep -E \"$samtools_load\" ~/.bashrc || echo $samtools_load >> ~/.bashrc\n",
    "grep -E \"$ucsc_load\" ~/.bashrc || echo $ucsc_load >> ~/.bashrc\n",
    "grep -E \"$macs2_load\" ~/.bashrc || echo $macs2_load >> ~/.bashrc\n",
    "grep -E \"$homer_load\" ~/.bashrc || echo $homer_load >> ~/.bashrc\n",
    "\n"
   ]
  },
  {
   "cell_type": "markdown",
   "metadata": {},
   "source": [
    "## Defining shortcuts in the .bashrc file ##"
   ]
  },
  {
   "cell_type": "markdown",
   "metadata": {},
   "source": [
    "Why stop here? You can make all your dreams come true in the .bashrc file!\n",
    "For instance, you can add to the .bashrc file some shortcuts to your directories of interest, which you can then seamlessly use. Add the following to your .bashrc:\n",
    "### Note: only run the cell below once to avoid adding the entries to your .bashrc file multiple times. You might want to comment out this cell after you have run the commands (i.e. add # in front of each line)###"
   ]
  },
  {
   "cell_type": "code",
   "execution_count": 27,
   "metadata": {
    "collapsed": false
   },
   "outputs": [
    {
     "name": "stdout",
     "output_type": "stream",
     "text": [
      "export AK_DATA_DIR=\"/srv/scratch/trainingCamp/2016/data/2016\"\n",
      "export AK_TOOL_DIR=\"/srv/scratch/trainingCamp/2016/tools\"\n"
     ]
    }
   ],
   "source": [
    "%%bash \n",
    "echo 'export SUNETID=\"$(whoami)\"' >> ~/.bashrc \n",
    "echo 'export WORK_DIR=\"/tc2016/${SUNETID}\"' >> ~/.bashrc\n",
    "echo 'export DATA_DIR=\"${WORK_DIR}/data\"' >> ~/.bashrc\n",
    "echo '[[ ! -d ${DATA_DIR} ]] && mkdir \"${DATA_DIR}\"' >> ~/.bashrc\n",
    "echo 'export SRC_DIR=\"${WORK_DIR}/src/training_camp/src\"' >> ~/.bashrc\n",
    "echo '[[ ! -d ${WORK_DIR}/src ]] && mkdir -p \"${WORK_DIR}/src\"' >> ~/.bashrc\n",
    "echo 'export AK_DATA_DIR=\"/srv/scratch/trainingCamp/2016/data/2016\"' >> ~/.bashrc\n",
    "echo 'export AK_TOOL_DIR=\"/srv/scratch/trainingCamp/2016/tools\"' >> ~/.bashrc\n",
    "echo 'export YEAST_DIR=\"${AK_TOOL_DIR}/Saccharomyces_cerevisiae/UCSC/sacCer3/Sequence\"' >> ~/.bashrc \n",
    "echo 'export YEAST_INDEX=\"${YEAST_DIR}/Bowtie2Index/genome\"' >> ~/.bashrc\n",
    "echo 'export YEAST_CHR=\"${YEAST_DIR}/Chromosomes\"' >> ~/.bashrc\n",
    "echo 'export TMP=\"${WORK_DIR}/data/tmp\"' >> ~/.bashrc\n",
    "echo 'export TEMP=$TMP' >> ~/.bashrc\n",
    "echo 'export TMPDIR=$TMP' >> ~/.bashrc\n",
    "echo 'mkdir $TMP' >> ~/.bashrc "
   ]
  },
  {
   "cell_type": "markdown",
   "metadata": {},
   "source": [
    "**\\$\\{WORK\\_DIR\\}** is your main work directory\n",
    "\n",
    "**\\$\\{SRC\\_DIR\\}** is your src/ directory\n",
    "\n",
    "**\\$\\{DATA\\_DIR\\}** is your data/ directory\n",
    "\n",
    "**\\$\\{AK\\_DATA\\_DIR\\}** is the directory with the fastq files (the data you will use in this project)"
   ]
  },
  {
   "cell_type": "markdown",
   "metadata": {},
   "source": [
    "To see your ~/.bashrc and ~/.bash_profile files in action, logout and log in again. All modules should be loaded and all shortcuts should be set!"
   ]
  },
  {
   "cell_type": "markdown",
   "metadata": {},
   "source": [
    "## Data and code for this project ##"
   ]
  },
  {
   "cell_type": "markdown",
   "metadata": {},
   "source": [
    "Make symbolic links to the data (symbolic links are pointers to other files; they behave like copies of the original file but without actually duplicating the data):"
   ]
  },
  {
   "cell_type": "code",
   "execution_count": 32,
   "metadata": {
    "collapsed": false
   },
   "outputs": [
    {
     "name": "stderr",
     "output_type": "stream",
     "text": [
      "mkdir: cannot create directory ‘/fastq’: Permission denied\n",
      "ln: target ‘/fastq/’ is not a directory: No such file or directory\n"
     ]
    }
   ],
   "source": [
    "%%bash \n",
    "mkdir -p ${DATA_DIR}/fastq #makes a directory to contain the symbolic links\n",
    "ln -s -r ${AK_DATA_DIR}/* ${DATA_DIR}/fastq/  #creates the symbolic links (-r is needed to handle directories)"
   ]
  },
  {
   "cell_type": "markdown",
   "metadata": {},
   "source": [
    "Get the code we provide for this project:"
   ]
  },
  {
   "cell_type": "code",
   "execution_count": 33,
   "metadata": {
    "collapsed": false
   },
   "outputs": [
    {
     "name": "stderr",
     "output_type": "stream",
     "text": [
      "bash: line 1: cd: /src: No such file or directory\n",
      "Cloning into 'training_camp'...\n"
     ]
    }
   ],
   "source": [
    "%%bash \n",
    "cd ${WORK_DIR}/src\n",
    "git clone https://github.com/kundajelab/training_camp"
   ]
  },
  {
   "cell_type": "markdown",
   "metadata": {},
   "source": [
    "## Writing code and code version control ##"
   ]
  },
  {
   "cell_type": "markdown",
   "metadata": {},
   "source": [
    "Your code is precious! For this reason, you want to: 1) make sure it is backed up, and 2) keep a \"diary\" of all versions of your code so that you can track its progress and revert back to previous versions if need be. Both of these goals can be achieved with version control software, such as Github.\n",
    "\n",
    "In this training camp you will get familiarized with GitHub.\n",
    "\n",
    "First, go to Github, make an account and create a repository. Let's assume you named the repository myExampleRepo.\n",
    "\n",
    "Then, to get used to GitHub, you can try to make a test script and add it to your repository on GitHub.\n",
    "\n",
    "First, we will get a copy of your Github repository in your directory"
   ]
  },
  {
   "cell_type": "code",
   "execution_count": 34,
   "metadata": {
    "collapsed": false
   },
   "outputs": [
    {
     "name": "stderr",
     "output_type": "stream",
     "text": [
      "bash: line 4: githubusername: No such file or directory\n"
     ]
    }
   ],
   "source": [
    "%%bash \n",
    "cd ${WORK_DIR}\n",
    "mkdir testGihub\n",
    "cd testGihub\n",
    "export githubusername=\"FILL IN YOUR USERNAME HERE!\"\n",
    "git clone https://github.com/$githubusername/myExampleRepo\n",
    "ls"
   ]
  },
  {
   "cell_type": "markdown",
   "metadata": {},
   "source": [
    "You should now see a directory named myExampleRepo in the current working directory. We will now make a new file and add it to the repository. We add some text to this script using the \"echo\" command."
   ]
  },
  {
   "cell_type": "code",
   "execution_count": 37,
   "metadata": {
    "collapsed": false
   },
   "outputs": [
    {
     "name": "stderr",
     "output_type": "stream",
     "text": [
      "bash: line 1: cd: myExampleRepo: No such file or directory\n"
     ]
    }
   ],
   "source": [
    "%%bash \n",
    "cd myExampleRepo\n",
    "touch ${SUNETID}_testscript.sh\n",
    "echo \"Here is some example text\" >> ${SUNETID}_testscripts.sh"
   ]
  },
  {
   "cell_type": "markdown",
   "metadata": {},
   "source": [
    "Now, you will learn how to \"push\" this script to Github.\n",
    "\n",
    "First, get the most current version of the code:"
   ]
  },
  {
   "cell_type": "code",
   "execution_count": 38,
   "metadata": {
    "collapsed": false
   },
   "outputs": [
    {
     "name": "stdout",
     "output_type": "stream",
     "text": [
      "Already up-to-date.\n"
     ]
    }
   ],
   "source": [
    "%%bash \n",
    "git pull "
   ]
  },
  {
   "cell_type": "markdown",
   "metadata": {},
   "source": [
    "You will probably be told that your repository is already up-to-date. However, if you are collaborating with other people, or have modified the code from a different computer, it is very important to always do a git pull before submitting your changes."
   ]
  },
  {
   "cell_type": "markdown",
   "metadata": {},
   "source": [
    "Next, add your code to the Github:"
   ]
  },
  {
   "cell_type": "code",
   "execution_count": null,
   "metadata": {
    "collapsed": true
   },
   "outputs": [],
   "source": [
    "%%bash \n",
    "git add ${SUNETID}_testscript.sh"
   ]
  },
  {
   "cell_type": "markdown",
   "metadata": {},
   "source": [
    "Tell Github that you are ready to load your code (so-called commit)."
   ]
  },
  {
   "cell_type": "code",
   "execution_count": null,
   "metadata": {
    "collapsed": true
   },
   "outputs": [],
   "source": [
    "%%bash \n",
    "git commit -m \"my first script on github\""
   ]
  },
  {
   "cell_type": "markdown",
   "metadata": {},
   "source": [
    "Then, push your code to Github."
   ]
  },
  {
   "cell_type": "code",
   "execution_count": null,
   "metadata": {
    "collapsed": true
   },
   "outputs": [],
   "source": [
    "%%bash \n",
    "git push"
   ]
  },
  {
   "cell_type": "markdown",
   "metadata": {},
   "source": [
    "When you visit the Github page for your code, you should be able to see your code!"
   ]
  },
  {
   "cell_type": "markdown",
   "metadata": {},
   "source": [
    "These are only the most basic commands. For more on Github see https://training.github.com/kit/downloads/github-git-cheat-sheet.pdf\n",
    "\n",
    "Let the analysis begin!"
   ]
  }
 ],
 "metadata": {
  "kernelspec": {
   "display_name": "Python 2",
   "language": "python",
   "name": "python2"
  },
  "language_info": {
   "codemirror_mode": {
    "name": "ipython",
    "version": 2
   },
   "file_extension": ".py",
   "mimetype": "text/x-python",
   "name": "python",
   "nbconvert_exporter": "python",
   "pygments_lexer": "ipython2",
   "version": "2.7.12"
  }
 },
 "nbformat": 4,
 "nbformat_minor": 0
}
