{
 "cells": [
  {
   "cell_type": "markdown",
   "metadata": {},
   "source": [
    "# 1.3 Getting ready to run code on the cluster#"
   ]
  },
  {
   "cell_type": "markdown",
   "metadata": {},
   "source": [
    "### IMPORTANT: Please make sure that your are using the bash kernel to run this notebook.\n",
    "\n",
    "Now that you can submit jobs like any self-respecting Unix ninja, you are ready to start analyzing data! Here you will learn about how to organize your research directory and setup the cluster environment to access all software you wish to use."
   ]
  },
  {
   "cell_type": "markdown",
   "metadata": {},
   "source": [
    "## Organizing your research as a pro##"
   ]
  },
  {
   "cell_type": "markdown",
   "metadata": {},
   "source": [
    "This is a really nice paper with guidelines on organizing computational projects in an organized and snazzy fashion: (http://journals.plos.org/ploscompbiol/article?id=10.1371/journal.pcbi.1000424). Let's see this in action!\n",
    "\n",
    "First, define a variable with the training camp directory"
   ]
  },
  {
   "cell_type": "code",
   "execution_count": 13,
   "metadata": {
    "collapsed": false
   },
   "outputs": [
    {
     "name": "stdout",
     "output_type": "stream",
     "text": [
      "/srv/scratch/training_camp/tc2016/ubuntu\r\n"
     ]
    }
   ],
   "source": [
    "export TCDIR=/srv/scratch/training_camp/tc2016/$(whoami)\n",
    "echo $TCDIR"
   ]
  },
  {
   "cell_type": "markdown",
   "metadata": {},
   "source": [
    "Organize your folder into subdirectories as a pro: "
   ]
  },
  {
   "cell_type": "code",
   "execution_count": 14,
   "metadata": {
    "collapsed": false
   },
   "outputs": [
    {
     "name": "stdout",
     "output_type": "stream",
     "text": [
      "mkdir: cannot create directory ‘data’: File exists\r\n",
      "mkdir: cannot create directory ‘src’: File exists\r\n"
     ]
    }
   ],
   "source": [
    "cd ${TCDIR}\n",
    "mkdir data src"
   ]
  },
  {
   "cell_type": "markdown",
   "metadata": {},
   "source": [
    "## Preparing to run code on the cluster ## "
   ]
  },
  {
   "cell_type": "markdown",
   "metadata": {},
   "source": [
    "Our data processing will use multiple software tools. To be able to access them, we can load their paths into our session, by loading their respective modules.\n",
    "\n",
    "To load a module, you can type\n",
    "**module load [desiredModule]**\n",
    "\n",
    "Once a module is loaded, you can use the code associated with that module directly. For instance, let's say you want to load a module for BEDTools (a software package we will be using in this training camp). If you run:"
   ]
  },
  {
   "cell_type": "code",
   "execution_count": 15,
   "metadata": {
    "collapsed": false
   },
   "outputs": [
    {
     "name": "stdout",
     "output_type": "stream",
     "text": []
    }
   ],
   "source": [
    "source /etc/profile.d/modules.sh"
   ]
  },
  {
   "cell_type": "code",
   "execution_count": 16,
   "metadata": {
    "collapsed": false
   },
   "outputs": [
    {
     "name": "stdout",
     "output_type": "stream",
     "text": []
    }
   ],
   "source": [
    "module load bedtools/2.17.0"
   ]
  },
  {
   "cell_type": "markdown",
   "metadata": {},
   "source": [
    "it loads the bedtools code, such that when you are ready to use the code, you can just directly call commands, e.g:\n"
   ]
  },
  {
   "cell_type": "code",
   "execution_count": 17,
   "metadata": {
    "collapsed": false
   },
   "outputs": [
    {
     "name": "stdout",
     "output_type": "stream",
     "text": [
      "bedtools: flexible tools for genome arithmetic and DNA sequence analysis.\r\n",
      "usage:    bedtools <subcommand> [options]\r\n",
      "\r\n",
      "The bedtools sub-commands include:\r\n",
      "\r\n",
      "[ Genome arithmetic ]\r\n",
      "    intersect     Find overlapping intervals in various ways.\r\n",
      "    window        Find overlapping intervals within a window around an interval.\r\n",
      "    closest       Find the closest, potentially non-overlapping interval.\r\n",
      "    coverage      Compute the coverage over defined intervals.\r\n",
      "    map           Apply a function to a column for each overlapping interval.\r\n",
      "    genomecov     Compute the coverage over an entire genome.\r\n",
      "    merge         Combine overlapping/nearby intervals into a single interval.\r\n",
      "    cluster       Cluster (but don't merge) overlapping/nearby intervals.\r\n",
      "    complement    Extract intervals _not_ represented by an interval file.\r\n",
      "    subtract      Remove intervals based on overlaps b/w two files.\r\n",
      "    slop          Adjust the size of intervals.\r\n",
      "    flank         Create new intervals from the flanks of existing intervals.\r\n",
      "    sort          Order the intervals in a file.\r\n",
      "    random        Generate random intervals in a genome.\r\n",
      "    shuffle       Randomly redistrubute intervals in a genome.\r\n",
      "    annotate      Annotate coverage of features from multiple files.\r\n",
      "\r\n",
      "[ Multi-way file comparisons ]\r\n",
      "    multiinter    Identifies common intervals among multiple interval files.\r\n",
      "    unionbedg     Combines coverage intervals from multiple BEDGRAPH files.\r\n",
      "\r\n",
      "[ Paired-end manipulation ]\r\n",
      "    pairtobed     Find pairs that overlap intervals in various ways.\r\n",
      "    pairtopair    Find pairs that overlap other pairs in various ways.\r\n",
      "\r\n",
      "[ Format conversion ]\r\n",
      "    bamtobed      Convert BAM alignments to BED (& other) formats.\r\n",
      "    bedtobam      Convert intervals to BAM records.\r\n",
      "    bamtofastq    Convert BAM records to FASTQ records.\r\n",
      "    bedpetobam    Convert BEDPE intervals to BAM records.\r\n",
      "    bed12tobed6   Breaks BED12 intervals into discrete BED6 intervals.\r\n",
      "\r\n",
      "[ Fasta manipulation ]\r\n",
      "    getfasta      Use intervals to extract sequences from a FASTA file.\r\n",
      "    maskfasta     Use intervals to mask sequences from a FASTA file.\r\n",
      "    nuc           Profile the nucleotide content of intervals in a FASTA file.\r\n",
      "\r\n",
      "[ BAM focused tools ]\r\n",
      "    multicov      Counts coverage from multiple BAMs at specific intervals.\r\n",
      "    tag           Tag BAM alignments based on overlaps with interval files.\r\n",
      "\r\n",
      "[ Statistics tools ]\r\n",
      "    jaccard       Calculates the Jaccard statistic b/w two sets of intervals.\r\n",
      "\r\n",
      "[ Miscellaneous tools ]\r\n",
      "    overlap       Computes the amount of overlap from two intervals.\r\n",
      "    igv           Create an IGV snapshot batch script.\r\n",
      "    links         Create a HTML page of links to UCSC locations.\r\n",
      "    makewindows   Make interval \"windows\" across a genome.\r\n",
      "    groupby       Group by common cols. & summarize oth. cols. (~ SQL \"groupBy\")\r\n",
      "    expand        Replicate lines based on lists of values in columns.\r\n",
      "\r\n",
      "[ General help ]\r\n",
      "    --help        Print this help menu.\r\n",
      "    --version     What version of bedtools are you using?.\r\n",
      "    --contact     Feature requests, bugs, mailing lists, etc.\r\n",
      "\r\n"
     ]
    }
   ],
   "source": [
    "bedtools -h"
   ]
  },
  {
   "cell_type": "markdown",
   "metadata": {},
   "source": [
    "Don't worry, you do not need to know off the top of your head the names of the modules you want. To see all software modules available on the AWS cluster, type:"
   ]
  },
  {
   "cell_type": "code",
   "execution_count": 18,
   "metadata": {
    "collapsed": false
   },
   "outputs": [
    {
     "name": "stdout",
     "output_type": "stream",
     "text": [
      "\r\n",
      "------------------------- /usr/share/modules/versions --------------------------\r\n",
      "3.2.10\r\n",
      "\r\n",
      "------------------------ /usr/share/modules/modulefiles ------------------------\r\n",
      "MACS2/2.0.9       fastqc/0.10.1     module-info       r/3.0.2\r\n",
      "bedtools/2.17.0   homer/default     modules           samtools/0.1.19\r\n",
      "bowtie/2.1.0      java/latest       null              ucsc_tools/2.7.2\r\n",
      "dot               module-git        picard-tools/1.95 use.own\r\n"
     ]
    }
   ],
   "source": [
    "module avail"
   ]
  },
  {
   "cell_type": "markdown",
   "metadata": {},
   "source": [
    "## The .bashrc file (=your friend) ##"
   ]
  },
  {
   "cell_type": "markdown",
   "metadata": {},
   "source": [
    "Wouldn't it be nice to have everything ready to run when you log into the cluster?\n",
    "To avoid having to run module load commands every time you log in, you can add these commands to a .bashrc file, located in your home directory. The .bashrc file contains a set of commands that get executed every time you log into the server. In this way, every time you log in, you will be all set to run all code you wish.\n",
    "\n",
    "Note: Technically, the ~/.bashrc file is not what's executed on login; it's ~/.bash_profile, which in turn calls ~/.bashrc. If your .bash_profile does not call .bashrc, put the line source ~/.bashrc in your .bash_profile. The difference between the two files is explained here: http://www.joshstaiger.org/archives/2005/07/bash_profile_vs.html\n",
    "\n",
    "Let's add all our desired module loading commands into a .bashrc file. "
   ]
  },
  {
   "cell_type": "code",
   "execution_count": 19,
   "metadata": {
    "collapsed": false
   },
   "outputs": [
    {
     "name": "stdout",
     "output_type": "stream",
     "text": [
      "module load bowtie/2.1.0\r\n",
      "module load bedtools/2.17.0\r\n",
      "module load fastqc/0.10.1\r\n",
      "module load java/latest\r\n",
      "module load picard-tools/1.95\r\n",
      "module load r/3.0.2\r\n",
      "module load samtools/0.1.19\r\n",
      "module load ucsc_tools/2.7.2\r\n",
      "module load MACS2/2.0.9\r\n",
      "module load homer/default\r\n"
     ]
    }
   ],
   "source": [
    "bowtie_load='module load bowtie/2.1.0'\n",
    "bedtools_load='module load bedtools/2.17.0'\n",
    "fastqc_load='module load fastqc/0.10.1'\n",
    "java_load='module load java/latest'\n",
    "picard_load='module load picard-tools/1.95'\n",
    "r_load='module load r/3.0.2'\n",
    "samtools_load='module load samtools/0.1.19'\n",
    "ucsc_load='module load ucsc_tools/2.7.2'\n",
    "macs2_load='module load MACS2/2.0.9'\n",
    "homer_load='module load homer/default'\n",
    "\n",
    "#only add the module load commands to the ~/.bashrc file if they don't exist in this file already \n",
    "grep -E \"$bowtie_load\" ~/.bashrc || echo $bowtie_load >> ~/.bashrc\n",
    "grep -E \"$bedtools_load\" ~/.bashrc || echo $bedtools_load >> ~/.bashrc\n",
    "grep -E \"$fastqc_load\" ~/.bashrc || echo $fastqc_load >> ~/.bashrc\n",
    "grep -E \"$java_load\" ~/.bashrc || echo $java_load >> ~/.bashrc\n",
    "grep -E \"$picard_load\" ~/.bashrc || echo $picard_load >> ~/.bashrc\n",
    "grep -E \"$r_load\" ~/.bashrc || echo $r_load >> ~/.bashrc\n",
    "grep -E \"$samtools_load\" ~/.bashrc || echo $samtools_load >> ~/.bashrc\n",
    "grep -E \"$ucsc_load\" ~/.bashrc || echo $ucsc_load >> ~/.bashrc\n",
    "grep -E \"$macs2_load\" ~/.bashrc || echo $macs2_load >> ~/.bashrc\n",
    "grep -E \"$homer_load\" ~/.bashrc || echo $homer_load >> ~/.bashrc\n",
    "\n"
   ]
  },
  {
   "cell_type": "markdown",
   "metadata": {},
   "source": [
    "## Defining shortcuts in the .bashrc file ##"
   ]
  },
  {
   "cell_type": "markdown",
   "metadata": {},
   "source": [
    "Why stop here? You can make all your dreams come true in the .bashrc file!\n",
    "For instance, you can add to the .bashrc file some shortcuts to your directories of interest, which you can then seamlessly use. Add the following to your .bashrc:"
   ]
  },
  {
   "cell_type": "code",
   "execution_count": 20,
   "metadata": {
    "collapsed": false
   },
   "outputs": [
    {
     "name": "stdout",
     "output_type": "stream",
     "text": [
      "#shortcuts_defined:\r\n"
     ]
    }
   ],
   "source": [
    "grep -E \"shortcuts_defined\" ~/.bashrc || \n",
    "(echo '#shortcuts_defined:' >> ~/.bashrc &&\n",
    "echo 'export SUNETID=\"$(whoami)\"' >> ~/.bashrc &&\n",
    "echo 'export WORK_DIR=\"/srv/scratch/training_camp/tc2016/${SUNETID}\"' >> ~/.bashrc &&\n",
    "echo 'export DATA_DIR=\"${WORK_DIR}/data\"' >> ~/.bashrc &&\n",
    "echo '[[ ! -d ${DATA_DIR} ]] && mkdir \"${DATA_DIR}\"' >> ~/.bashrc &&\n",
    "echo 'export SRC_DIR=\"${WORK_DIR}/src/training_camp/src\"' >> ~/.bashrc &&\n",
    "echo '[[ ! -d ${WORK_DIR}/src ]] && mkdir -p \"${WORK_DIR}/src\"' >> ~/.bashrc &&\n",
    "echo 'export ANALYSIS_DIR=${WORK_DIR}/analysis' >> ~/.bashrc &&\n",
    "echo '[[ ! -d ${WORK_DIR}/analysis ]] && mkdir -p \"${WORK_DIR}/analysis\"' >> ~/.bashrc &&\n",
    "echo 'export AK_DATA_DIR=\"/srv/scratch/training_camp/data/fastqs\"' >> ~/.bashrc &&\n",
    "echo 'export AK_TOOL_DIR=\"/srv/scratch/training_camp/tools\"' >> ~/.bashrc &&\n",
    "echo 'export AK_TOOL_DIR=\"/srv/scratch/training_camp/metadata\"' >> ~/.bashrc &&\n",
    "echo 'export YEAST_DIR=\"/srv/scratch/training_camp/saccer3/seq\"' >> ~/.bashrc &&\n",
    "echo 'export YEAST_INDEX=\"/srv/scratch/training_camp/saccer3/bowtie2_index/saccer3\"' >> ~/.bashrc &&\n",
    "echo 'export YEAST_CHR=\"/srv/scratch/training_camp/saccer3/sacCer3.chrom.sizes\"' >> ~/.bashrc &&\n",
    "echo 'export TMP=\"${WORK_DIR}/tmp\"' >> ~/.bashrc &&\n",
    "echo 'export TEMP=$TMP' >> ~/.bashrc &&\n",
    "echo 'export TMPDIR=$TMP' >> ~/.bashrc &&\n",
    "echo 'mkdir $TMP' >> ~/.bashrc)"
   ]
  },
  {
   "cell_type": "markdown",
   "metadata": {},
   "source": [
    "**\\$\\{WORK\\_DIR\\}** is your main work directory\n",
    "\n",
    "**\\$\\{SRC\\_DIR\\}** is your src/ directory\n",
    "\n",
    "**\\$\\{DATA\\_DIR\\}** is your data/ directory\n",
    "\n",
    "**\\$\\{AK\\_DATA\\_DIR\\}** is the directory with the fastq files (the data you will use in this project)"
   ]
  },
  {
   "cell_type": "markdown",
   "metadata": {},
   "source": [
    "To see your ~/.bashrc and ~/.bash_profile files in action, logout and log in again. All modules should be loaded and all shortcuts should be set!\n",
    "\n",
    "Since logging in/out would disrupt this tutorial, we execute the commands in our ipython notebook:"
   ]
  },
  {
   "cell_type": "code",
   "execution_count": 21,
   "metadata": {
    "collapsed": false
   },
   "outputs": [
    {
     "name": "stdout",
     "output_type": "stream",
     "text": [
      "mkdir: cannot create directory ‘/srv/scratch/training_camp/tc2016/ubuntu/tmp’: File exists\r\n"
     ]
    }
   ],
   "source": [
    "export SUNETID=\"$(whoami)\"\n",
    "export WORK_DIR=\"/srv/scratch/training_camp/tc2016/${SUNETID}\"\n",
    "export DATA_DIR=\"${WORK_DIR}/data\"\n",
    "[[ ! -d ${DATA_DIR} ]] && mkdir \"${DATA_DIR}\"\n",
    "export SRC_DIR=\"${WORK_DIR}/src/training_camp/src\"\n",
    "[[ ! -d ${WORK_DIR}/src ]] && mkdir -p \"${WORK_DIR}/src\"\n",
    "export ANALYSIS_DIR=${WORK_DIR}/analysis/\n",
    "[[ ! -d ${WORK_DIR}/analysis ]] && mkdir -p \"${WORK_DIR}/analysis\"\n",
    "export AK_DATA_DIR=\"/srv/scratch/training_camp/data/fastqs\"\n",
    "export AK_METADATA_DIR=\"/srv/scratch/training_camp/metadata\"\n",
    "export AK_TOOL_DIR=\"/srv/scratch/training_camp/tools\"\n",
    "export YEAST_DIR=\"/srv/scratch/training_camp/saccer3/seq\"\n",
    "export YEAST_INDEX=\"/srv/scratch/training_camp/saccer3/bowtie2_index/saccer3\"\n",
    "export YEAST_CHR=\"/srv/scratch/training_camp/saccer3/sacCer3.chrom.sizes\"\n",
    "export TMP=\"${WORK_DIR}/tmp\"\n",
    "export TEMP=$TMP \n",
    "export TMPDIR=$TMP\n",
    "mkdir $TMP"
   ]
  },
  {
   "cell_type": "markdown",
   "metadata": {},
   "source": [
    "## Data and code for this project ##"
   ]
  },
  {
   "cell_type": "markdown",
   "metadata": {},
   "source": [
    "Create a directory to store FASTQ files"
   ]
  },
  {
   "cell_type": "code",
   "execution_count": 22,
   "metadata": {
    "collapsed": false
   },
   "outputs": [
    {
     "name": "stdout",
     "output_type": "stream",
     "text": []
    }
   ],
   "source": [
    "mkdir -p ${DATA_DIR}/fastq #makes a directory to contain the symbolic links"
   ]
  },
  {
   "cell_type": "markdown",
   "metadata": {},
   "source": [
    "If you wanted to analyze all the data, you would make symbolic links to the data (symbolic links are pointers to other files; they behave like copies of the original file but without actually duplicating the data):"
   ]
  },
  {
   "cell_type": "code",
   "execution_count": 23,
   "metadata": {
    "collapsed": false
   },
   "outputs": [
    {
     "name": "stdout",
     "output_type": "stream",
     "text": []
    }
   ],
   "source": [
    "#DO NOT UNCOMMENT THIS LINE!\n",
    "#ln -s -r ${AK_DATA_DIR}/* ${DATA_DIR}/fastq/  #creates the symbolic links (-r is needed to handle directories)"
   ]
  },
  {
   "cell_type": "markdown",
   "metadata": {},
   "source": [
    "However, there is quite a bit of data, so instead, you can copy just the samples that you generated to your FASTQ directory. To do this, uncomment the line below corresponding to the samples you worked on. "
   ]
  },
  {
   "cell_type": "code",
   "execution_count": null,
   "metadata": {
    "collapsed": false
   },
   "outputs": [],
   "source": [
    "# cp $AK_DATA_DIR/*Ct_1_S22* $DATA_DIR/fastq\n",
    "# cp $AK_DATA_DIR/*Ct_2_S23* $DATA_DIR/fastq\n",
    "# cp $AK_DATA_DIR/*Ct_300_S3* $DATA_DIR/fastq\n",
    "# cp $AK_DATA_DIR/*Ct_3_S24* $DATA_DIR/fastq\n",
    "# cp $AK_DATA_DIR/*Ct_800_S9* $DATA_DIR/fastq\n",
    "\n",
    "\n",
    "# cp $AK_DATA_DIR/*Cz_1_S16* $DATA_DIR/fastq\n",
    "# cp $AK_DATA_DIR/*Cz_2_S17* $DATA_DIR/fastq\n",
    "# cp $AK_DATA_DIR/*Cz_300_S1* $DATA_DIR/fastq\n",
    "# cp $AK_DATA_DIR/*Cz_3_S18* $DATA_DIR/fastq\n",
    "# cp $AK_DATA_DIR/*Cz_800_S7* $DATA_DIR/fastq\n",
    "\n",
    "# cp $AK_DATA_DIR/*DMSO_1_S31* $DATA_DIR/fastq\n",
    "# cp $AK_DATA_DIR/*DMSO_1_S6* $DATA_DIR/fastq\n",
    "# cp $AK_DATA_DIR/*DMSO_2_S12* $DATA_DIR/fastq\n",
    "# cp $AK_DATA_DIR/*DMSO_2_S32* $DATA_DIR/fastq\n",
    "\n",
    "# cp $AK_DATA_DIR/*It_1_S25* $DATA_DIR/fastq\n",
    "# cp $AK_DATA_DIR/*It_2_s26* $DATA_DIR/fastq\n",
    "# cp $AK_DATA_DIR/*It_300_S5* $DATA_DIR/fastq\n",
    "# cp $AK_DATA_DIR/*It_3_S27* $DATA_DIR/fastq\n",
    "# cp $AK_DATA_DIR/*It_800_S11* $DATA_DIR/fastq\n",
    "\n",
    "# cp $AK_DATA_DIR/*Kt_1_S13* $DATA_DIR/fastq\n",
    "# cp $AK_DATA_DIR/*Kt_2_S14* $DATA_DIR/fastq\n",
    "# cp $AK_DATA_DIR/*Kt_3_S15* $DATA_DIR/fastq\n",
    "# cp $AK_DATA_DIR/*Kz_300_S4* $DATA_DIR/fastq\n",
    "# cp $AK_DATA_DIR/*Kz_800_S10* $DATA_DIR/fastq\n",
    "\n",
    "# cp $AK_DATA_DIR/*Kt_1_S13* $DATA_DIR/fastq\n",
    "# cp $AK_DATA_DIR/*Kt_2_S14* $DATA_DIR/fastq\n",
    "# cp $AK_DATA_DIR/*Kt_3_S15* $DATA_DIR/fastq\n",
    "# cp $AK_DATA_DIR/*Kz_300_S4* $DATA_DIR/fastq\n",
    "# cp $AK_DATA_DIR/*Kz_800_S10* $DATA_DIR/fastq\n",
    "\n",
    "# cp $AK_DATA_DIR/*Mz_1_S19* $DATA_DIR/fastq\n",
    "# cp $AK_DATA_DIR/*Mz_2_S20* $DATA_DIR/fastq\n",
    "# cp $AK_DATA_DIR/*Mz_300_S2* $DATA_DIR/fastq\n",
    "# cp $AK_DATA_DIR/*Mz_3_S21* $DATA_DIR/fastq\n",
    "# cp $AK_DATA_DIR/*Mz_800_S8* $DATA_DIR/fastq\n",
    "\n",
    "# cp $AK_DATA_DIR/*U_1_S28* $DATA_DIR/fastq\n",
    "# cp $AK_DATA_DIR/*U_2_S29* $DATA_DIR/fastq\n",
    "# cp $AK_DATA_DIR/*U_3_S30* $DATA_DIR/fastq"
   ]
  },
  {
   "cell_type": "markdown",
   "metadata": {},
   "source": [
    "Get the code we provide for this project:"
   ]
  },
  {
   "cell_type": "code",
   "execution_count": null,
   "metadata": {
    "collapsed": false
   },
   "outputs": [],
   "source": [
    "cd ${WORK_DIR}/src\n",
    "git clone https://github.com/kundajelab/training_camp"
   ]
  },
  {
   "cell_type": "markdown",
   "metadata": {},
   "source": [
    "## Writing code and code version control ##"
   ]
  },
  {
   "cell_type": "markdown",
   "metadata": {},
   "source": [
    "Your code is precious! For this reason, you want to: 1) make sure it is backed up, and 2) keep a \"diary\" of all versions of your code so that you can track its progress and revert back to previous versions if need be. Both of these goals can be achieved with version control software, such as Github.\n",
    "\n",
    "In this training camp you will get familiarized with GitHub.\n",
    "\n",
    "First, go to Github, make an account and create a repository. Let's assume you named the repository myExampleRepo.\n",
    "\n",
    "Then, to get used to GitHub, you can try to make a test script and add it to your repository on GitHub.\n",
    "\n",
    "First, we will get a copy of your Github repository in your directory"
   ]
  },
  {
   "cell_type": "code",
   "execution_count": null,
   "metadata": {
    "collapsed": false
   },
   "outputs": [],
   "source": [
    "cd ${WORK_DIR}\n",
    "mkdir testGithub\n",
    "cd testGithub\n",
    "export githubusername=\"FILL IN YOUR USERNAME HERE!\"\n",
    "git clone https://github.com/$githubusername/myExampleRepo\n",
    "ls"
   ]
  },
  {
   "cell_type": "code",
   "execution_count": null,
   "metadata": {
    "collapsed": false
   },
   "outputs": [],
   "source": [
    "mv data_download myExampleRepo"
   ]
  },
  {
   "cell_type": "markdown",
   "metadata": {},
   "source": [
    "You should now see a directory named myExampleRepo in the current working directory. We will now make a new file and add it to the repository. We add some text to this script using the \"echo\" command."
   ]
  },
  {
   "cell_type": "code",
   "execution_count": null,
   "metadata": {
    "collapsed": false
   },
   "outputs": [],
   "source": [
    "cd myExampleRepo\n",
    "touch ${SUNETID}_testscript.sh\n",
    "echo \"Here is some example text\" >> ${SUNETID}_testscripts.sh"
   ]
  },
  {
   "cell_type": "markdown",
   "metadata": {},
   "source": [
    "Now, you will learn how to \"push\" this script to Github.\n",
    "\n",
    "First, get the most current version of the code:"
   ]
  },
  {
   "cell_type": "code",
   "execution_count": null,
   "metadata": {
    "collapsed": false
   },
   "outputs": [],
   "source": [
    "git pull "
   ]
  },
  {
   "cell_type": "markdown",
   "metadata": {},
   "source": [
    "You will probably be told that your repository is already up-to-date. However, if you are collaborating with other people, or have modified the code from a different computer, it is very important to always do a git pull before submitting your changes."
   ]
  },
  {
   "cell_type": "markdown",
   "metadata": {},
   "source": [
    "Next, configure your github credentials. You will only need to do this once:"
   ]
  },
  {
   "cell_type": "code",
   "execution_count": null,
   "metadata": {
    "collapsed": false
   },
   "outputs": [],
   "source": [
    "git config --global username \"YOUR USERNAME HERE\"\n",
    "git config --global user.email \"YOUR GITHUB EMAIL HERE\""
   ]
  },
  {
   "cell_type": "markdown",
   "metadata": {},
   "source": [
    "Next, add your code to the Github:"
   ]
  },
  {
   "cell_type": "code",
   "execution_count": null,
   "metadata": {
    "collapsed": false
   },
   "outputs": [],
   "source": [
    "git add ${SUNETID}_testscript.sh"
   ]
  },
  {
   "cell_type": "markdown",
   "metadata": {},
   "source": [
    "Tell Github that you are ready to load your code (so-called commit)."
   ]
  },
  {
   "cell_type": "code",
   "execution_count": null,
   "metadata": {
    "collapsed": false
   },
   "outputs": [],
   "source": [
    "git commit -m \"my first script on github\""
   ]
  },
  {
   "cell_type": "markdown",
   "metadata": {},
   "source": [
    "Then, push your code to Github."
   ]
  },
  {
   "cell_type": "code",
   "execution_count": null,
   "metadata": {
    "collapsed": false
   },
   "outputs": [],
   "source": [
    "git push"
   ]
  },
  {
   "cell_type": "markdown",
   "metadata": {},
   "source": [
    "When you visit the Github page for your code, you should be able to see your code!"
   ]
  },
  {
   "cell_type": "markdown",
   "metadata": {},
   "source": [
    "These are only the most basic commands. For more on Github see https://training.github.com/kit/downloads/github-git-cheat-sheet.pdf\n",
    "\n",
    "Let the analysis begin!"
   ]
  }
 ],
 "metadata": {
  "kernelspec": {
   "display_name": "Bash",
   "language": "bash",
   "name": "bash"
  },
  "language_info": {
   "codemirror_mode": "shell",
   "file_extension": ".sh",
   "mimetype": "text/x-sh",
   "name": "bash"
  }
 },
 "nbformat": 4,
 "nbformat_minor": 0
}
