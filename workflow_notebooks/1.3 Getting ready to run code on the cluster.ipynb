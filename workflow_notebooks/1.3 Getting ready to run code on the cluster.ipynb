{
 "cells": [
  {
   "cell_type": "markdown",
   "metadata": {},
   "source": [
    "# 1.3 Getting ready to run code on the cluster#"
   ]
  },
  {
   "cell_type": "markdown",
   "metadata": {},
   "source": [
    "### IMPORTANT: Please make sure that your are using the bash kernel to run this notebook.\n",
    "\n",
    "Now that you can submit jobs like any self-respecting Unix ninja, you are ready to start analyzing data! Here you will learn about how to organize your research directory and setup the cluster environment to access all software you wish to use."
   ]
  },
  {
   "cell_type": "markdown",
   "metadata": {},
   "source": [
    "## Organizing your research as a pro##"
   ]
  },
  {
   "cell_type": "markdown",
   "metadata": {},
   "source": [
    "This is a really nice paper with guidelines on organizing computational projects in an organized and snazzy fashion: (http://journals.plos.org/ploscompbiol/article?id=10.1371/journal.pcbi.1000424). Let's see this in action!\n",
    "\n",
    "First, define a variable with the training camp directory"
   ]
  },
  {
   "cell_type": "code",
   "execution_count": 1,
   "metadata": {
    "collapsed": false
   },
   "outputs": [
    {
     "name": "stdout",
     "output_type": "stream",
     "text": [
      "/srv/scratch/training_camp/tc2016/user23\r\n"
     ]
    }
   ],
   "source": [
    "export TCDIR=/srv/scratch/training_camp/tc2016/$(whoami)\n",
    "echo $TCDIR"
   ]
  },
  {
   "cell_type": "markdown",
   "metadata": {},
   "source": [
    "Organize your folder into subdirectories as a pro: "
   ]
  },
  {
   "cell_type": "code",
   "execution_count": 2,
   "metadata": {
    "collapsed": false
   },
   "outputs": [
    {
     "name": "stdout",
     "output_type": "stream",
     "text": [
      "mkdir: cannot create directory ‘data’: File exists\r\n",
      "mkdir: cannot create directory ‘src’: File exists\r\n",
      "analysis  data\tsrc  testGithub  tmp\r\n"
     ]
    }
   ],
   "source": [
    "cd ${TCDIR}\n",
    "mkdir data src\n",
    "ls"
   ]
  },
  {
   "cell_type": "markdown",
   "metadata": {},
   "source": [
    "## Preparing to run code on the cluster ## "
   ]
  },
  {
   "cell_type": "markdown",
   "metadata": {},
   "source": [
    "Our data processing will use multiple software tools. To be able to access them, we can load their paths into our session, by loading their respective modules.\n",
    "\n",
    "To load a module, you can type\n",
    "**module load [desiredModule]** - this is going to modify your path\n",
    "\n",
    "Once a module is loaded, you can use the code associated with that module directly. For instance, let's say you want to load a module for BEDTools (a software package we will be using in this training camp). If you run:"
   ]
  },
  {
   "cell_type": "code",
   "execution_count": 3,
   "metadata": {
    "collapsed": false
   },
   "outputs": [
    {
     "name": "stdout",
     "output_type": "stream",
     "text": []
    }
   ],
   "source": [
    "source /etc/profile.d/modules.sh"
   ]
  },
  {
   "cell_type": "code",
   "execution_count": 4,
   "metadata": {
    "collapsed": false
   },
   "outputs": [
    {
     "name": "stdout",
     "output_type": "stream",
     "text": []
    }
   ],
   "source": [
    "module load bedtools/2.17.0"
   ]
  },
  {
   "cell_type": "markdown",
   "metadata": {},
   "source": [
    "it loads the bedtools code, such that when you are ready to use the code, you can just directly call commands. Note that the -h or --help arguments can often be used to give help about a particular tool.\n"
   ]
  },
  {
   "cell_type": "code",
   "execution_count": 5,
   "metadata": {
    "collapsed": false
   },
   "outputs": [
    {
     "name": "stdout",
     "output_type": "stream",
     "text": [
      "bedtools: flexible tools for genome arithmetic and DNA sequence analysis.\r\n",
      "usage:    bedtools <subcommand> [options]\r\n",
      "\r\n",
      "The bedtools sub-commands include:\r\n",
      "\r\n",
      "[ Genome arithmetic ]\r\n",
      "    intersect     Find overlapping intervals in various ways.\r\n",
      "    window        Find overlapping intervals within a window around an interval.\r\n",
      "    closest       Find the closest, potentially non-overlapping interval.\r\n",
      "    coverage      Compute the coverage over defined intervals.\r\n",
      "    map           Apply a function to a column for each overlapping interval.\r\n",
      "    genomecov     Compute the coverage over an entire genome.\r\n",
      "    merge         Combine overlapping/nearby intervals into a single interval.\r\n",
      "    cluster       Cluster (but don't merge) overlapping/nearby intervals.\r\n",
      "    complement    Extract intervals _not_ represented by an interval file.\r\n",
      "    subtract      Remove intervals based on overlaps b/w two files.\r\n",
      "    slop          Adjust the size of intervals.\r\n",
      "    flank         Create new intervals from the flanks of existing intervals.\r\n",
      "    sort          Order the intervals in a file.\r\n",
      "    random        Generate random intervals in a genome.\r\n",
      "    shuffle       Randomly redistrubute intervals in a genome.\r\n",
      "    annotate      Annotate coverage of features from multiple files.\r\n",
      "\r\n",
      "[ Multi-way file comparisons ]\r\n",
      "    multiinter    Identifies common intervals among multiple interval files.\r\n",
      "    unionbedg     Combines coverage intervals from multiple BEDGRAPH files.\r\n",
      "\r\n",
      "[ Paired-end manipulation ]\r\n",
      "    pairtobed     Find pairs that overlap intervals in various ways.\r\n",
      "    pairtopair    Find pairs that overlap other pairs in various ways.\r\n",
      "\r\n",
      "[ Format conversion ]\r\n",
      "    bamtobed      Convert BAM alignments to BED (& other) formats.\r\n",
      "    bedtobam      Convert intervals to BAM records.\r\n",
      "    bamtofastq    Convert BAM records to FASTQ records.\r\n",
      "    bedpetobam    Convert BEDPE intervals to BAM records.\r\n",
      "    bed12tobed6   Breaks BED12 intervals into discrete BED6 intervals.\r\n",
      "\r\n",
      "[ Fasta manipulation ]\r\n",
      "    getfasta      Use intervals to extract sequences from a FASTA file.\r\n",
      "    maskfasta     Use intervals to mask sequences from a FASTA file.\r\n",
      "    nuc           Profile the nucleotide content of intervals in a FASTA file.\r\n",
      "\r\n",
      "[ BAM focused tools ]\r\n",
      "    multicov      Counts coverage from multiple BAMs at specific intervals.\r\n",
      "    tag           Tag BAM alignments based on overlaps with interval files.\r\n",
      "\r\n",
      "[ Statistics tools ]\r\n",
      "    jaccard       Calculates the Jaccard statistic b/w two sets of intervals.\r\n",
      "\r\n",
      "[ Miscellaneous tools ]\r\n",
      "    overlap       Computes the amount of overlap from two intervals.\r\n",
      "    igv           Create an IGV snapshot batch script.\r\n",
      "    links         Create a HTML page of links to UCSC locations.\r\n",
      "    makewindows   Make interval \"windows\" across a genome.\r\n",
      "    groupby       Group by common cols. & summarize oth. cols. (~ SQL \"groupBy\")\r\n",
      "    expand        Replicate lines based on lists of values in columns.\r\n",
      "\r\n",
      "[ General help ]\r\n",
      "    --help        Print this help menu.\r\n",
      "    --version     What version of bedtools are you using?.\r\n",
      "    --contact     Feature requests, bugs, mailing lists, etc.\r\n",
      "\r\n"
     ]
    }
   ],
   "source": [
    "bedtools -h"
   ]
  },
  {
   "cell_type": "markdown",
   "metadata": {},
   "source": [
    "Don't worry, you do not need to know off the top of your head the names of the modules you want. To see all software modules available on the AWS cluster, type:"
   ]
  },
  {
   "cell_type": "code",
   "execution_count": 6,
   "metadata": {
    "collapsed": false
   },
   "outputs": [
    {
     "name": "stdout",
     "output_type": "stream",
     "text": [
      "\r\n",
      "------------------------- /usr/share/modules/versions --------------------------\r\n",
      "3.2.10\r\n",
      "\r\n",
      "------------------------ /usr/share/modules/modulefiles ------------------------\r\n",
      "MACS2/2.0.9       fastqc/0.10.1     module-info       r/3.0.2\r\n",
      "bedtools/2.17.0   homer/default     modules           samtools/0.1.19\r\n",
      "bowtie/2.1.0      java/latest       null              ucsc_tools/2.7.2\r\n",
      "dot               module-git        picard-tools/1.95 use.own\r\n"
     ]
    }
   ],
   "source": [
    "module avail"
   ]
  },
  {
   "cell_type": "markdown",
   "metadata": {},
   "source": [
    "## The .bashrc file (=your friend) ##"
   ]
  },
  {
   "cell_type": "code",
   "execution_count": 7,
   "metadata": {
    "collapsed": false
   },
   "outputs": [
    {
     "name": "stdout",
     "output_type": "stream",
     "text": [
      "/home/user23\r\n",
      "training_camp\r\n",
      ".   .bash_history  .bashrc  .config  .emacs.d  .kshenv\t.login\t  .python-eggs\r\n",
      "..  .bash_logout   .cache   .cshrc   .ipython  .local\t.profile  training_camp\r\n"
     ]
    }
   ],
   "source": [
    "#Where is .bashrc?\n",
    "#In our home directory\n",
    "cd ~\n",
    "pwd\n",
    "ls\n",
    "#But this doesn't show bashrc...\n",
    "ls -ah #this does (shows all hidden files)\n",
    "#.bash_logout automatically runs things when you log out"
   ]
  },
  {
   "cell_type": "markdown",
   "metadata": {},
   "source": [
    "Wouldn't it be nice to have everything ready to run when you log into the cluster?\n",
    "To avoid having to run module load commands every time you log in, you can add these commands to a .bashrc file, located in your home directory. The .bashrc file contains a set of commands that get executed every time you log into the server. In this way, every time you log in, you will be all set to run all code you wish.\n",
    "\n",
    "Note: Technically, the ~/.bashrc file is not what's executed on login; it's ~/.bash_profile, which in turn calls ~/.bashrc. If your .bash_profile does not call .bashrc, put the line source ~/.bashrc in your .bash_profile. The difference between the two files is explained here: http://www.joshstaiger.org/archives/2005/07/bash_profile_vs.html\n",
    "\n",
    "Let's add all our desired module loading commands into a .bashrc file. "
   ]
  },
  {
   "cell_type": "code",
   "execution_count": 8,
   "metadata": {
    "collapsed": false
   },
   "outputs": [
    {
     "name": "stdout",
     "output_type": "stream",
     "text": [
      "module load bowtie/2.1.0\r\n",
      "module load bedtools/2.17.0\r\n",
      "module load fastqc/0.10.1\r\n",
      "module load java/latest\r\n",
      "module load picard-tools/1.95\r\n",
      "module load r/3.0.2\r\n",
      "module load samtools/0.1.19\r\n",
      "module load ucsc_tools/2.7.2\r\n",
      "module load MACS2/2.0.9\r\n",
      "module load homer/default\r\n"
     ]
    }
   ],
   "source": [
    "bowtie_load='module load bowtie/2.1.0'\n",
    "bedtools_load='module load bedtools/2.17.0'\n",
    "fastqc_load='module load fastqc/0.10.1'\n",
    "java_load='module load java/latest'\n",
    "picard_load='module load picard-tools/1.95'\n",
    "r_load='module load r/3.0.2'\n",
    "samtools_load='module load samtools/0.1.19'\n",
    "ucsc_load='module load ucsc_tools/2.7.2'\n",
    "macs2_load='module load MACS2/2.0.9'\n",
    "homer_load='module load homer/default'\n",
    "\n",
    "#naive thing:\n",
    "#NOTE: ~ is a shortcut for your home directory\n",
    "#echo $bowtie_load >> ~/.bashrc #this might clutter up our bashrc if we run it a bunch of times\n",
    "\n",
    "#only add the module load commands to the ~/.bashrc file if they don't exist in this file already \n",
    "#The || acts like an OR; it executes the command on the right if the command on the left errors out\n",
    "#grep -E acts like search\n",
    "#reminder: \"$bowtie_load\" decodes to 'module load bowtie/2.1.0'\n",
    "grep -E \"$bowtie_load\" ~/.bashrc || echo $bowtie_load >> ~/.bashrc\n",
    "grep -E \"$bedtools_load\" ~/.bashrc || echo $bedtools_load >> ~/.bashrc\n",
    "grep -E \"$fastqc_load\" ~/.bashrc || echo $fastqc_load >> ~/.bashrc\n",
    "grep -E \"$java_load\" ~/.bashrc || echo $java_load >> ~/.bashrc\n",
    "grep -E \"$picard_load\" ~/.bashrc || echo $picard_load >> ~/.bashrc\n",
    "grep -E \"$r_load\" ~/.bashrc || echo $r_load >> ~/.bashrc\n",
    "grep -E \"$samtools_load\" ~/.bashrc || echo $samtools_load >> ~/.bashrc\n",
    "grep -E \"$ucsc_load\" ~/.bashrc || echo $ucsc_load >> ~/.bashrc\n",
    "grep -E \"$macs2_load\" ~/.bashrc || echo $macs2_load >> ~/.bashrc\n",
    "grep -E \"$homer_load\" ~/.bashrc || echo $homer_load >> ~/.bashrc"
   ]
  },
  {
   "cell_type": "markdown",
   "metadata": {},
   "source": [
    "## Defining shortcuts in the .bashrc file ##"
   ]
  },
  {
   "cell_type": "markdown",
   "metadata": {},
   "source": [
    "Why stop here? You can make all your dreams come true in the .bashrc file!\n",
    "For instance, you can add to the .bashrc file some shortcuts to your directories of interest, which you can then seamlessly use. Add the following to your .bashrc:"
   ]
  },
  {
   "cell_type": "code",
   "execution_count": 9,
   "metadata": {
    "collapsed": false
   },
   "outputs": [
    {
     "name": "stdout",
     "output_type": "stream",
     "text": [
      "#shortcuts_defined:\r\n"
     ]
    }
   ],
   "source": [
    "grep -E \"shortcuts_defined\" ~/.bashrc || \n",
    "(echo '#shortcuts_defined:' >> ~/.bashrc &&\n",
    "echo 'export SUNETID=\"$(whoami)\"' >> ~/.bashrc &&\n",
    "echo 'export WORK_DIR=\"/srv/scratch/training_camp/tc2016/${SUNETID}\"' >> ~/.bashrc &&\n",
    "echo 'export DATA_DIR=\"${WORK_DIR}/data\"' >> ~/.bashrc &&\n",
    "echo '[[ ! -d ${DATA_DIR} ]] && mkdir \"${DATA_DIR}\"' >> ~/.bashrc &&\n",
    "echo 'export SRC_DIR=\"${WORK_DIR}/src/training_camp/src\"' >> ~/.bashrc &&\n",
    "echo '[[ ! -d ${WORK_DIR}/src ]] && mkdir -p \"${WORK_DIR}/src\"' >> ~/.bashrc &&\n",
    "echo 'export ANALYSIS_DIR=${WORK_DIR}/analysis' >> ~/.bashrc &&\n",
    "echo '[[ ! -d ${WORK_DIR}/analysis ]] && mkdir -p \"${WORK_DIR}/analysis\"' >> ~/.bashrc &&\n",
    "echo 'export AK_DATA_DIR=\"/srv/scratch/training_camp/data/fastqs\"' >> ~/.bashrc &&\n",
    "echo 'export AK_TOOL_DIR=\"/srv/scratch/training_camp/tools\"' >> ~/.bashrc &&\n",
    "echo 'export AK_TOOL_DIR=\"/srv/scratch/training_camp/metadata\"' >> ~/.bashrc &&\n",
    "echo 'export YEAST_DIR=\"/srv/scratch/training_camp/saccer3/seq\"' >> ~/.bashrc &&\n",
    "echo 'export YEAST_INDEX=\"/srv/scratch/training_camp/saccer3/bowtie2_index/saccer3\"' >> ~/.bashrc &&\n",
    "echo 'export YEAST_CHR=\"/srv/scratch/training_camp/saccer3/sacCer3.chrom.sizes\"' >> ~/.bashrc &&\n",
    "echo 'export TMP=\"${WORK_DIR}/tmp\"' >> ~/.bashrc &&\n",
    "echo 'export TEMP=$TMP' >> ~/.bashrc &&\n",
    "echo 'export TMPDIR=$TMP' >> ~/.bashrc &&\n",
    "echo 'mkdir $TMP' >> ~/.bashrc)"
   ]
  },
  {
   "cell_type": "markdown",
   "metadata": {},
   "source": [
    "**\\$\\{WORK\\_DIR\\}** is your main work directory\n",
    "\n",
    "**\\$\\{SRC\\_DIR\\}** is your src/ directory\n",
    "\n",
    "**\\$\\{DATA\\_DIR\\}** is your data/ directory\n",
    "\n",
    "**\\$\\{AK\\_DATA\\_DIR\\}** is the directory with the fastq files (the data you will use in this project)"
   ]
  },
  {
   "cell_type": "markdown",
   "metadata": {},
   "source": [
    "To see your ~/.bashrc and ~/.bash_profile files in action, logout and log in again. All modules should be loaded and all shortcuts should be set!\n",
    "\n",
    "Since logging in/out would disrupt this tutorial, we execute the commands in our ipython notebook:"
   ]
  },
  {
   "cell_type": "code",
   "execution_count": 3,
   "metadata": {
    "collapsed": false
   },
   "outputs": [
    {
     "name": "stdout",
     "output_type": "stream",
     "text": [
      "mkdir: cannot create directory ‘/srv/scratch/training_camp/tc2016/user23/tmp’: File exists\r\n"
     ]
    }
   ],
   "source": [
    "export SUNETID=\"$(whoami)\"\n",
    "export WORK_DIR=\"/srv/scratch/training_camp/tc2016/${SUNETID}\"\n",
    "export DATA_DIR=\"${WORK_DIR}/data\"\n",
    "[[ ! -d ${DATA_DIR} ]] && mkdir \"${DATA_DIR}\"\n",
    "export SRC_DIR=\"${WORK_DIR}/src/training_camp/src\"\n",
    "[[ ! -d ${WORK_DIR}/src ]] && mkdir -p \"${WORK_DIR}/src\"\n",
    "export ANALYSIS_DIR=${WORK_DIR}/analysis/\n",
    "[[ ! -d ${WORK_DIR}/analysis ]] && mkdir -p \"${WORK_DIR}/analysis\"\n",
    "export AK_DATA_DIR=\"/srv/scratch/training_camp/data/fastqs\"\n",
    "export AK_METADATA_DIR=\"/srv/scratch/training_camp/metadata\"\n",
    "export AK_TOOL_DIR=\"/srv/scratch/training_camp/tools\"\n",
    "export YEAST_DIR=\"/srv/scratch/training_camp/saccer3/seq\"\n",
    "export YEAST_INDEX=\"/srv/scratch/training_camp/saccer3/bowtie2_index/saccer3\"\n",
    "export YEAST_CHR=\"/srv/scratch/training_camp/saccer3/sacCer3.chrom.sizes\"\n",
    "export TMP=\"${WORK_DIR}/tmp\"\n",
    "export TEMP=$TMP \n",
    "export TMPDIR=$TMP\n",
    "mkdir $TMP"
   ]
  },
  {
   "cell_type": "markdown",
   "metadata": {},
   "source": [
    "## Data and code for this project ##"
   ]
  },
  {
   "cell_type": "markdown",
   "metadata": {},
   "source": [
    "Create a directory to store FASTQ files"
   ]
  },
  {
   "cell_type": "code",
   "execution_count": 5,
   "metadata": {
    "collapsed": false
   },
   "outputs": [
    {
     "name": "stdout",
     "output_type": "stream",
     "text": []
    }
   ],
   "source": [
    "mkdir -p ${DATA_DIR}/fastq #makes a directory to contain the symbolic links"
   ]
  },
  {
   "cell_type": "code",
   "execution_count": 4,
   "metadata": {
    "collapsed": false
   },
   "outputs": [
    {
     "name": "stdout",
     "output_type": "stream",
     "text": [
      "/srv/scratch/training_camp/tc2016/user23/data/fastq\r\n"
     ]
    }
   ],
   "source": [
    "echo ${DATA_DIR}/fastq"
   ]
  },
  {
   "cell_type": "markdown",
   "metadata": {},
   "source": [
    "If you wanted to analyze all the data, you would make symbolic links to the data (symbolic links are pointers to other files; they behave like copies of the original file but without actually duplicating the data):"
   ]
  },
  {
   "cell_type": "code",
   "execution_count": 29,
   "metadata": {
    "collapsed": false
   },
   "outputs": [
    {
     "name": "stdout",
     "output_type": "stream",
     "text": []
    }
   ],
   "source": [
    "#DO NOT UNCOMMENT THIS LINE!\n",
    "rm ${DATA_DIR}/fastq/*\n",
    "#ln -s -r ${AK_DATA_DIR}/* ${DATA_DIR}/fastq/  #creates the symbolic links (-r is needed to handle directories)"
   ]
  },
  {
   "cell_type": "markdown",
   "metadata": {},
   "source": [
    "However, there is quite a bit of data, so instead, you can copy just the samples that you generated to your FASTQ directory. To do this, uncomment the line below corresponding to the samples you worked on. "
   ]
  },
  {
   "cell_type": "code",
   "execution_count": 6,
   "metadata": {
    "collapsed": false
   },
   "outputs": [
    {
     "name": "stdout",
     "output_type": "stream",
     "text": []
    }
   ],
   "source": [
    "# cp $AK_DATA_DIR/*Ct_1_S22* $DATA_DIR/fastq\n",
    "# cp $AK_DATA_DIR/*Ct_2_S23* $DATA_DIR/fastq\n",
    "# cp $AK_DATA_DIR/*Ct_300_S3* $DATA_DIR/fastq\n",
    " cp $AK_DATA_DIR/*Ct_3_S24* $DATA_DIR/fastq\n",
    "# cp $AK_DATA_DIR/*Ct_800_S9* $DATA_DIR/fastq\n",
    "\n",
    "\n",
    "# cp $AK_DATA_DIR/*Cz_1_S16* $DATA_DIR/fastq\n",
    "# cp $AK_DATA_DIR/*Cz_2_S17* $DATA_DIR/fastq\n",
    "# cp $AK_DATA_DIR/*Cz_300_S1* $DATA_DIR/fastq\n",
    "# cp $AK_DATA_DIR/*Cz_3_S18* $DATA_DIR/fastq\n",
    "# cp $AK_DATA_DIR/*Cz_800_S7* $DATA_DIR/fastq\n",
    "\n",
    "# cp $AK_DATA_DIR/*DMSO_1_S31* $DATA_DIR/fastq\n",
    "# cp $AK_DATA_DIR/*DMSO_1_S6* $DATA_DIR/fastq\n",
    "# cp $AK_DATA_DIR/*DMSO_2_S12* $DATA_DIR/fastq\n",
    "# cp $AK_DATA_DIR/*DMSO_2_S32* $DATA_DIR/fastq\n",
    "\n",
    "# cp $AK_DATA_DIR/*It_1_S25* $DATA_DIR/fastq\n",
    "# cp $AK_DATA_DIR/*It_2_s26* $DATA_DIR/fastq\n",
    "# cp $AK_DATA_DIR/*It_300_S5* $DATA_DIR/fastq\n",
    "# cp $AK_DATA_DIR/*It_3_S27* $DATA_DIR/fastq\n",
    "# cp $AK_DATA_DIR/*It_800_S11* $DATA_DIR/fastq\n",
    "\n",
    "# cp $AK_DATA_DIR/*Kt_1_S13* $DATA_DIR/fastq\n",
    "# cp $AK_DATA_DIR/*Kt_2_S14* $DATA_DIR/fastq\n",
    "# cp $AK_DATA_DIR/*Kt_3_S15* $DATA_DIR/fastq\n",
    "# cp $AK_DATA_DIR/*Kz_300_S4* $DATA_DIR/fastq\n",
    "# cp $AK_DATA_DIR/*Kz_800_S10* $DATA_DIR/fastq\n",
    "\n",
    "# cp $AK_DATA_DIR/*Kt_1_S13* $DATA_DIR/fastq\n",
    "# cp $AK_DATA_DIR/*Kt_2_S14* $DATA_DIR/fastq\n",
    "# cp $AK_DATA_DIR/*Kt_3_S15* $DATA_DIR/fastq\n",
    "# cp $AK_DATA_DIR/*Kz_300_S4* $DATA_DIR/fastq\n",
    "# cp $AK_DATA_DIR/*Kz_800_S10* $DATA_DIR/fastq\n",
    "\n",
    "# cp $AK_DATA_DIR/*Mz_1_S19* $DATA_DIR/fastq\n",
    "# cp $AK_DATA_DIR/*Mz_2_S20* $DATA_DIR/fastq\n",
    "# cp $AK_DATA_DIR/*Mz_300_S2* $DATA_DIR/fastq\n",
    "# cp $AK_DATA_DIR/*Mz_3_S21* $DATA_DIR/fastq\n",
    "# cp $AK_DATA_DIR/*Mz_800_S8* $DATA_DIR/fastq\n",
    "\n",
    "# cp $AK_DATA_DIR/*U_1_S28* $DATA_DIR/fastq\n",
    "# cp $AK_DATA_DIR/*U_2_S29* $DATA_DIR/fastq\n",
    "# cp $AK_DATA_DIR/*U_3_S30* $DATA_DIR/fastq"
   ]
  },
  {
   "cell_type": "code",
   "execution_count": 7,
   "metadata": {
    "collapsed": false
   },
   "outputs": [
    {
     "name": "stdout",
     "output_type": "stream",
     "text": [
      "Ct_3_S24_R1.fastq.gz  Ct_3_S24_R2.fastq.gz\r\n"
     ]
    }
   ],
   "source": [
    "ls $DATA_DIR/fastq"
   ]
  },
  {
   "cell_type": "code",
   "execution_count": null,
   "metadata": {
    "collapsed": true
   },
   "outputs": [],
   "source": [
    "rm $DATA_DIR/fastq/*"
   ]
  },
  {
   "cell_type": "markdown",
   "metadata": {},
   "source": [
    "Get the code we provide for this project:"
   ]
  },
  {
   "cell_type": "code",
   "execution_count": 27,
   "metadata": {
    "collapsed": false
   },
   "outputs": [
    {
     "name": "stdout",
     "output_type": "stream",
     "text": [
      "Cloning into 'training_camp'...\r\n",
      "remote: Counting objects: 488, done.        \r\n",
      "remote: Compressing objects:   0% (1/217)           \r",
      "remote: Compressing objects:   1% (3/217)           \r",
      "remote: Compressing objects:   2% (5/217)           \r",
      "remote: Compressing objects:   3% (7/217)           \r",
      "remote: Compressing objects:   4% (9/217)           \r",
      "remote: Compressing objects:   5% (11/217)           \r",
      "remote: Compressing objects:   6% (14/217)           \r",
      "remote: Compressing objects:   7% (16/217)           \r",
      "remote: Compressing objects:   8% (18/217)           \r",
      "remote: Compressing objects:   9% (20/217)           \r",
      "remote: Compressing objects:  10% (22/217)           \r",
      "remote: Compressing objects:  11% (24/217)           \r",
      "remote: Compressing objects:  12% (27/217)           \r",
      "remote: Compressing objects:  13% (29/217)           \r",
      "remote: Compressing objects:  14% (31/217)           \r",
      "remote: Compressing objects:  15% (33/217)           \r",
      "remote: Compressing objects:  16% (35/217)           \r",
      "remote: Compressing objects:  17% (37/217)           \r",
      "remote: Compressing objects:  18% (40/217)           \r",
      "remote: Compressing objects:  19% (42/217)           \r",
      "remote: Compressing objects:  20% (44/217)           \r",
      "remote: Compressing objects:  21% (46/217)           \r",
      "remote: Compressing objects:  22% (48/217)           \r",
      "remote: Compressing objects:  23% (50/217)           \r",
      "remote: Compressing objects:  24% (53/217)           \r",
      "remote: Compressing objects:  25% (55/217)           \r",
      "remote: Compressing objects:  26% (57/217)           \r",
      "remote: Compressing objects:  27% (59/217)           \r",
      "remote: Compressing objects:  28% (61/217)           \r",
      "remote: Compressing objects:  29% (63/217)           \r",
      "remote: Compressing objects:  30% (66/217)           \r",
      "remote: Compressing objects:  31% (68/217)           \r",
      "remote: Compressing objects:  32% (70/217)           \r",
      "remote: Compressing objects:  33% (72/217)           \r",
      "remote: Compressing objects:  34% (74/217)           \r",
      "remote: Compressing objects:  35% (76/217)           \r",
      "remote: Compressing objects:  36% (79/217)           \r",
      "remote: Compressing objects:  37% (81/217)           \r",
      "remote: Compressing objects:  38% (83/217)           \r",
      "remote: Compressing objects:  39% (85/217)           \r",
      "remote: Compressing objects:  40% (87/217)           \r",
      "remote: Compressing objects:  41% (89/217)           \r",
      "remote: Compressing objects:  42% (92/217)           \r",
      "remote: Compressing objects:  43% (94/217)           \r",
      "remote: Compressing objects:  44% (96/217)           \r",
      "remote: Compressing objects:  45% (98/217)           \r",
      "remote: Compressing objects:  46% (100/217)           \r",
      "remote: Compressing objects:  47% (102/217)           \r",
      "remote: Compressing objects:  48% (105/217)           \r",
      "remote: Compressing objects:  49% (107/217)           \r",
      "remote: Compressing objects:  50% (109/217)           \r",
      "remote: Compressing objects:  51% (111/217)           \r",
      "remote: Compressing objects:  52% (113/217)           \r",
      "remote: Compressing objects:  53% (116/217)           \r",
      "remote: Compressing objects:  54% (118/217)           \r",
      "remote: Compressing objects:  55% (120/217)           \r",
      "remote: Compressing objects:  56% (122/217)           \r",
      "remote: Compressing objects:  57% (124/217)           \r",
      "remote: Compressing objects:  58% (126/217)           \r",
      "remote: Compressing objects:  59% (129/217)           \r",
      "remote: Compressing objects:  60% (131/217)           \r",
      "remote: Compressing objects:  61% (133/217)           \r",
      "remote: Compressing objects:  62% (135/217)           \r",
      "remote: Compressing objects:  63% (137/217)           \r",
      "remote: Compressing objects:  64% (139/217)           \r",
      "remote: Compressing objects:  65% (142/217)           \r",
      "remote: Compressing objects:  66% (144/217)           \r",
      "remote: Compressing objects:  67% (146/217)           \r",
      "remote: Compressing objects:  68% (148/217)           \r",
      "remote: Compressing objects:  69% (150/217)           \r",
      "remote: Compressing objects:  70% (152/217)           \r",
      "remote: Compressing objects:  71% (155/217)           \r",
      "remote: Compressing objects:  72% (157/217)           \r",
      "remote: Compressing objects:  73% (159/217)           \r",
      "remote: Compressing objects:  74% (161/217)           \r",
      "remote: Compressing objects:  75% (163/217)           \r",
      "remote: Compressing objects:  76% (165/217)           \r",
      "remote: Compressing objects:  77% (168/217)           \r",
      "remote: Compressing objects:  78% (170/217)           \r",
      "remote: Compressing objects:  79% (172/217)           \r",
      "remote: Compressing objects:  80% (174/217)           \r",
      "remote: Compressing objects:  81% (176/217)           \r",
      "remote: Compressing objects:  82% (178/217)           \r",
      "remote: Compressing objects:  83% (181/217)           \r",
      "remote: Compressing objects:  84% (183/217)           \r",
      "remote: Compressing objects:  85% (185/217)           \r",
      "remote: Compressing objects:  86% (187/217)           \r",
      "remote: Compressing objects:  87% (189/217)           \r",
      "remote: Compressing objects:  88% (191/217)           \r",
      "remote: Compressing objects:  89% (194/217)           \r",
      "remote: Compressing objects:  90% (196/217)           \r",
      "remote: Compressing objects:  91% (198/217)           \r",
      "remote: Compressing objects:  92% (200/217)           \r",
      "remote: Compressing objects:  93% (202/217)           \r",
      "remote: Compressing objects:  94% (204/217)           \r",
      "remote: Compressing objects:  95% (207/217)           \r",
      "remote: Compressing objects:  96% (209/217)           \r",
      "remote: Compressing objects:  97% (211/217)           \r",
      "remote: Compressing objects:  98% (213/217)           \r",
      "remote: Compressing objects:  99% (215/217)           \r",
      "remote: Compressing objects: 100% (217/217)           \r",
      "remote: Compressing objects: 100% (217/217), done.        \r\n",
      "Receiving objects:   0% (1/488)   \r",
      "Receiving objects:   1% (5/488)   \r",
      "Receiving objects:   2% (10/488)   \r",
      "Receiving objects:   3% (15/488)   \r",
      "Receiving objects:   4% (20/488)   \r",
      "Receiving objects:   5% (25/488)   \r",
      "Receiving objects:   6% (30/488)   \r",
      "Receiving objects:   7% (35/488)   \r",
      "Receiving objects:   8% (40/488)   \r",
      "Receiving objects:   9% (44/488)   \r",
      "Receiving objects:  10% (49/488)   \r",
      "Receiving objects:  11% (54/488)   \r",
      "Receiving objects:  12% (59/488)   \r",
      "Receiving objects:  13% (64/488)   \r",
      "Receiving objects:  14% (69/488)   \r",
      "Receiving objects:  15% (74/488), 1.46 MiB | 2.61 MiB/s   \r",
      "Receiving objects:  16% (79/488), 1.46 MiB | 2.61 MiB/s   \r",
      "Receiving objects:  17% (83/488), 1.46 MiB | 2.61 MiB/s   \r",
      "Receiving objects:  18% (88/488), 1.46 MiB | 2.61 MiB/s   \r",
      "Receiving objects:  19% (93/488), 1.46 MiB | 2.61 MiB/s   \r",
      "Receiving objects:  20% (98/488), 1.46 MiB | 2.61 MiB/s   \r",
      "Receiving objects:  20% (99/488), 1.46 MiB | 2.61 MiB/s   \r",
      "Receiving objects:  21% (103/488), 3.92 MiB | 3.70 MiB/s   \r",
      "Receiving objects:  22% (108/488), 3.92 MiB | 3.70 MiB/s   \r",
      "Receiving objects:  23% (113/488), 3.92 MiB | 3.70 MiB/s   \r",
      "Receiving objects:  24% (118/488), 3.92 MiB | 3.70 MiB/s   \r",
      "Receiving objects:  25% (122/488), 3.92 MiB | 3.70 MiB/s   \r",
      "Receiving objects:  26% (127/488), 3.92 MiB | 3.70 MiB/s   \r",
      "Receiving objects:  27% (132/488), 3.92 MiB | 3.70 MiB/s   \r",
      "Receiving objects:  28% (137/488), 3.92 MiB | 3.70 MiB/s   \r",
      "Receiving objects:  29% (142/488), 3.92 MiB | 3.70 MiB/s   \r",
      "Receiving objects:  30% (147/488), 3.92 MiB | 3.70 MiB/s   \r",
      "Receiving objects:  31% (152/488), 3.92 MiB | 3.70 MiB/s   \r",
      "Receiving objects:  32% (157/488), 3.92 MiB | 3.70 MiB/s   \r",
      "Receiving objects:  33% (162/488), 3.92 MiB | 3.70 MiB/s   \r",
      "Receiving objects:  34% (166/488), 3.92 MiB | 3.70 MiB/s   \r",
      "Receiving objects:  35% (171/488), 3.92 MiB | 3.70 MiB/s   \r",
      "Receiving objects:  36% (176/488), 3.92 MiB | 3.70 MiB/s   \r",
      "Receiving objects:  37% (181/488), 3.92 MiB | 3.70 MiB/s   \r",
      "Receiving objects:  38% (186/488), 3.92 MiB | 3.70 MiB/s   \r",
      "Receiving objects:  39% (191/488), 3.92 MiB | 3.70 MiB/s   \r",
      "Receiving objects:  40% (196/488), 3.92 MiB | 3.70 MiB/s   \r",
      "Receiving objects:  41% (201/488), 3.92 MiB | 3.70 MiB/s   \r",
      "Receiving objects:  42% (205/488), 3.92 MiB | 3.70 MiB/s   \r",
      "Receiving objects:  43% (210/488), 3.92 MiB | 3.70 MiB/s   \r",
      "Receiving objects:  44% (215/488), 3.92 MiB | 3.70 MiB/s   \r",
      "Receiving objects:  45% (220/488), 3.92 MiB | 3.70 MiB/s   \r",
      "Receiving objects:  46% (225/488), 3.92 MiB | 3.70 MiB/s   \r",
      "Receiving objects:  47% (230/488), 3.92 MiB | 3.70 MiB/s   \r",
      "Receiving objects:  48% (235/488), 3.92 MiB | 3.70 MiB/s   \r",
      "Receiving objects:  49% (240/488), 3.92 MiB | 3.70 MiB/s   \r",
      "Receiving objects:  50% (244/488), 3.92 MiB | 3.70 MiB/s   \r",
      "Receiving objects:  51% (249/488), 3.92 MiB | 3.70 MiB/s   \r",
      "Receiving objects:  52% (254/488), 3.92 MiB | 3.70 MiB/s   \r",
      "Receiving objects:  53% (259/488), 3.92 MiB | 3.70 MiB/s   \r",
      "Receiving objects:  54% (264/488), 3.92 MiB | 3.70 MiB/s   \r",
      "Receiving objects:  55% (269/488), 3.92 MiB | 3.70 MiB/s   \r",
      "Receiving objects:  56% (274/488), 3.92 MiB | 3.70 MiB/s   \r",
      "Receiving objects:  57% (279/488), 3.92 MiB | 3.70 MiB/s   \r",
      "Receiving objects:  58% (284/488), 3.92 MiB | 3.70 MiB/s   \r",
      "Receiving objects:  59% (288/488), 3.92 MiB | 3.70 MiB/s   \r",
      "Receiving objects:  60% (293/488), 3.92 MiB | 3.70 MiB/s   \r",
      "Receiving objects:  61% (298/488), 3.92 MiB | 3.70 MiB/s   \r",
      "Receiving objects:  62% (303/488), 3.92 MiB | 3.70 MiB/s   \r",
      "Receiving objects:  63% (308/488), 3.92 MiB | 3.70 MiB/s   \r",
      "Receiving objects:  64% (313/488), 3.92 MiB | 3.70 MiB/s   \r",
      "Receiving objects:  65% (318/488), 3.92 MiB | 3.70 MiB/s   \r",
      "Receiving objects:  66% (323/488), 3.92 MiB | 3.70 MiB/s   \r",
      "Receiving objects:  67% (327/488), 3.92 MiB | 3.70 MiB/s   \r",
      "Receiving objects:  68% (332/488), 3.92 MiB | 3.70 MiB/s   \r",
      "Receiving objects:  69% (337/488), 3.92 MiB | 3.70 MiB/s   \r",
      "Receiving objects:  70% (342/488), 3.92 MiB | 3.70 MiB/s   \r",
      "Receiving objects:  71% (347/488), 3.92 MiB | 3.70 MiB/s   \r",
      "Receiving objects:  72% (352/488), 3.92 MiB | 3.70 MiB/s   \r",
      "remote: Total 488 (delta 136), reused 0 (delta 0), pack-reused 261        \r\n",
      "Receiving objects:  73% (357/488), 3.92 MiB | 3.70 MiB/s   \r",
      "Receiving objects:  74% (362/488), 3.92 MiB | 3.70 MiB/s   \r",
      "Receiving objects:  75% (366/488), 3.92 MiB | 3.70 MiB/s   \r",
      "Receiving objects:  76% (371/488), 3.92 MiB | 3.70 MiB/s   \r",
      "Receiving objects:  77% (376/488), 3.92 MiB | 3.70 MiB/s   \r",
      "Receiving objects:  78% (381/488), 3.92 MiB | 3.70 MiB/s   \r",
      "Receiving objects:  79% (386/488), 3.92 MiB | 3.70 MiB/s   \r",
      "Receiving objects:  80% (391/488), 3.92 MiB | 3.70 MiB/s   \r",
      "Receiving objects:  81% (396/488), 3.92 MiB | 3.70 MiB/s   \r",
      "Receiving objects:  82% (401/488), 3.92 MiB | 3.70 MiB/s   \r",
      "Receiving objects:  83% (406/488), 3.92 MiB | 3.70 MiB/s   \r",
      "Receiving objects:  84% (410/488), 3.92 MiB | 3.70 MiB/s   \r",
      "Receiving objects:  85% (415/488), 3.92 MiB | 3.70 MiB/s   \r",
      "Receiving objects:  86% (420/488), 3.92 MiB | 3.70 MiB/s   \r",
      "Receiving objects:  87% (425/488), 3.92 MiB | 3.70 MiB/s   \r",
      "Receiving objects:  88% (430/488), 3.92 MiB | 3.70 MiB/s   \r",
      "Receiving objects:  89% (435/488), 3.92 MiB | 3.70 MiB/s   \r",
      "Receiving objects:  90% (440/488), 3.92 MiB | 3.70 MiB/s   \r",
      "Receiving objects:  91% (445/488), 3.92 MiB | 3.70 MiB/s   \r",
      "Receiving objects:  92% (449/488), 3.92 MiB | 3.70 MiB/s   \r",
      "Receiving objects:  93% (454/488), 3.92 MiB | 3.70 MiB/s   \r",
      "Receiving objects:  94% (459/488), 3.92 MiB | 3.70 MiB/s   \r",
      "Receiving objects:  95% (464/488), 3.92 MiB | 3.70 MiB/s   \r",
      "Receiving objects:  96% (469/488), 3.92 MiB | 3.70 MiB/s   \r",
      "Receiving objects:  97% (474/488), 3.92 MiB | 3.70 MiB/s   \r",
      "Receiving objects:  98% (479/488), 3.92 MiB | 3.70 MiB/s   \r",
      "Receiving objects:  99% (484/488), 3.92 MiB | 3.70 MiB/s   \r",
      "Receiving objects: 100% (488/488), 3.92 MiB | 3.70 MiB/s   \r",
      "Receiving objects: 100% (488/488), 4.98 MiB | 3.70 MiB/s, done.\r\n",
      "Resolving deltas:   0% (0/229)   \r",
      "Resolving deltas:   1% (4/229)   \r",
      "Resolving deltas:   2% (5/229)   \r",
      "Resolving deltas:   3% (7/229)   \r",
      "Resolving deltas:   4% (10/229)   \r",
      "Resolving deltas:   5% (12/229)   \r",
      "Resolving deltas:   6% (14/229)   \r",
      "Resolving deltas:   7% (17/229)   \r",
      "Resolving deltas:   8% (19/229)   \r",
      "Resolving deltas:   9% (21/229)   \r",
      "Resolving deltas:  10% (23/229)   \r",
      "Resolving deltas:  11% (26/229)   \r",
      "Resolving deltas:  12% (28/229)   \r",
      "Resolving deltas:  13% (30/229)   \r",
      "Resolving deltas:  15% (36/229)   \r",
      "Resolving deltas:  17% (40/229)   \r",
      "Resolving deltas:  20% (46/229)   \r",
      "Resolving deltas:  21% (49/229)   \r",
      "Resolving deltas:  23% (53/229)   \r",
      "Resolving deltas:  25% (58/229)   \r",
      "Resolving deltas:  26% (60/229)   \r",
      "Resolving deltas:  29% (68/229)   \r",
      "Resolving deltas:  30% (69/229)   \r",
      "Resolving deltas:  32% (75/229)   \r",
      "Resolving deltas:  34% (78/229)   \r",
      "Resolving deltas:  35% (81/229)   \r",
      "Resolving deltas:  37% (85/229)   \r",
      "Resolving deltas:  42% (97/229)   \r",
      "Resolving deltas:  43% (99/229)   \r",
      "Resolving deltas:  46% (106/229)   \r",
      "Resolving deltas:  47% (109/229)   \r",
      "Resolving deltas:  48% (112/229)   \r",
      "Resolving deltas:  50% (116/229)   \r",
      "Resolving deltas:  53% (122/229)   \r",
      "Resolving deltas:  66% (152/229)   \r",
      "Resolving deltas:  77% (177/229)   \r",
      "Resolving deltas:  80% (184/229)   \r",
      "Resolving deltas:  81% (187/229)   \r",
      "Resolving deltas:  86% (198/229)   \r",
      "Resolving deltas:  91% (209/229)   \r",
      "Resolving deltas:  95% (218/229)   \r",
      "Resolving deltas:  96% (220/229)   \r",
      "Resolving deltas: 100% (229/229)   \r",
      "Resolving deltas: 100% (229/229), done.\r\n",
      "Checking connectivity... done.\r\n"
     ]
    }
   ],
   "source": [
    "cd ${WORK_DIR}/src\n",
    "rm -r training_camp\n",
    "git clone https://github.com/kundajelab/training_camp"
   ]
  },
  {
   "cell_type": "markdown",
   "metadata": {},
   "source": [
    "## Writing code and code version control ##"
   ]
  },
  {
   "cell_type": "markdown",
   "metadata": {},
   "source": [
    "Your code is precious! For this reason, you want to: 1) make sure it is backed up, and 2) keep a \"diary\" of all versions of your code so that you can track its progress and revert back to previous versions if need be. Both of these goals can be achieved with version control software, such as Github.\n",
    "\n",
    "In this training camp you will get familiarized with GitHub.\n",
    "\n",
    "First, go to Github, make an account and create a repository. Let's assume you named the repository myExampleRepo.\n",
    "\n",
    "Then, to get used to GitHub, you can try to make a test script and add it to your repository on GitHub.\n",
    "\n",
    "First, we will get a copy of your Github repository in your directory"
   ]
  },
  {
   "cell_type": "code",
   "execution_count": 12,
   "metadata": {
    "collapsed": false
   },
   "outputs": [
    {
     "name": "stdout",
     "output_type": "stream",
     "text": [
      "mkdir: cannot create directory ‘testGithub’: File exists\r\n",
      "/srv/scratch/training_camp/tc2016/user23/testGithub\r\n"
     ]
    }
   ],
   "source": [
    "cd ${WORK_DIR}\n",
    "mkdir testGithub\n",
    "cd testGithub\n",
    "pwd"
   ]
  },
  {
   "cell_type": "code",
   "execution_count": 13,
   "metadata": {
    "collapsed": false
   },
   "outputs": [
    {
     "name": "stdout",
     "output_type": "stream",
     "text": [
      "Cloning into 'myExampleRepo'...\r\n",
      "warning: You appear to have cloned an empty repository.\r\n",
      "Checking connectivity... done.\r\n",
      "myExampleRepo\r\n"
     ]
    }
   ],
   "source": [
    "export githubusername=\"AvantiShri\"\n",
    "git clone https://github.com/$githubusername/myExampleRepo\n",
    "ls"
   ]
  },
  {
   "cell_type": "markdown",
   "metadata": {},
   "source": [
    "You should now see a directory named myExampleRepo in the current working directory. We will now make a new file and add it to the repository. We add some text to this script using the \"echo\" command."
   ]
  },
  {
   "cell_type": "code",
   "execution_count": 14,
   "metadata": {
    "collapsed": false
   },
   "outputs": [
    {
     "name": "stdout",
     "output_type": "stream",
     "text": []
    }
   ],
   "source": [
    "cd myExampleRepo\n",
    "touch ${SUNETID}_testscript.sh\n",
    "echo \"Here is some example text\" >> ${SUNETID}_testscripts.sh"
   ]
  },
  {
   "cell_type": "code",
   "execution_count": 18,
   "metadata": {
    "collapsed": false
   },
   "outputs": [
    {
     "name": "stdout",
     "output_type": "stream",
     "text": [
      "On branch master\r\n",
      "\r\n",
      "Initial commit\r\n",
      "\r\n",
      "Untracked files:\r\n",
      "  (use \"git add <file>...\" to include in what will be committed)\r\n",
      "\r\n",
      "\tuser23_testscript.sh\r\n",
      "\tuser23_testscripts.sh\r\n",
      "\r\n",
      "nothing added to commit but untracked files present (use \"git add\" to track)\r\n"
     ]
    }
   ],
   "source": [
    "git status"
   ]
  },
  {
   "cell_type": "markdown",
   "metadata": {},
   "source": [
    "Now, you will learn how to \"push\" this script to Github.\n",
    "\n",
    "First, get the most current version of the code. Since the version on your computer is already the most up to date, this wouldn't do anything. However, in general it is a smart thing to do BEFORE you make any edits to the code."
   ]
  },
  {
   "cell_type": "code",
   "execution_count": 16,
   "metadata": {
    "collapsed": false
   },
   "outputs": [
    {
     "name": "stdout",
     "output_type": "stream",
     "text": [
      "fatal: Couldn't find remote ref master\r\n",
      "Unexpected end of command stream\r\n"
     ]
    }
   ],
   "source": [
    "#git pull"
   ]
  },
  {
   "cell_type": "markdown",
   "metadata": {},
   "source": [
    "You will probably be told that your repository is already up-to-date. However, if you are collaborating with other people, or have modified the code from a different computer, it is very important to always do a git pull before submitting your changes."
   ]
  },
  {
   "cell_type": "markdown",
   "metadata": {},
   "source": [
    "Next, configure your github credentials. You will only need to do this once:"
   ]
  },
  {
   "cell_type": "code",
   "execution_count": 22,
   "metadata": {
    "collapsed": false
   },
   "outputs": [
    {
     "name": "stdout",
     "output_type": "stream",
     "text": []
    }
   ],
   "source": [
    "git config --global user.name \"AvantiShri\"\n",
    "git config --global user.email \"avanti@stanford.edu\""
   ]
  },
  {
   "cell_type": "markdown",
   "metadata": {},
   "source": [
    "Next, add your code to the Github:"
   ]
  },
  {
   "cell_type": "code",
   "execution_count": 20,
   "metadata": {
    "collapsed": false
   },
   "outputs": [
    {
     "name": "stdout",
     "output_type": "stream",
     "text": []
    }
   ],
   "source": [
    "git add ${SUNETID}_testscript.sh"
   ]
  },
  {
   "cell_type": "markdown",
   "metadata": {},
   "source": [
    "Tell Github that you are ready to load your code (so-called commit)."
   ]
  },
  {
   "cell_type": "code",
   "execution_count": 23,
   "metadata": {
    "collapsed": false
   },
   "outputs": [
    {
     "name": "stdout",
     "output_type": "stream",
     "text": [
      "[master (root-commit) 2bc19b7] my first script on github\r\n",
      " 1 file changed, 0 insertions(+), 0 deletions(-)\r\n",
      " create mode 100644 user23_testscript.sh\r\n"
     ]
    }
   ],
   "source": [
    "git commit -m \"my first script on github\""
   ]
  },
  {
   "cell_type": "markdown",
   "metadata": {},
   "source": [
    "Then, push your code to Github."
   ]
  },
  {
   "cell_type": "code",
   "execution_count": 24,
   "metadata": {
    "collapsed": false
   },
   "outputs": [
    {
     "name": "stdout",
     "output_type": "stream",
     "text": [
      "warning: push.default is unset; its implicit value is changing in\r\n",
      "Git 2.0 from 'matching' to 'simple'. To squelch this message\r\n",
      "and maintain the current behavior after the default changes, use:\r\n",
      "\r\n",
      "  git config --global push.default matching\r\n",
      "\r\n",
      "To squelch this message and adopt the new behavior now, use:\r\n",
      "\r\n",
      "  git config --global push.default simple\r\n",
      "\r\n",
      "When push.default is set to 'matching', git will push local branches\r\n",
      "to the remote branches that already exist with the same name.\r\n",
      "\r\n",
      "In Git 2.0, Git will default to the more conservative 'simple'\r\n",
      "behavior, which only pushes the current branch to the corresponding\r\n",
      "remote branch that 'git pull' uses to update the current branch.\r\n",
      "\r\n",
      "See 'git help config' and search for 'push.default' for further information.\r\n",
      "(the 'simple' mode was introduced in Git 1.7.11. Use the similar mode\r\n",
      "'current' instead of 'simple' if you sometimes use older versions of Git)\r\n",
      "\r\n",
      "Username for 'https://github.com': \r\n"
     ]
    }
   ],
   "source": [
    "git push"
   ]
  },
  {
   "cell_type": "markdown",
   "metadata": {},
   "source": [
    "When you visit the Github page for your code, you should be able to see your code!"
   ]
  },
  {
   "cell_type": "markdown",
   "metadata": {},
   "source": [
    "These are only the most basic commands. For more on Github see https://training.github.com/kit/downloads/github-git-cheat-sheet.pdf\n",
    "\n",
    "Let the analysis begin!"
   ]
  }
 ],
 "metadata": {
  "kernelspec": {
   "display_name": "Bash",
   "language": "bash",
   "name": "bash"
  },
  "language_info": {
   "codemirror_mode": "shell",
   "file_extension": ".sh",
   "mimetype": "text/x-sh",
   "name": "bash"
  }
 },
 "nbformat": 4,
 "nbformat_minor": 0
}
