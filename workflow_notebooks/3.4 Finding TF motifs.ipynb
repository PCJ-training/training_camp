{
 "cells": [
  {
   "cell_type": "markdown",
   "metadata": {},
   "source": [
    "# Finding TF motifs # "
   ]
  },
  {
   "cell_type": "markdown",
   "metadata": {},
   "source": [
    "We will look for TF motifs in the open chromatin regions we have identified."
   ]
  },
  {
   "cell_type": "code",
   "execution_count": 1,
   "metadata": {
    "collapsed": false
   },
   "outputs": [
    {
     "name": "stderr",
     "output_type": "stream",
     "text": [
      "mkdir: cannot create directory ‘/results’: Permission denied\n"
     ]
    }
   ],
   "source": [
    "%%bash \n",
    "mkdir -p ${DATA_DIR}/results/motifs/genomeFiles"
   ]
  },
  {
   "cell_type": "markdown",
   "metadata": {},
   "source": [
    "## Scanning for motifs##"
   ]
  },
  {
   "cell_type": "markdown",
   "metadata": {},
   "source": [
    "We will do our motif analysis using the software suite Homer."
   ]
  },
  {
   "cell_type": "code",
   "execution_count": 3,
   "metadata": {
    "collapsed": false
   },
   "outputs": [
    {
     "name": "stderr",
     "output_type": "stream",
     "text": [
      "bash: line 1: syntax error near unexpected token `newline'\n",
      "bash: line 1: `${SRC_DIR}/find_motifs.sh <peak file>'\n"
     ]
    }
   ],
   "source": [
    "%%bash \n",
    "${SRC_DIR}/find_motifs.sh <peak file>"
   ]
  },
  {
   "cell_type": "markdown",
   "metadata": {},
   "source": [
    "## Scanning for motifs in the merged peaks ##"
   ]
  },
  {
   "cell_type": "code",
   "execution_count": 4,
   "metadata": {
    "collapsed": false
   },
   "outputs": [
    {
     "name": "stderr",
     "output_type": "stream",
     "text": [
      "qsub: ERROR! -e option must have argument\n",
      "bash: line 2: /results/motifs/Motifs_in_merged_peaks.e: No such file or directory\n",
      "bash: line 3: /results/peaks/all_merged.peaks.bed.gz: No such file or directory\n"
     ]
    }
   ],
   "source": [
    "%%bash \n",
    "qsub -V -o ${WORK_DIR}/results/motifs/Motifs_in_merged_peaks.o -e \n",
    "${WORK_DIR}/results/motifs/Motifs_in_merged_peaks.e ${SRC_DIR}/find_motifs.sh \n",
    "${WORK_DIR}/results/peaks/all_merged.peaks.bed.gz"
   ]
  },
  {
   "cell_type": "markdown",
   "metadata": {},
   "source": [
    "For advanced or ambitious students: \n",
    "Use the HOMER software suite to perform discriminative discovery."
   ]
  }
 ],
 "metadata": {
  "kernelspec": {
   "display_name": "Python 2",
   "language": "python",
   "name": "python2"
  },
  "language_info": {
   "codemirror_mode": {
    "name": "ipython",
    "version": 2
   },
   "file_extension": ".py",
   "mimetype": "text/x-python",
   "name": "python",
   "nbconvert_exporter": "python",
   "pygments_lexer": "ipython2",
   "version": "2.7.12"
  }
 },
 "nbformat": 4,
 "nbformat_minor": 0
}
