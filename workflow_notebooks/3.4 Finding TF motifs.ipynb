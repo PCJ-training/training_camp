{
 "cells": [
  {
   "cell_type": "markdown",
   "metadata": {},
   "source": [
    "# Finding TF motifs # "
   ]
  },
  {
   "cell_type": "markdown",
   "metadata": {},
   "source": [
    "### IMPORTANT: Please make sure that you are using the bash kernel to run this notebook. ###\n",
    "### IMPORTANT: Run the command below to git pull and make sure you are running the latest code!! ###\n",
    "#### (Do this at the beginning of every session) ###"
   ]
  },
  {
   "cell_type": "code",
   "execution_count": null,
   "metadata": {
    "collapsed": false
   },
   "outputs": [],
   "source": [
    "#cd /srv/scratch/training_camp/tc2017/`whoami`/src/training_camp\n",
    "#git stash \n",
    "#git pull "
   ]
  },
  {
   "cell_type": "code",
   "execution_count": null,
   "metadata": {
    "collapsed": false
   },
   "outputs": [],
   "source": [
    "### Set up variables storing the location of our data\n",
    "### The proper way to load your variables is with the ~/.bashrc command, but this is very slow in iPython \n",
    "export SUNETID=\"$(whoami)\"\n",
    "export WORK_DIR=\"/srv/scratch/training_camp/tc2017/${SUNETID}\"\n",
    "export DATA_DIR=\"${WORK_DIR}/data\"\n",
    "export FASTQ_DIR=\"${DATA_DIR}/fastq/\"\n",
    "export SRC_DIR=\"${WORK_DIR}/src/training_camp/src/\"\n",
    "\n",
    "export ANALYSIS_DIR=\"${WORK_DIR}/analysis/\"\n",
    "export TRIMMED_DIR=\"$ANALYSIS_DIR/trimmed\"\n",
    "export ALIGNMENT_DIR=\"$ANALYSIS_DIR/aligned/\"\n",
    "export TAGALIGN_DIR=\"$ANALYSIS_DIR/tagAlign/\"\n",
    "export PEAKS_DIR=\"$ANALYSIS_DIR/peaks/\"\n",
    "export SIGNAL_DIR=\"${ANALYSIS_DIR}signal/\"\n",
    "export DESEQ_DIR=\"${ANALYSIS_DIR}deseq/\"\n",
    "\n",
    "export FOLDCHANGE_DIR=\"${SIGNAL_DIR}foldChange/\"\n",
    "export COUNTS_DIR=\"${SIGNAL_DIR}counts/\"\n",
    "\n",
    "export YEAST_DIR=\"/srv/scratch/training_camp/saccer3/seq\"\n",
    "export YEAST_INDEX=\"/srv/scratch/training_camp/saccer3/bowtie2_index/saccer3\"\n",
    "export YEAST_CHR=\"/srv/scratch/training_camp/saccer3/sacCer3.chrom.sizes\"\n",
    "\n",
    "export TMP=\"${WORK_DIR}/tmp\"\n",
    "export TEMP=$TMP \n",
    "export TMPDIR=$TMP\n",
    "\n",
    "export RLIBS=$RLIBS:\"/usr/local/lib/R/site-library\"\n",
    "export MASTER_DATA=\"/srv/scratch/training_camp/data/tc2017\""
   ]
  },
  {
   "cell_type": "markdown",
   "metadata": {},
   "source": [
    "In this tutorial, we will focus on identifying motifs in the ATAC-seq peaks: \n",
    "![Analysis pipeline](part6.png)"
   ]
  },
  {
   "cell_type": "markdown",
   "metadata": {},
   "source": [
    "We will look for TF motifs in the open chromatin regions we have identified."
   ]
  },
  {
   "cell_type": "code",
   "execution_count": null,
   "metadata": {
    "collapsed": false
   },
   "outputs": [],
   "source": [
    "export GENOME_FILE_DIR=${ANALYSIS_DIR}genomeFiles\n",
    "mkdir -p ${ANALYSIS_DIR}genomeFiles\n",
    "\n",
    "export MOTIF_DIR=${ANALYSIS_DIR}motifs\n",
    "mkdir -p ${ANALYSIS_DIR}motifs \n",
    "\n",
    "echo $MOTIF_DIR"
   ]
  },
  {
   "cell_type": "markdown",
   "metadata": {},
   "source": [
    "## Scanning for motifs##"
   ]
  },
  {
   "cell_type": "markdown",
   "metadata": {},
   "source": [
    "We will do our motif analysis using the software suite Homer.\n",
    "\n",
    "Homer looks at narrowPeak files located in your $PEAKS_DIR:"
   ]
  },
  {
   "cell_type": "code",
   "execution_count": null,
   "metadata": {
    "collapsed": false
   },
   "outputs": [],
   "source": [
    "#files you can use for the analysis: \n",
    "ls $MASTER_DATA/peaks/*narrowPeak "
   ]
  },
  {
   "cell_type": "code",
   "execution_count": null,
   "metadata": {
    "collapsed": false
   },
   "outputs": [],
   "source": [
    "${SRC_DIR}/find_motifs.sh <ADD FILE NAME FROM *narrowPeak HERE>\n",
    " #add your peak file of interest here "
   ]
  },
  {
   "cell_type": "markdown",
   "metadata": {},
   "source": [
    "For advanced or ambitious students: \n",
    "Use the HOMER software suite to perform discriminative discovery."
   ]
  }
 ],
 "metadata": {
  "kernelspec": {
   "display_name": "Bash",
   "language": "bash",
   "name": "bash"
  },
  "language_info": {
   "codemirror_mode": "shell",
   "file_extension": ".sh",
   "mimetype": "text/x-sh",
   "name": "bash"
  }
 },
 "nbformat": 4,
 "nbformat_minor": 0
}
