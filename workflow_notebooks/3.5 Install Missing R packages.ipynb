{
 "cells": [
  {
   "cell_type": "code",
   "execution_count": 5,
   "metadata": {
    "collapsed": false
   },
   "outputs": [
    {
     "name": "stderr",
     "output_type": "stream",
     "text": [
      "Updating HTML index of packages in '.Library'\n",
      "Making 'packages.html' ... done\n"
     ]
    }
   ],
   "source": [
    "#the gplots package\n",
    "install.packages(\"gplots\",repos='http://cran.us.r-project.org')"
   ]
  },
  {
   "cell_type": "code",
   "execution_count": 3,
   "metadata": {
    "collapsed": false
   },
   "outputs": [
    {
     "name": "stderr",
     "output_type": "stream",
     "text": [
      "Updating HTML index of packages in '.Library'\n",
      "Making 'packages.html' ... done\n",
      "Bioconductor version 3.3 (BiocInstaller 1.22.3), ?biocLite for help\n",
      "BioC_mirror: https://bioconductor.org\n",
      "Using Bioconductor 3.3 (BiocInstaller 1.22.3), R 3.3.1 (2016-06-21).\n",
      "Installing package(s) ‘preprocessCore’\n",
      "Updating HTML index of packages in '.Library'\n",
      "Making 'packages.html' ... done\n",
      "Old packages: 'car', 'caret', 'curl', 'DBI', 'digest', 'dplyr', 'htmlwidgets',\n",
      "  'httr', 'IRdisplay', 'jsonlite', 'knitr', 'lattice', 'maps', 'Matrix',\n",
      "  'mgcv', 'mime', 'quantmod', 'quantreg', 'R6', 'Rcpp', 'RcppEigen', 'repr',\n",
      "  'rmarkdown', 'shiny', 'SparseM', 'stringr', 'survival', 'tibble', 'tidyr'\n"
     ]
    }
   ],
   "source": [
    "#preprocessCore package\n",
    "## try http:// if https:// URLs are not supported\n",
    "source(\"https://bioconductor.org/biocLite.R\")\n",
    "biocLite(\"preprocessCore\")"
   ]
  },
  {
   "cell_type": "code",
   "execution_count": null,
   "metadata": {
    "collapsed": true
   },
   "outputs": [],
   "source": []
  }
 ],
 "metadata": {
  "kernelspec": {
   "display_name": "R",
   "language": "R",
   "name": "ir"
  },
  "language_info": {
   "codemirror_mode": "r",
   "file_extension": ".r",
   "mimetype": "text/x-r-source",
   "name": "R",
   "pygments_lexer": "r",
   "version": "3.3.1"
  }
 },
 "nbformat": 4,
 "nbformat_minor": 1
}
